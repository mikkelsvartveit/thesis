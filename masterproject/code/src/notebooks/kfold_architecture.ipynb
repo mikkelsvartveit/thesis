{
 "cells": [
  {
   "cell_type": "markdown",
   "metadata": {},
   "source": [
    "### Imports\n"
   ]
  },
  {
   "cell_type": "code",
   "execution_count": 1,
   "metadata": {},
   "outputs": [],
   "source": [
    "import numpy as np\n",
    "import torch\n",
    "import torch.nn as nn\n",
    "import torch.optim as optim\n",
    "from torch.utils.data import Subset, DataLoader\n",
    "from sklearn.model_selection import LeaveOneGroupOut, KFold\n",
    "from sklearn.preprocessing import LabelEncoder\n",
    "from torchvision.models import mobilenet_v3_small\n",
    "from tqdm import tqdm\n",
    "\n",
    "from src.dataset_loaders import ISAdetectDataset\n",
    "from src.transforms import GrayScaleImage"
   ]
  },
  {
   "cell_type": "markdown",
   "metadata": {},
   "source": [
    "### Setup\n"
   ]
  },
  {
   "cell_type": "code",
   "execution_count": 2,
   "metadata": {},
   "outputs": [],
   "source": [
    "# Specify the model\n",
    "MODEL = mobilenet_v3_small\n",
    "TARGET_FEATURE = \"architecture\"\n",
    "\n",
    "# Model hyperparameters\n",
    "BATCH_SIZE = 64\n",
    "NUM_EPOCHS = 1\n",
    "LEARNING_RATE = 1e-4\n",
    "\n",
    "# Specify which groups to use as validation set. Set to None to validate all groups.\n",
    "VALIDATION_GROUPS = None\n",
    "# VALIDATION_GROUPS = [\"mips\", \"mipsel\"]\n",
    "\n",
    "# Set to an integer to limit the dataset size. Set to None to disable limit.\n",
    "MAX_FILES_PER_ISA = None"
   ]
  },
  {
   "cell_type": "markdown",
   "metadata": {},
   "source": [
    "### Helper functions\n"
   ]
  },
  {
   "cell_type": "code",
   "execution_count": 3,
   "metadata": {},
   "outputs": [],
   "source": [
    "def get_device():\n",
    "    \"\"\"\n",
    "    Returns 'cuda' if CUDA is available, else 'mps' if Apple Silicon GPU is available,\n",
    "    otherwise 'cpu'.\n",
    "    \"\"\"\n",
    "    device = None\n",
    "    if torch.cuda.is_available():\n",
    "        device = torch.device(\"cuda\")\n",
    "    elif torch.backends.mps.is_available():\n",
    "        device = torch.device(\"mps\")\n",
    "    else:\n",
    "        device = torch.device(\"cpu\")\n",
    "\n",
    "    print(f\"Using device: {device}\")\n",
    "    return device"
   ]
  },
  {
   "cell_type": "markdown",
   "metadata": {},
   "source": [
    "### Prepare\n"
   ]
  },
  {
   "cell_type": "code",
   "execution_count": 4,
   "metadata": {},
   "outputs": [
    {
     "name": "stdout",
     "output_type": "stream",
     "text": [
      "Using device: cuda\n",
      "groups: {'powerpcspe', 's390', 's390x', 'armhf', 'ppc64el', 'ia64', 'x32', 'powerpc', 'i386', 'mips', 'amd64', 'ppc64', 'mips64el', 'arm64', 'hppa', 'sparc', 'm68k', 'riscv64', 'sparc64', 'mipsel', 'alpha', 'armel', 'sh4'}\n",
      "features: {'powerpcspe', 's390', 's390x', 'armhf', 'ppc64el', 'ia64', 'x32', 'powerpc', 'i386', 'mips', 'amd64', 'ppc64', 'mips64el', 'arm64', 'hppa', 'sparc', 'm68k', 'riscv64', 'sparc64', 'mipsel', 'alpha', 'armel', 'sh4'}\n"
     ]
    }
   ],
   "source": [
    "device = get_device()\n",
    "\n",
    "dataset = ISAdetectDataset(\n",
    "    dataset_path=\"../../dataset/ISAdetect/ISAdetect_full_dataset\",\n",
    "    transform=GrayScaleImage(224, 224),\n",
    "    file_byte_read_limit=224 * 224,\n",
    "    per_architecture_limit=MAX_FILES_PER_ISA,\n",
    ")\n",
    "\n",
    "groups = list(map(lambda x: x[\"architecture\"], dataset.metadata))\n",
    "target_feature = list(map(lambda x: x[TARGET_FEATURE], dataset.metadata))\n",
    "print(f\"groups: {set(groups)}\")\n",
    "print(f\"features: {set(target_feature)}\")"
   ]
  },
  {
   "cell_type": "markdown",
   "metadata": {},
   "source": [
    "### Train and evaluate\n"
   ]
  },
  {
   "cell_type": "code",
   "execution_count": 5,
   "metadata": {},
   "outputs": [
    {
     "name": "stdout",
     "output_type": "stream",
     "text": [
      "\n",
      "=== Fold 1 ===\n",
      "Epoch 1:\n"
     ]
    },
    {
     "name": "stderr",
     "output_type": "stream",
     "text": [
      "100%|██████████| 1356/1356 [00:45<00:00, 30.07it/s]\n"
     ]
    },
    {
     "name": "stdout",
     "output_type": "stream",
     "text": [
      "Test Accuracy: 85.57%\n",
      "\n",
      "=== Fold 2 ===\n",
      "Epoch 1:\n"
     ]
    },
    {
     "name": "stderr",
     "output_type": "stream",
     "text": [
      "100%|██████████| 1356/1356 [00:44<00:00, 30.28it/s]\n"
     ]
    },
    {
     "name": "stdout",
     "output_type": "stream",
     "text": [
      "Test Accuracy: 84.85%\n",
      "\n",
      "=== Fold 3 ===\n",
      "Epoch 1:\n"
     ]
    },
    {
     "name": "stderr",
     "output_type": "stream",
     "text": [
      "100%|██████████| 1356/1356 [00:45<00:00, 29.97it/s]\n"
     ]
    },
    {
     "name": "stdout",
     "output_type": "stream",
     "text": [
      "Test Accuracy: 88.14%\n",
      "\n",
      "=== Fold 4 ===\n",
      "Epoch 1:\n"
     ]
    },
    {
     "name": "stderr",
     "output_type": "stream",
     "text": [
      "100%|██████████| 1356/1356 [00:45<00:00, 30.10it/s]\n"
     ]
    },
    {
     "name": "stdout",
     "output_type": "stream",
     "text": [
      "Test Accuracy: 86.16%\n",
      "\n",
      "=== Fold 5 ===\n",
      "Epoch 1:\n"
     ]
    },
    {
     "name": "stderr",
     "output_type": "stream",
     "text": [
      "100%|██████████| 1356/1356 [00:44<00:00, 30.16it/s]\n"
     ]
    },
    {
     "name": "stdout",
     "output_type": "stream",
     "text": [
      "Test Accuracy: 82.70%\n",
      "\n",
      "=== Fold 6 ===\n",
      "Epoch 1:\n"
     ]
    },
    {
     "name": "stderr",
     "output_type": "stream",
     "text": [
      "100%|██████████| 1356/1356 [00:45<00:00, 29.95it/s]\n"
     ]
    },
    {
     "name": "stdout",
     "output_type": "stream",
     "text": [
      "Test Accuracy: 87.51%\n",
      "\n",
      "=== Fold 7 ===\n",
      "Epoch 1:\n"
     ]
    },
    {
     "name": "stderr",
     "output_type": "stream",
     "text": [
      "100%|██████████| 1356/1356 [00:45<00:00, 29.78it/s]\n"
     ]
    },
    {
     "name": "stdout",
     "output_type": "stream",
     "text": [
      "Test Accuracy: 78.46%\n",
      "\n",
      "=== Fold 8 ===\n",
      "Epoch 1:\n"
     ]
    },
    {
     "name": "stderr",
     "output_type": "stream",
     "text": [
      "100%|██████████| 1356/1356 [00:45<00:00, 29.85it/s]\n"
     ]
    },
    {
     "name": "stdout",
     "output_type": "stream",
     "text": [
      "Test Accuracy: 86.19%\n",
      "\n",
      "=== Fold 9 ===\n",
      "Epoch 1:\n"
     ]
    },
    {
     "name": "stderr",
     "output_type": "stream",
     "text": [
      "100%|██████████| 1356/1356 [00:45<00:00, 29.58it/s]\n"
     ]
    },
    {
     "name": "stdout",
     "output_type": "stream",
     "text": [
      "Test Accuracy: 87.19%\n",
      "\n",
      "=== Fold 10 ===\n",
      "Epoch 1:\n"
     ]
    },
    {
     "name": "stderr",
     "output_type": "stream",
     "text": [
      "100%|██████████| 1356/1356 [00:45<00:00, 29.86it/s]\n"
     ]
    },
    {
     "name": "stdout",
     "output_type": "stream",
     "text": [
      "Test Accuracy: 86.21%\n"
     ]
    }
   ],
   "source": [
    "kfold = KFold(n_splits=10, shuffle=True)\n",
    "label_encoder = LabelEncoder()\n",
    "\n",
    "fold = 1\n",
    "accuracies = {}\n",
    "corrects = {}\n",
    "totals = {}\n",
    "for train_idx, test_idx in kfold.split(\n",
    "    X=range(len(dataset))\n",
    "):\n",
    "\n",
    "    print(f\"\\n=== Fold {fold} ===\")\n",
    "    fold += 1\n",
    "\n",
    "    all_train_labels = [dataset.metadata[i][TARGET_FEATURE] for i in train_idx]\n",
    "    label_encoder.fit(all_train_labels)\n",
    "\n",
    "    train_dataset = Subset(dataset, train_idx)\n",
    "    test_dataset = Subset(dataset, test_idx)\n",
    "\n",
    "    train_loader = DataLoader(\n",
    "        train_dataset, batch_size=BATCH_SIZE, shuffle=True, num_workers=8\n",
    "    )\n",
    "    test_loader = DataLoader(\n",
    "        test_dataset, batch_size=BATCH_SIZE, shuffle=False, num_workers=8\n",
    "    )\n",
    "\n",
    "    model = MODEL(num_classes=23, weights=None)\n",
    "    model.features[0][0] = nn.Conv2d(\n",
    "        1, 16, kernel_size=3, stride=2, padding=1, bias=False\n",
    "    )\n",
    "\n",
    "    model = model.to(device)\n",
    "    criterion = nn.CrossEntropyLoss()\n",
    "    optimizer = optim.Adam(model.parameters(), lr=LEARNING_RATE)\n",
    "\n",
    "    # Train model\n",
    "    for epoch in range(NUM_EPOCHS):\n",
    "        model.train()\n",
    "        print(f\"Epoch {epoch+1}:\")\n",
    "\n",
    "        for images, labels in tqdm(train_loader):\n",
    "            images = images.to(device)\n",
    "\n",
    "            encoded_labels = torch.from_numpy(\n",
    "                label_encoder.transform(labels[TARGET_FEATURE])\n",
    "            ).to(device)\n",
    "\n",
    "            optimizer.zero_grad()\n",
    "            predictions = model(images)\n",
    "            loss = criterion(predictions, encoded_labels)\n",
    "            loss.backward()\n",
    "            optimizer.step()\n",
    "\n",
    "        # Evaluate model\n",
    "        model.eval()\n",
    "        correct = 0\n",
    "        total = 0\n",
    "        with torch.no_grad():\n",
    "            for images, labels in test_loader:\n",
    "                images = images.to(device)\n",
    "                encoded_labels = torch.from_numpy(\n",
    "                    label_encoder.transform(labels[TARGET_FEATURE])\n",
    "                ).to(device)\n",
    "\n",
    "                outputs = model(images)\n",
    "\n",
    "                _, predicted = torch.max(outputs, 1)\n",
    "                correct += (predicted == encoded_labels).sum().item()\n",
    "                total += encoded_labels.size(0)\n",
    "\n",
    "                for i in range(len(predicted)):\n",
    "                    # add accuracy per architecture\n",
    "                    arch = label_encoder.inverse_transform([encoded_labels[i].item()])[0]\n",
    "                    if predicted[i] == encoded_labels[i]:\n",
    "                        corrects[arch] = corrects.get(arch, 0) + 1\n",
    "                    totals[arch] = totals.get(arch, 0) + 1\n",
    "\n",
    "        accuracy = correct / total\n",
    "        print(f\"Test Accuracy: {100*accuracy:.2f}%\")\n",
    "\n",
    "    accuracies[fold] = accuracy"
   ]
  },
  {
   "cell_type": "markdown",
   "metadata": {},
   "source": [
    "### Evaluate\n"
   ]
  },
  {
   "cell_type": "code",
   "execution_count": 7,
   "metadata": {},
   "outputs": [
    {
     "name": "stdout",
     "output_type": "stream",
     "text": [
      "Test accuracies for each architecture:\n",
      "alpha: 97.33%\n",
      "mips: 92.82%\n",
      "sh4: 91.08%\n",
      "armel: 97.42%\n",
      "powerpcspe: 60.74%\n",
      "sparc64: 66.30%\n",
      "x32: 58.43%\n",
      "sparc: 80.26%\n",
      "powerpc: 65.05%\n",
      "ia64: 98.46%\n",
      "i386: 75.55%\n",
      "hppa: 96.83%\n",
      "mipsel: 93.17%\n",
      "m68k: 91.50%\n",
      "ppc64: 92.76%\n",
      "armhf: 91.34%\n",
      "s390x: 96.38%\n",
      "ppc64el: 95.66%\n",
      "mips64el: 94.64%\n",
      "riscv64: 87.66%\n",
      "arm64: 97.08%\n",
      "s390: 95.33%\n",
      "amd64: 43.63%\n",
      "\n",
      "Average LOGO cross-validated test accuracy: 0.8530 ± 0.0270\n"
     ]
    }
   ],
   "source": [
    "print(\"Test accuracies for each architecture:\")\n",
    "for arch, correct_count in corrects.items():\n",
    "    print(f\"{arch}: {100*correct_count/totals[arch]:.2f}%\")\n",
    "\n",
    "\n",
    "# Print overall performance across folds\n",
    "mean_acc = np.mean(list(accuracies.values()))\n",
    "std_acc = np.std(list(accuracies.values()))\n",
    "print(f\"\\nAverage LOGO cross-validated test accuracy: {mean_acc:.4f} ± {std_acc:.4f}\")"
   ]
  },
  {
   "cell_type": "code",
   "execution_count": null,
   "metadata": {},
   "outputs": [],
   "source": []
  }
 ],
 "metadata": {
  "kernelspec": {
   "display_name": ".venv",
   "language": "python",
   "name": "python3"
  },
  "language_info": {
   "codemirror_mode": {
    "name": "ipython",
    "version": 3
   },
   "file_extension": ".py",
   "mimetype": "text/x-python",
   "name": "python",
   "nbconvert_exporter": "python",
   "pygments_lexer": "ipython3",
   "version": "3.12.3"
  }
 },
 "nbformat": 4,
 "nbformat_minor": 2
}
