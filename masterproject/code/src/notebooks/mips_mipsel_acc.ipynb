{
 "cells": [
  {
   "cell_type": "code",
   "execution_count": 1,
   "metadata": {},
   "outputs": [
    {
     "name": "stdout",
     "output_type": "stream",
     "text": [
      "Using MPS\n",
      "Epoch 1/5, Step 100, Loss: 32.29051971435547\n",
      "Epoch 1/5, Loss: 31.258201599121094\n",
      "Epoch 2/5, Step 100, Loss: 13.791988372802734\n",
      "Epoch 2/5, Loss: 0.23960690200328827\n",
      "Epoch 3/5, Step 100, Loss: 0.15108178555965424\n",
      "Epoch 3/5, Loss: 0.0887766107916832\n",
      "Epoch 4/5, Step 100, Loss: 0.05474809557199478\n",
      "Epoch 4/5, Loss: 0.15646892786026\n",
      "Epoch 5/5, Step 100, Loss: 0.11293213814496994\n",
      "Epoch 5/5, Loss: 0.0236424021422863\n",
      "Accuracy: 0.9884\n"
     ]
    }
   ],
   "source": [
    "import torch\n",
    "import torch.nn as nn\n",
    "from src.models import EndiannessModel\n",
    "from src.dataset_loaders.ISAdetect_mips_mipsel import create_train_test_dataloaders\n",
    "\n",
    "# Check for available device\n",
    "if torch.cuda.is_available():\n",
    "    device = torch.device(\"cuda\")\n",
    "    print(\"Using CUDA\")\n",
    "elif torch.backends.mps.is_available():\n",
    "    device = torch.device(\"mps\")\n",
    "    print(\"Using MPS\")\n",
    "else:\n",
    "    device = torch.device(\"cpu\")\n",
    "    print(\"Using CPU\")\n",
    "\n",
    "# Create dataloaders\n",
    "mips_dir = \"../../dataset/ISAdetect/ISAdetect_full_dataset/mips\"\n",
    "mipsel_dir = \"../../dataset/ISAdetect/ISAdetect_full_dataset/mipsel\"\n",
    "train_loader, test_loader = create_train_test_dataloaders(\n",
    "    mips_dir=mips_dir, mipsel_dir=mipsel_dir, test_split=0.2\n",
    ")\n",
    "\n",
    "# Initialize model and move to device\n",
    "model = EndiannessModel().to(device)\n",
    "criterion = nn.BCELoss()\n",
    "optimizer = torch.optim.Adam(model.parameters())\n",
    "\n",
    "num_epochs = 5"
   ]
  },
  {
   "cell_type": "code",
   "execution_count": null,
   "metadata": {},
   "outputs": [],
   "source": [
    "# Training loop\n",
    "for epoch in range(num_epochs):\n",
    "    model.train()\n",
    "    for i, (batch_x, batch_y) in enumerate(train_loader):\n",
    "        # Move batch to device\n",
    "        batch_x = batch_x.to(device)\n",
    "        batch_y = batch_y.to(device)\n",
    "\n",
    "        optimizer.zero_grad()\n",
    "        output = model(batch_x)\n",
    "        targets = batch_y.unsqueeze(1)\n",
    "        loss = criterion(output, targets)\n",
    "        loss.backward()\n",
    "        optimizer.step()\n",
    "\n",
    "        if (i + 1) % 100 == 0:\n",
    "            print(f\"Epoch {epoch+1}/{num_epochs}, Step {i+1}, Loss: {loss.item()}\")\n",
    "    print(f\"Epoch {epoch+1}/{num_epochs}, Loss: {loss.item()}\")"
   ]
  },
  {
   "cell_type": "code",
   "execution_count": null,
   "metadata": {},
   "outputs": [],
   "source": [
    "# Test model\n",
    "model.eval()\n",
    "with torch.no_grad():\n",
    "    correct = 0\n",
    "    total = 0\n",
    "    for batch_x, batch_y in test_loader:\n",
    "        # Move batch to device\n",
    "        batch_x = batch_x.to(device)\n",
    "        batch_y = batch_y.to(device)\n",
    "\n",
    "        output = model(batch_x)\n",
    "        predictions = (output >= 0.5).squeeze().float()\n",
    "        correct += (predictions == batch_y).sum().item()\n",
    "        total += batch_y.size(0)\n",
    "\n",
    "    accuracy = correct / total\n",
    "    print(f\"Accuracy: {accuracy:.4f}\")"
   ]
  }
 ],
 "metadata": {
  "kernelspec": {
   "display_name": ".venv",
   "language": "python",
   "name": "python3"
  },
  "language_info": {
   "codemirror_mode": {
    "name": "ipython",
    "version": 3
   },
   "file_extension": ".py",
   "mimetype": "text/x-python",
   "name": "python",
   "nbconvert_exporter": "python",
   "pygments_lexer": "ipython3",
   "version": "3.12.8"
  }
 },
 "nbformat": 4,
 "nbformat_minor": 2
}
