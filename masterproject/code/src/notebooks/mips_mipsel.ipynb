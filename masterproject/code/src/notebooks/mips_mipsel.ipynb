{
 "cells": [
  {
   "cell_type": "code",
   "execution_count": 1,
   "metadata": {},
   "outputs": [],
   "source": [
    "import torch\n",
    "import torch.nn as nn\n",
    "from torch.utils.data import DataLoader, random_split\n",
    "from src.models import EndiannessModel\n",
    "from src.dataset_loaders import MipsMipselDataset, random_train_test_split\n",
    "from src.transforms import EndiannessCount\n",
    "\n",
    "num_epochs = 2\n",
    "learning_rate = 0.001\n",
    "batch_size = 4\n",
    "SEED = 42\n",
    "\n",
    "# Create dataloaders\n",
    "mips_dir = \"../../dataset/ISAdetect/ISAdetect_full_dataset/mips\"\n",
    "mipsel_dir = \"../../dataset/ISAdetect/ISAdetect_full_dataset/mipsel\"\n",
    "\n",
    "dataset = MipsMipselDataset(mips_dir, mipsel_dir, transform=EndiannessCount())\n",
    "train_set, test_set = random_train_test_split(dataset, test_split=0.2, seed=SEED)\n",
    "\n",
    "train_loader = DataLoader(train_set, batch_size=batch_size, shuffle=True, num_workers=1)\n",
    "test_loader = DataLoader(test_set, batch_size=batch_size, shuffle=False, num_workers=1)"
   ]
  },
  {
   "cell_type": "code",
   "execution_count": 2,
   "metadata": {},
   "outputs": [
    {
     "name": "stdout",
     "output_type": "stream",
     "text": [
      "Training model...\n",
      "before enumerate 0\n",
      "starting_epoch 0\n",
      "Step 146, Loss: 0.11894682049751282\n",
      "Step 292, Loss: 0.000629525980912149\n",
      "Step 438, Loss: 0.004226872231811285\n",
      "Step 584, Loss: 0.007108584977686405\n",
      "Step 730, Loss: 0.03126688301563263\n",
      "Step 876, Loss: 0.0006168913678266108\n",
      "Step 1022, Loss: 0.031408365815877914\n",
      "Step 1168, Loss: 0.0\n",
      "Step 1314, Loss: 0.00620176550000906\n",
      "Step 1460, Loss: 0.0059243785217404366\n",
      "Epoch 1/2, Loss: 0.0005811500595882535\n",
      "before enumerate 1\n",
      "starting_epoch 1\n",
      "Step 146, Loss: 0.0011509942123666406\n",
      "Step 292, Loss: 0.006798191461712122\n",
      "Step 438, Loss: 0.00038724931073375046\n",
      "Step 584, Loss: 2.0265497369109653e-06\n",
      "Step 730, Loss: 0.0038630468770861626\n",
      "Step 876, Loss: 0.005509813316166401\n",
      "Step 1022, Loss: 5.92399992456194e-05\n",
      "Step 1168, Loss: 0.007289537228643894\n",
      "Step 1314, Loss: 0.001799143967218697\n",
      "Step 1460, Loss: 0.0005013977643102407\n",
      "Epoch 2/2, Loss: 0.0\n"
     ]
    }
   ],
   "source": [
    "model = EndiannessModel(with_sigmoid=False)\n",
    "criterion = nn.BCEWithLogitsLoss()\n",
    "optimizer = torch.optim.Adam(model.parameters(), lr=learning_rate)\n",
    "\n",
    "print(\"Training model...\")\n",
    "# Training loop\n",
    "for epoch in range(num_epochs):\n",
    "    print(f\"before enumerate {epoch}\")\n",
    "    for i, (batch_x, batch_y) in enumerate(train_loader):\n",
    "        if i == 0:\n",
    "            print(f\"starting_epoch {epoch}\")\n",
    "        optimizer.zero_grad()\n",
    "        output = model(batch_x)\n",
    "        targets = batch_y.unsqueeze(1)\n",
    "        loss = criterion(output, targets)\n",
    "        loss.backward()\n",
    "        optimizer.step()\n",
    "\n",
    "        # if epoch == 0 and i < 10:\n",
    "        #     print(f\"Initial loss: {loss.item()}\")\n",
    "\n",
    "        if (i + 1) % (len(train_loader) // 10) == 0:\n",
    "            print(f\"Step {i+1}, Loss: {loss.item()}\")\n",
    "    print(f\"Epoch {epoch+1}/{num_epochs}, Loss: {loss.item()}\")"
   ]
  },
  {
   "cell_type": "code",
   "execution_count": 3,
   "metadata": {},
   "outputs": [
    {
     "name": "stdout",
     "output_type": "stream",
     "text": [
      "Accuracy: 0.9986376021798365\n",
      "Class 1: 761, Total: 1468, Percentage: 0.5183923705722071\n"
     ]
    }
   ],
   "source": [
    "# Test model\n",
    "model.eval()\n",
    "with torch.no_grad():\n",
    "    correct = 0\n",
    "    total = 0\n",
    "    class_1 = 0\n",
    "    for batch_x, batch_y in test_loader:\n",
    "        output = model(batch_x)\n",
    "        for i in range(len(output)):\n",
    "            if output[i] >= 0.5:\n",
    "                pred = 1\n",
    "            else:\n",
    "                pred = 0\n",
    "            if pred == batch_y[i]:\n",
    "                correct += 1\n",
    "            if batch_y[i] == 1:\n",
    "                class_1 += 1\n",
    "            total += 1\n",
    "    print(f\"Accuracy: {correct/total}\")\n",
    "    print(f\"Class 1: {class_1}, Total: {total}, Percentage: {class_1/total}\")"
   ]
  }
 ],
 "metadata": {
  "kernelspec": {
   "display_name": ".venv",
   "language": "python",
   "name": "python3"
  },
  "language_info": {
   "codemirror_mode": {
    "name": "ipython",
    "version": 3
   },
   "file_extension": ".py",
   "mimetype": "text/x-python",
   "name": "python",
   "nbconvert_exporter": "python",
   "pygments_lexer": "ipython3",
   "version": "3.12.8"
  }
 },
 "nbformat": 4,
 "nbformat_minor": 2
}
