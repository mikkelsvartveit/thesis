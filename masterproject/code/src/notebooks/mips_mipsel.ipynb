{
 "cells": [
  {
   "cell_type": "code",
   "execution_count": 1,
   "metadata": {},
   "outputs": [],
   "source": [
    "import torch\n",
    "import torch.nn as nn\n",
    "from src.models import EndiannessModel\n",
    "from src.dataset_loaders.ISAdetect_mips_mipsel import create_train_test_dataloaders\n",
    "\n",
    "# Create dataloaders\n",
    "mips_dir = \"../../dataset/ISAdetect/ISAdetect_full_dataset/mips\"\n",
    "mipsel_dir = \"../../dataset/ISAdetect/ISAdetect_full_dataset/mipsel\"\n",
    "train_loader, test_loader = create_train_test_dataloaders(\n",
    "    mips_dir=mips_dir, mipsel_dir=mipsel_dir, test_split=0.2\n",
    ")\n",
    "\n",
    "# Train model\n",
    "model = EndiannessModel()\n",
    "criterion = nn.BCELoss()\n",
    "optimizer = torch.optim.Adam(model.parameters())\n",
    "\n",
    "num_epochs = 5"
   ]
  },
  {
   "cell_type": "code",
   "execution_count": 2,
   "metadata": {},
   "outputs": [
    {
     "name": "stdout",
     "output_type": "stream",
     "text": [
      "Epoch 1/5, Step 100, Loss: 32.29051971435547\n",
      "Epoch 1/5, Loss: 31.258201599121094\n",
      "Epoch 2/5, Step 100, Loss: 13.791988372802734\n",
      "Epoch 2/5, Loss: 0.23960694670677185\n",
      "Epoch 3/5, Step 100, Loss: 0.15108181536197662\n",
      "Epoch 3/5, Loss: 0.08877663314342499\n",
      "Epoch 4/5, Step 100, Loss: 0.054748114198446274\n",
      "Epoch 4/5, Loss: 0.1564689725637436\n",
      "Epoch 5/5, Step 100, Loss: 0.11293213069438934\n",
      "Epoch 5/5, Loss: 0.023642418906092644\n"
     ]
    }
   ],
   "source": [
    "# Training loop\n",
    "for epoch in range(num_epochs):\n",
    "    for i, (batch_x, batch_y) in enumerate(train_loader):\n",
    "        optimizer.zero_grad()\n",
    "        output = model(batch_x)\n",
    "        targets = batch_y.unsqueeze(1)\n",
    "        loss = criterion(output, targets)\n",
    "        loss.backward()\n",
    "        optimizer.step()\n",
    "\n",
    "        if (i + 1) % 100 == 0:\n",
    "            print(f\"Epoch {epoch+1}/{num_epochs}, Step {i+1}, Loss: {loss.item()}\")\n",
    "    print(f\"Epoch {epoch+1}/{num_epochs}, Loss: {loss.item()}\")"
   ]
  },
  {
   "cell_type": "code",
   "execution_count": 3,
   "metadata": {},
   "outputs": [
    {
     "name": "stdout",
     "output_type": "stream",
     "text": [
      "Accuracy: 0.9884196185286104\n"
     ]
    }
   ],
   "source": [
    "# Test model\n",
    "model.eval()\n",
    "with torch.no_grad():\n",
    "    correct = 0\n",
    "    total = 0\n",
    "    for batch_x, batch_y in test_loader:\n",
    "        output = model(batch_x)\n",
    "        for i in range(len(output)):\n",
    "            if output[i] >= 0.5:\n",
    "                pred = 1\n",
    "            else:\n",
    "                pred = 0\n",
    "            if pred == batch_y[i]:\n",
    "                correct += 1\n",
    "            total += 1\n",
    "    print(f\"Accuracy: {correct/total}\")"
   ]
  }
 ],
 "metadata": {
  "kernelspec": {
   "display_name": ".venv",
   "language": "python",
   "name": "python3"
  },
  "language_info": {
   "codemirror_mode": {
    "name": "ipython",
    "version": 3
   },
   "file_extension": ".py",
   "mimetype": "text/x-python",
   "name": "python",
   "nbconvert_exporter": "python",
   "pygments_lexer": "ipython3",
   "version": "3.12.8"
  }
 },
 "nbformat": 4,
 "nbformat_minor": 2
}
