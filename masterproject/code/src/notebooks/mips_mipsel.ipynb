{
 "cells": [
  {
   "cell_type": "code",
   "execution_count": 18,
   "metadata": {},
   "outputs": [
    {
     "ename": "TypeError",
     "evalue": "BCELoss.__init__() got an unexpected keyword argument 'lr'",
     "output_type": "error",
     "traceback": [
      "\u001b[0;31m---------------------------------------------------------------------------\u001b[0m",
      "\u001b[0;31mTypeError\u001b[0m                                 Traceback (most recent call last)",
      "Cell \u001b[0;32mIn[18], line 17\u001b[0m\n\u001b[1;32m     15\u001b[0m \u001b[38;5;66;03m# Train model\u001b[39;00m\n\u001b[1;32m     16\u001b[0m model \u001b[38;5;241m=\u001b[39m EndiannessModel()\n\u001b[0;32m---> 17\u001b[0m criterion \u001b[38;5;241m=\u001b[39m \u001b[43mnn\u001b[49m\u001b[38;5;241;43m.\u001b[39;49m\u001b[43mBCELoss\u001b[49m\u001b[43m(\u001b[49m\u001b[43mlr\u001b[49m\u001b[38;5;241;43m=\u001b[39;49m\u001b[38;5;241;43m0.001\u001b[39;49m\u001b[43m)\u001b[49m\n\u001b[1;32m     18\u001b[0m optimizer \u001b[38;5;241m=\u001b[39m torch\u001b[38;5;241m.\u001b[39moptim\u001b[38;5;241m.\u001b[39mAdam(model\u001b[38;5;241m.\u001b[39mparameters())\n\u001b[1;32m     20\u001b[0m num_epochs \u001b[38;5;241m=\u001b[39m \u001b[38;5;241m5\u001b[39m\n",
      "\u001b[0;31mTypeError\u001b[0m: BCELoss.__init__() got an unexpected keyword argument 'lr'"
     ]
    }
   ],
   "source": [
    "import torch\n",
    "import torch.nn as nn\n",
    "from src.models import EndiannessModel\n",
    "from src.dataset_loaders.ISAdetect_mips_mipsel import create_train_test_dataloaders\n",
    "\n",
    "# Create dataloaders\n",
    "mips_dir = \"../../dataset/ISAdetect/ISAdetect_full_dataset/mips\"\n",
    "mipsel_dir = \"../../dataset/ISAdetect/ISAdetect_full_dataset/mipsel\"\n",
    "train_loader, test_loader = create_train_test_dataloaders(\n",
    "    mips_dir=mips_dir,\n",
    "    mipsel_dir=mipsel_dir,\n",
    "    test_split=0.2\n",
    ")\n",
    "\n",
    "# Train model\n",
    "model = EndiannessModel()\n",
    "criterion = nn.BCELoss()\n",
    "optimizer = torch.optim.Adam(model.parameters())\n",
    "\n",
    "num_epochs = 5\n"
   ]
  },
  {
   "cell_type": "code",
   "execution_count": 16,
   "metadata": {},
   "outputs": [
    {
     "name": "stdout",
     "output_type": "stream",
     "text": [
      "Epoch 1/5, Step 100, Loss: 20.89256477355957\n",
      "Epoch 1/5, Loss: 14.145438194274902\n",
      "Epoch 2/5, Step 100, Loss: 9.966058731079102\n",
      "Epoch 2/5, Loss: 0.38759949803352356\n",
      "Epoch 3/5, Step 100, Loss: 0.3554658889770508\n",
      "Epoch 3/5, Loss: 0.2519247531890869\n",
      "Epoch 4/5, Step 100, Loss: 0.27304717898368835\n",
      "Epoch 4/5, Loss: 0.2642618417739868\n",
      "Epoch 5/5, Step 100, Loss: 0.34916192293167114\n",
      "Epoch 5/5, Loss: 0.3419642448425293\n"
     ]
    }
   ],
   "source": [
    "\n",
    "\n",
    "# Training loop\n",
    "for epoch in range(num_epochs):\n",
    "    for i, (batch_x, batch_y) in enumerate(train_loader):\n",
    "        optimizer.zero_grad()\n",
    "        output = model(batch_x)\n",
    "        targets = batch_y.unsqueeze(1)\n",
    "        loss = criterion(output, targets)\n",
    "        loss.backward()\n",
    "        optimizer.step()\n",
    "\n",
    "        if (i+1) % 100 == 0:\n",
    "            print(f\"Epoch {epoch+1}/{num_epochs}, Step {i+1}, Loss: {loss.item()}\")\n",
    "    print(f\"Epoch {epoch+1}/{num_epochs}, Loss: {loss.item()}\")"
   ]
  },
  {
   "cell_type": "code",
   "execution_count": 17,
   "metadata": {},
   "outputs": [
    {
     "name": "stdout",
     "output_type": "stream",
     "text": [
      "Accuracy: 0.997275204359673\n"
     ]
    }
   ],
   "source": [
    "\n",
    "# Test model\n",
    "model.eval()\n",
    "with torch.no_grad():\n",
    "    correct = 0\n",
    "    total = 0\n",
    "    for batch_x, batch_y in test_loader:\n",
    "        output = model(batch_x)\n",
    "        for i in range(len(output)):\n",
    "            if output[i] >= 0.5:\n",
    "                pred = 1\n",
    "            else:\n",
    "                pred = 0\n",
    "            if pred == batch_y[i]:\n",
    "                correct += 1\n",
    "            total += 1\n",
    "    print(f\"Accuracy: {correct/total}\")\n"
   ]
  }
 ],
 "metadata": {
  "kernelspec": {
   "display_name": ".venv",
   "language": "python",
   "name": "python3"
  },
  "language_info": {
   "codemirror_mode": {
    "name": "ipython",
    "version": 3
   },
   "file_extension": ".py",
   "mimetype": "text/x-python",
   "name": "python",
   "nbconvert_exporter": "python",
   "pygments_lexer": "ipython3",
   "version": "3.12.8"
  }
 },
 "nbformat": 4,
 "nbformat_minor": 2
}
