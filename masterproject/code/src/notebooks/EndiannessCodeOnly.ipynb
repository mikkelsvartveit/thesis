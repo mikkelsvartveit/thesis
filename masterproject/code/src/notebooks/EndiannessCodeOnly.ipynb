{
 "cells": [
  {
   "cell_type": "code",
   "execution_count": 1,
   "metadata": {},
   "outputs": [],
   "source": [
    "import torch\n",
    "import torch.nn as nn\n",
    "from torch.utils.data import DataLoader\n",
    "from src.models import EndiannessModel\n",
    "from src.dataset_loaders import ISAdetectCodeOnlyDataset, random_train_test_split\n",
    "from src.transforms import EndiannessCount\n",
    "\n",
    "num_epochs = 2\n",
    "learning_rate = 0.001\n",
    "batch_size = 4\n",
    "SEED = 42\n",
    "\n",
    "# Create dataloaders\n",
    "mips_dir = \"../../dataset/ISAdetect/ISAdetect_full_dataset/mips\"\n",
    "mipsel_dir = \"../../dataset/ISAdetect/ISAdetect_full_dataset/mipsel\"\n",
    "\n",
    "dataset = ISAdetectCodeOnlyDataset(\n",
    "    dataset_path=\"../../dataset/ISAdetect/ISAdetect_full_dataset\",\n",
    "    transform=EndiannessCount(),\n",
    "    file_byte_read_limit=2 * (2**10),\n",
    ")\n",
    "train_set, test_set = random_train_test_split(dataset, test_split=0.2, seed=SEED)\n",
    "\n",
    "train_loader = DataLoader(train_set, batch_size=batch_size, shuffle=True, num_workers=1)\n",
    "test_loader = DataLoader(test_set, batch_size=batch_size, shuffle=False, num_workers=1)"
   ]
  },
  {
   "cell_type": "code",
   "execution_count": 6,
   "metadata": {},
   "outputs": [
    {
     "name": "stdout",
     "output_type": "stream",
     "text": [
      "Training model...\n",
      "before enumerate 0\n",
      "starting_epoch 0\n",
      "Step 1927, Loss: 0.3149182200431824\n",
      "Step 3854, Loss: 1.3296594619750977\n",
      "Step 5781, Loss: 0.3655053973197937\n",
      "Step 7708, Loss: 0.004180599004030228\n",
      "Step 9635, Loss: 0.42354816198349\n",
      "Step 11562, Loss: 0.15268521010875702\n",
      "Step 13489, Loss: 0.057835064828395844\n",
      "Step 15416, Loss: 0.24987410008907318\n",
      "Step 17343, Loss: 0.41581445932388306\n",
      "Step 19270, Loss: 0.16576813161373138\n",
      "Epoch 1/2, Loss: 0.0038063274696469307\n",
      "before enumerate 1\n",
      "starting_epoch 1\n",
      "Step 1927, Loss: 0.0015092723770067096\n",
      "Step 3854, Loss: 0.14278145134449005\n",
      "Step 5781, Loss: 0.0849192813038826\n",
      "Step 7708, Loss: 0.023575587198138237\n",
      "Step 9635, Loss: 0.09041085839271545\n",
      "Step 11562, Loss: 0.30729275941848755\n",
      "Step 13489, Loss: 0.005693867802619934\n",
      "Step 15416, Loss: 2.672973871231079\n",
      "Step 17343, Loss: 0.2027324140071869\n",
      "Step 19270, Loss: 0.0023603406734764576\n",
      "Epoch 2/2, Loss: 0.01830695942044258\n"
     ]
    }
   ],
   "source": [
    "model = EndiannessModel(with_sigmoid=False)\n",
    "criterion = nn.BCEWithLogitsLoss()\n",
    "optimizer = torch.optim.Adam(model.parameters(), lr=learning_rate)\n",
    "\n",
    "endianness_map = {\"little\": 0, \"big\": 1}\n",
    "\n",
    "print(\"Training model...\")\n",
    "# Training loop\n",
    "for epoch in range(num_epochs):\n",
    "    print(f\"before enumerate {epoch}\")\n",
    "    for i, (batch_x, batch_y) in enumerate(train_loader):\n",
    "        if i == 0:\n",
    "            print(f\"starting_epoch {epoch}\")\n",
    "        optimizer.zero_grad()\n",
    "        output = model(batch_x)\n",
    "        targets = torch.tensor(\n",
    "            [endianness_map[e] for e in batch_y[\"endianness\"]], dtype=torch.float32\n",
    "        )\n",
    "        loss = criterion(output, targets.unsqueeze(1))\n",
    "        loss.backward()\n",
    "        optimizer.step()\n",
    "\n",
    "        # if epoch == 0 and i < 10:\n",
    "        #     print(f\"Initial loss: {loss.item()}\")\n",
    "\n",
    "        if (i + 1) % (len(train_loader) // 10) == 0:\n",
    "            print(f\"Step {i+1}, Loss: {loss.item()}\")\n",
    "    print(f\"Epoch {epoch+1}/{num_epochs}, Loss: {loss.item()}\")"
   ]
  },
  {
   "cell_type": "code",
   "execution_count": 9,
   "metadata": {},
   "outputs": [
    {
     "name": "stdout",
     "output_type": "stream",
     "text": [
      "Accuracy: 0.8990092847139375\n",
      "Class 1: 8092, Total: 19279, Percentage: 0.41973131386482704\n"
     ]
    }
   ],
   "source": [
    "# Test model\n",
    "model.eval()\n",
    "with torch.no_grad():\n",
    "    correct = 0\n",
    "    total = 0\n",
    "    class_1 = 0\n",
    "    for batch_x, batch_y in test_loader:\n",
    "        output = model(batch_x)\n",
    "        batch_y = [endianness_map[e] for e in batch_y[\"endianness\"]]\n",
    "        for i in range(len(output)):\n",
    "            if output[i] >= 0.5:\n",
    "                pred = 1\n",
    "            else:\n",
    "                pred = 0\n",
    "            if pred == batch_y[i]:\n",
    "                correct += 1\n",
    "            if batch_y[i] == 1:\n",
    "                class_1 += 1\n",
    "            total += 1\n",
    "    print(f\"Accuracy: {correct/total}\")\n",
    "    print(f\"Class 1: {class_1}, Total: {total}, Percentage: {class_1/total}\")"
   ]
  }
 ],
 "metadata": {
  "kernelspec": {
   "display_name": ".venv",
   "language": "python",
   "name": "python3"
  },
  "language_info": {
   "codemirror_mode": {
    "name": "ipython",
    "version": 3
   },
   "file_extension": ".py",
   "mimetype": "text/x-python",
   "name": "python",
   "nbconvert_exporter": "python",
   "pygments_lexer": "ipython3",
   "version": "3.12.8"
  }
 },
 "nbformat": 4,
 "nbformat_minor": 2
}
