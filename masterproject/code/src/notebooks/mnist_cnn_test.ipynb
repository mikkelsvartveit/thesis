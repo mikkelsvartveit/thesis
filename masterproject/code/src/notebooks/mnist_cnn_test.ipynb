{
 "cells": [
  {
   "cell_type": "code",
   "execution_count": 1,
   "metadata": {},
   "outputs": [
    {
     "name": "stdout",
     "output_type": "stream",
     "text": [
      "device=device(type='mps')\n",
      "train_dataset.data.shape=torch.Size([60000, 28, 28])\n",
      "test_dataset.data.shape=torch.Size([10000, 28, 28])\n"
     ]
    }
   ],
   "source": [
    "import torch\n",
    "import torch.nn as nn\n",
    "import torch.optim as optim\n",
    "from torchvision import datasets, transforms\n",
    "from torch.utils.data import DataLoader\n",
    "\n",
    "\n",
    "# Device configuration\n",
    "device = torch.device(\n",
    "    \"cuda\"\n",
    "    if torch.cuda.is_available()\n",
    "    else \"mps\" if torch.backends.mps.is_available() else \"cpu\"\n",
    ")\n",
    "print(f\"{device=}\")\n",
    "\n",
    "# mnist dataset\n",
    "train_dataset = datasets.MNIST(\n",
    "    root=\"../../dataset/\", train=True, transform=transforms.ToTensor(), download=True\n",
    ")\n",
    "\n",
    "test_dataset = datasets.MNIST(\n",
    "    root=\"../../dataset/\", train=False, transform=transforms.ToTensor(), download=True\n",
    ")\n",
    "\n",
    "\n",
    "print(f\"{train_dataset.data.shape=}\")\n",
    "print(f\"{test_dataset.data.shape=}\")\n",
    "\n",
    "\n",
    "# hyperparameters\n",
    "num_classes = 10\n",
    "num_epochs = 3\n",
    "batch_size = 100\n",
    "learning_rate = 0.001\n",
    "\n",
    "# data loader\n",
    "train_loader = DataLoader(dataset=train_dataset, batch_size=batch_size, shuffle=True)\n",
    "test_loader = DataLoader(dataset=test_dataset, batch_size=batch_size, shuffle=False)\n",
    "\n",
    "\n",
    "class CNNModel(nn.Module):\n",
    "    def __init__(self):\n",
    "        super(CNNModel, self).__init__()\n",
    "        self.layer1 = nn.Sequential(\n",
    "            nn.Conv2d(1, 12, 3), nn.ReLU(), nn.MaxPool2d(kernel_size=2, stride=2)\n",
    "        )\n",
    "        self.layer2 = nn.Sequential(\n",
    "            nn.Conv2d(12, 16, 3), nn.ReLU(), nn.MaxPool2d(kernel_size=2, stride=2)\n",
    "        )\n",
    "        self.fn = nn.Linear(16 * 5 * 5, num_classes)\n",
    "\n",
    "    def forward(self, x):\n",
    "        out = self.layer1(x)\n",
    "        # print(f\"{out.shape=}\")  # torch.Size([8, 12, 12, 12])\n",
    "        out = self.layer2(out)\n",
    "        # print(f\"{out.shape=}\")  # torch.Size([8, 16, 5, 5])\n",
    "        out = out.view(out.size(0), -1)\n",
    "        out = self.fn(out)\n",
    "        # print(f\"{out.shape=}\")  # torch.Size([8, 10])\n",
    "        return out"
   ]
  },
  {
   "cell_type": "code",
   "execution_count": 2,
   "metadata": {},
   "outputs": [
    {
     "name": "stdout",
     "output_type": "stream",
     "text": [
      "torch.Size([8, 10])\n"
     ]
    }
   ],
   "source": [
    "model = CNNModel().to(device)\n",
    "example_input = torch.randn(8, 1, 28, 28).to(device)\n",
    "with torch.no_grad():\n",
    "    print(model(example_input).shape)\n",
    "\n",
    "# loss and optimizer\n",
    "criterion = nn.CrossEntropyLoss()\n",
    "optimizer = optim.Adam(model.parameters(), lr=learning_rate)"
   ]
  },
  {
   "cell_type": "code",
   "execution_count": 3,
   "metadata": {},
   "outputs": [
    {
     "name": "stdout",
     "output_type": "stream",
     "text": [
      "Epoch [1/3], Step [100/600], Loss: 0.3237\n",
      "Epoch [1/3], Step [200/600], Loss: 0.4018\n",
      "Epoch [1/3], Step [300/600], Loss: 0.2853\n",
      "Epoch [1/3], Step [400/600], Loss: 0.0773\n",
      "Epoch [1/3], Step [500/600], Loss: 0.1636\n",
      "Epoch [1/3], Step [600/600], Loss: 0.2160\n",
      "Epoch [2/3], Step [100/600], Loss: 0.1227\n",
      "Epoch [2/3], Step [200/600], Loss: 0.1308\n",
      "Epoch [2/3], Step [300/600], Loss: 0.1625\n",
      "Epoch [2/3], Step [400/600], Loss: 0.1162\n",
      "Epoch [2/3], Step [500/600], Loss: 0.0593\n",
      "Epoch [2/3], Step [600/600], Loss: 0.2359\n",
      "Epoch [3/3], Step [100/600], Loss: 0.1225\n",
      "Epoch [3/3], Step [200/600], Loss: 0.1817\n",
      "Epoch [3/3], Step [300/600], Loss: 0.0765\n",
      "Epoch [3/3], Step [400/600], Loss: 0.1577\n",
      "Epoch [3/3], Step [500/600], Loss: 0.0309\n",
      "Epoch [3/3], Step [600/600], Loss: 0.0749\n"
     ]
    }
   ],
   "source": [
    "# train the model\n",
    "for epoch in range(num_epochs):\n",
    "    for i, (images, labels) in enumerate(train_loader):\n",
    "        model.train()\n",
    "        images = images.to(device)\n",
    "        labels = labels.to(device)\n",
    "\n",
    "        # forward pass\n",
    "        outputs = model(images)\n",
    "        loss = criterion(outputs, labels)\n",
    "\n",
    "        # backward pass and optimize\n",
    "        optimizer.zero_grad()\n",
    "        loss.backward()\n",
    "        optimizer.step()\n",
    "\n",
    "        if (i + 1) % 100 == 0:\n",
    "            print(\n",
    "                f\"Epoch [{epoch+1}/{num_epochs}], Step [{i+1}/{len(train_loader)}], Loss: {loss.item():.4f}\"\n",
    "            )"
   ]
  },
  {
   "cell_type": "code",
   "execution_count": 4,
   "metadata": {},
   "outputs": [
    {
     "name": "stdout",
     "output_type": "stream",
     "text": [
      "Accuracy: 97.72\n",
      "Accuracy of 0: 99.48979591836735 %\n",
      "Accuracy of 1: 98.8546255506608 %\n",
      "Accuracy of 2: 97.86821705426357 %\n",
      "Accuracy of 3: 98.7128712871287 %\n",
      "Accuracy of 4: 97.55600814663951 %\n",
      "Accuracy of 5: 97.86995515695067 %\n",
      "Accuracy of 6: 97.39039665970772 %\n",
      "Accuracy of 7: 96.59533073929961 %\n",
      "Accuracy of 8: 96.09856262833675 %\n",
      "Accuracy of 9: 96.63032705649158 %\n"
     ]
    }
   ],
   "source": [
    "# test the model\n",
    "model.eval()\n",
    "with torch.no_grad():\n",
    "    n_correct = 0\n",
    "    n_samples = 0\n",
    "    n_class_correct = [0 for i in range(10)]\n",
    "    n_class_samples = [0 for i in range(10)]\n",
    "    for images, labels in test_loader:\n",
    "        images = images.to(device)\n",
    "        labels = labels.to(device)\n",
    "        outputs = model(images)\n",
    "\n",
    "        _, predicted = torch.max(outputs, 1)\n",
    "        n_samples += labels.size(0)\n",
    "        n_correct += (predicted == labels).sum().item()\n",
    "\n",
    "        for i in range(batch_size):\n",
    "            pred = predicted[i]\n",
    "            label = labels[i]\n",
    "            if pred == label:\n",
    "                n_class_correct[label] += 1\n",
    "            n_class_samples[label] += 1\n",
    "\n",
    "    print(f\"Accuracy: {100 * n_correct / n_samples}\")\n",
    "    for i in range(10):\n",
    "        acc = 100.0 * n_class_correct[i] / n_class_samples[i]\n",
    "        print(f\"Accuracy of {i}: {acc} %\")"
   ]
  }
 ],
 "metadata": {
  "kernelspec": {
   "display_name": ".venv",
   "language": "python",
   "name": "python3"
  },
  "language_info": {
   "codemirror_mode": {
    "name": "ipython",
    "version": 3
   },
   "file_extension": ".py",
   "mimetype": "text/x-python",
   "name": "python",
   "nbconvert_exporter": "python",
   "pygments_lexer": "ipython3",
   "version": "3.12.8"
  }
 },
 "nbformat": 4,
 "nbformat_minor": 2
}
