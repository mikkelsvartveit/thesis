{
 "cells": [
  {
   "cell_type": "code",
   "execution_count": 1,
   "metadata": {},
   "outputs": [
    {
     "name": "stdout",
     "output_type": "stream",
     "text": [
      "device=device(type='mps')\n",
      "Downloading http://yann.lecun.com/exdb/mnist/train-images-idx3-ubyte.gz\n",
      "Failed to download (trying next):\n",
      "<urlopen error [Errno 61] Connection refused>\n",
      "\n",
      "Downloading https://ossci-datasets.s3.amazonaws.com/mnist/train-images-idx3-ubyte.gz\n",
      "Downloading https://ossci-datasets.s3.amazonaws.com/mnist/train-images-idx3-ubyte.gz to ../../dataset/MNIST/raw/train-images-idx3-ubyte.gz\n"
     ]
    },
    {
     "name": "stderr",
     "output_type": "stream",
     "text": [
      "100.0%\n"
     ]
    },
    {
     "name": "stdout",
     "output_type": "stream",
     "text": [
      "Extracting ../../dataset/MNIST/raw/train-images-idx3-ubyte.gz to ../../dataset/MNIST/raw\n",
      "\n",
      "Downloading http://yann.lecun.com/exdb/mnist/train-labels-idx1-ubyte.gz\n",
      "Failed to download (trying next):\n",
      "<urlopen error [Errno 61] Connection refused>\n",
      "\n",
      "Downloading https://ossci-datasets.s3.amazonaws.com/mnist/train-labels-idx1-ubyte.gz\n",
      "Downloading https://ossci-datasets.s3.amazonaws.com/mnist/train-labels-idx1-ubyte.gz to ../../dataset/MNIST/raw/train-labels-idx1-ubyte.gz\n"
     ]
    },
    {
     "name": "stderr",
     "output_type": "stream",
     "text": [
      "100.0%\n"
     ]
    },
    {
     "name": "stdout",
     "output_type": "stream",
     "text": [
      "Extracting ../../dataset/MNIST/raw/train-labels-idx1-ubyte.gz to ../../dataset/MNIST/raw\n",
      "\n",
      "Downloading http://yann.lecun.com/exdb/mnist/t10k-images-idx3-ubyte.gz\n",
      "Failed to download (trying next):\n",
      "<urlopen error [Errno 61] Connection refused>\n",
      "\n",
      "Downloading https://ossci-datasets.s3.amazonaws.com/mnist/t10k-images-idx3-ubyte.gz\n",
      "Downloading https://ossci-datasets.s3.amazonaws.com/mnist/t10k-images-idx3-ubyte.gz to ../../dataset/MNIST/raw/t10k-images-idx3-ubyte.gz\n"
     ]
    },
    {
     "name": "stderr",
     "output_type": "stream",
     "text": [
      "100.0%\n"
     ]
    },
    {
     "name": "stdout",
     "output_type": "stream",
     "text": [
      "Extracting ../../dataset/MNIST/raw/t10k-images-idx3-ubyte.gz to ../../dataset/MNIST/raw\n",
      "\n",
      "Downloading http://yann.lecun.com/exdb/mnist/t10k-labels-idx1-ubyte.gz\n",
      "Failed to download (trying next):\n",
      "<urlopen error [Errno 61] Connection refused>\n",
      "\n",
      "Downloading https://ossci-datasets.s3.amazonaws.com/mnist/t10k-labels-idx1-ubyte.gz\n",
      "Downloading https://ossci-datasets.s3.amazonaws.com/mnist/t10k-labels-idx1-ubyte.gz to ../../dataset/MNIST/raw/t10k-labels-idx1-ubyte.gz\n"
     ]
    },
    {
     "name": "stderr",
     "output_type": "stream",
     "text": [
      "100.0%"
     ]
    },
    {
     "name": "stdout",
     "output_type": "stream",
     "text": [
      "Extracting ../../dataset/MNIST/raw/t10k-labels-idx1-ubyte.gz to ../../dataset/MNIST/raw\n",
      "\n",
      "train_dataset.data.shape=torch.Size([60000, 28, 28])\n",
      "test_dataset.data.shape=torch.Size([10000, 28, 28])\n"
     ]
    },
    {
     "name": "stderr",
     "output_type": "stream",
     "text": [
      "\n"
     ]
    }
   ],
   "source": [
    "import torch\n",
    "import torch.nn as nn\n",
    "import torch.optim as optim\n",
    "from torchvision import datasets, transforms\n",
    "from torch.utils.data import DataLoader\n",
    "\n",
    "\n",
    "# Device configuration\n",
    "device = torch.device(\n",
    "    \"cuda\"\n",
    "    if torch.cuda.is_available()\n",
    "    else \"mps\" if torch.backends.mps.is_available() else \"cpu\"\n",
    ")\n",
    "print(f\"{device=}\")\n",
    "\n",
    "# mnist dataset\n",
    "train_dataset = datasets.MNIST(\n",
    "    root=\"../../dataset/\", train=True, transform=transforms.ToTensor(), download=True\n",
    ")\n",
    "\n",
    "test_dataset = datasets.MNIST(\n",
    "    root=\"../../dataset/\", train=False, transform=transforms.ToTensor(), download=True\n",
    ")\n",
    "\n",
    "\n",
    "print(f\"{train_dataset.data.shape=}\")\n",
    "print(f\"{test_dataset.data.shape=}\")\n",
    "\n",
    "\n",
    "# hyperparameters\n",
    "num_classes = 10\n",
    "num_epochs = 3\n",
    "batch_size = 100\n",
    "learning_rate = 0.001\n",
    "\n",
    "# data loader\n",
    "train_loader = DataLoader(dataset=train_dataset, batch_size=batch_size, shuffle=True)\n",
    "test_loader = DataLoader(dataset=test_dataset, batch_size=batch_size, shuffle=False)\n",
    "\n",
    "\n",
    "class CNNModel(nn.Module):\n",
    "    def __init__(self):\n",
    "        super(CNNModel, self).__init__()\n",
    "        self.layer1 = nn.Sequential(\n",
    "            nn.Conv2d(1, 12, 3), nn.ReLU(), nn.MaxPool2d(kernel_size=2, stride=2)\n",
    "        )\n",
    "        self.layer2 = nn.Sequential(\n",
    "            nn.Conv2d(12, 16, 3), nn.ReLU(), nn.MaxPool2d(kernel_size=2, stride=2)\n",
    "        )\n",
    "        self.fn = nn.Linear(16 * 5 * 5, num_classes)\n",
    "\n",
    "    def forward(self, x):\n",
    "        out = self.layer1(x)\n",
    "        # print(f\"{out.shape=}\")  # torch.Size([8, 12, 12, 12])\n",
    "        out = self.layer2(out)\n",
    "        # print(f\"{out.shape=}\")  # torch.Size([8, 16, 5, 5])\n",
    "        out = out.view(out.size(0), -1)\n",
    "        out = self.fn(out)\n",
    "        # print(f\"{out.shape=}\")  # torch.Size([8, 10])\n",
    "        return out"
   ]
  },
  {
   "cell_type": "code",
   "execution_count": 2,
   "metadata": {},
   "outputs": [
    {
     "name": "stdout",
     "output_type": "stream",
     "text": [
      "torch.Size([8, 10])\n"
     ]
    }
   ],
   "source": [
    "model = CNNModel().to(device)\n",
    "example_input = torch.randn(8, 1, 28, 28).to(device)\n",
    "with torch.no_grad():\n",
    "    print(model(example_input).shape)\n",
    "\n",
    "# loss and optimizer\n",
    "criterion = nn.CrossEntropyLoss()\n",
    "optimizer = optim.Adam(model.parameters(), lr=learning_rate)"
   ]
  },
  {
   "cell_type": "code",
   "execution_count": 3,
   "metadata": {},
   "outputs": [
    {
     "name": "stdout",
     "output_type": "stream",
     "text": [
      "Epoch [1/3], Step [100/600], Loss: 0.5324\n",
      "Epoch [1/3], Step [200/600], Loss: 0.1463\n",
      "Epoch [1/3], Step [300/600], Loss: 0.2280\n",
      "Epoch [1/3], Step [400/600], Loss: 0.0641\n",
      "Epoch [1/3], Step [500/600], Loss: 0.2072\n",
      "Epoch [1/3], Step [600/600], Loss: 0.1597\n",
      "Epoch [2/3], Step [100/600], Loss: 0.0670\n",
      "Epoch [2/3], Step [200/600], Loss: 0.1139\n",
      "Epoch [2/3], Step [300/600], Loss: 0.0810\n",
      "Epoch [2/3], Step [400/600], Loss: 0.0216\n",
      "Epoch [2/3], Step [500/600], Loss: 0.0546\n",
      "Epoch [2/3], Step [600/600], Loss: 0.0494\n",
      "Epoch [3/3], Step [100/600], Loss: 0.1560\n",
      "Epoch [3/3], Step [200/600], Loss: 0.1017\n",
      "Epoch [3/3], Step [300/600], Loss: 0.0462\n",
      "Epoch [3/3], Step [400/600], Loss: 0.0276\n",
      "Epoch [3/3], Step [500/600], Loss: 0.0684\n",
      "Epoch [3/3], Step [600/600], Loss: 0.0661\n"
     ]
    }
   ],
   "source": [
    "# train the model\n",
    "for epoch in range(num_epochs):\n",
    "    for i, (images, labels) in enumerate(train_loader):\n",
    "        model.train()\n",
    "        images = images.to(device)\n",
    "        labels = labels.to(device)\n",
    "\n",
    "        # forward pass\n",
    "        outputs = model(images)\n",
    "        loss = criterion(outputs, labels)\n",
    "\n",
    "        # backward pass and optimize\n",
    "        optimizer.zero_grad()\n",
    "        loss.backward()\n",
    "        optimizer.step()\n",
    "\n",
    "        if (i + 1) % 100 == 0:\n",
    "            print(\n",
    "                f\"Epoch [{epoch+1}/{num_epochs}], Step [{i+1}/{len(train_loader)}], Loss: {loss.item():.4f}\"\n",
    "            )"
   ]
  },
  {
   "cell_type": "code",
   "execution_count": 4,
   "metadata": {},
   "outputs": [
    {
     "name": "stdout",
     "output_type": "stream",
     "text": [
      "Accuracy: 98.14\n",
      "Accuracy of 0: 99.08163265306122 %\n",
      "Accuracy of 1: 99.20704845814979 %\n",
      "Accuracy of 2: 97.77131782945736 %\n",
      "Accuracy of 3: 98.61386138613861 %\n",
      "Accuracy of 4: 98.26883910386965 %\n",
      "Accuracy of 5: 98.54260089686099 %\n",
      "Accuracy of 6: 98.74739039665971 %\n",
      "Accuracy of 7: 96.98443579766537 %\n",
      "Accuracy of 8: 97.84394250513347 %\n",
      "Accuracy of 9: 96.33300297324084 %\n"
     ]
    }
   ],
   "source": [
    "# test the model\n",
    "model.eval()\n",
    "with torch.no_grad():\n",
    "    n_correct = 0\n",
    "    n_samples = 0\n",
    "    n_class_correct = [0 for i in range(10)]\n",
    "    n_class_samples = [0 for i in range(10)]\n",
    "    for images, labels in test_loader:\n",
    "        images = images.to(device)\n",
    "        labels = labels.to(device)\n",
    "        outputs = model(images)\n",
    "\n",
    "        _, predicted = torch.max(outputs, 1)\n",
    "        n_samples += labels.size(0)\n",
    "        n_correct += (predicted == labels).sum().item()\n",
    "\n",
    "        for i in range(batch_size):\n",
    "            pred = predicted[i]\n",
    "            label = labels[i]\n",
    "            if pred == label:\n",
    "                n_class_correct[label] += 1\n",
    "            n_class_samples[label] += 1\n",
    "\n",
    "    print(f\"Accuracy: {100 * n_correct / n_samples}\")\n",
    "    for i in range(10):\n",
    "        acc = 100.0 * n_class_correct[i] / n_class_samples[i]\n",
    "        print(f\"Accuracy of {i}: {acc} %\")"
   ]
  }
 ],
 "metadata": {
  "kernelspec": {
   "display_name": ".venv",
   "language": "python",
   "name": "python3"
  },
  "language_info": {
   "codemirror_mode": {
    "name": "ipython",
    "version": 3
   },
   "file_extension": ".py",
   "mimetype": "text/x-python",
   "name": "python",
   "nbconvert_exporter": "python",
   "pygments_lexer": "ipython3",
   "version": "3.12.8"
  }
 },
 "nbformat": 4,
 "nbformat_minor": 2
}
