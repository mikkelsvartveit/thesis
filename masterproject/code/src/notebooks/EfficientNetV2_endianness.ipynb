{
 "cells": [
  {
   "cell_type": "markdown",
   "metadata": {},
   "source": [
    "#### Set up hyperparams"
   ]
  },
  {
   "cell_type": "code",
   "execution_count": 1,
   "metadata": {},
   "outputs": [
    {
     "name": "stdout",
     "output_type": "stream",
     "text": [
      "Using device: cuda\n"
     ]
    }
   ],
   "source": [
    "import random\n",
    "from torchvision import models\n",
    "import torch\n",
    "import torch.nn as nn\n",
    "from torch.utils.data import DataLoader\n",
    "from torchvision.transforms import Compose, Lambda, ToTensor\n",
    "from tqdm import tqdm\n",
    "from src.dataset_loaders import (\n",
    "    ISAdetectDataset,\n",
    "    random_train_test_split,\n",
    ")\n",
    "from src.transforms import GrayScaleImage\n",
    "\n",
    "device = torch.device(\n",
    "    \"cuda\"\n",
    "    if torch.cuda.is_available()\n",
    "    else \"mps\" if torch.backends.mps.is_available() else \"cpu\"\n",
    ")\n",
    "print(f\"Using device: {device}\")\n",
    "\n",
    "\n",
    "num_epochs = 1\n",
    "learning_rate = 0.001\n",
    "batch_size = 16\n",
    "SEED = random.randint(0, 1000)\n",
    "\n",
    "transform = Compose(\n",
    "    [\n",
    "        GrayScaleImage(255, 255),\n",
    "        Lambda(lambda x: x.float() / 255.0),\n",
    "        # 2. Add a dimension to make it a single-channel image (1, 255, 255)\n",
    "        # Lambda(lambda x: x.unsqueeze(0)),\n",
    "        # 3. Duplicate the grayscale channel to create 3 channels (3, 255, 255)\n",
    "        Lambda(lambda x: x.repeat(3, 1, 1)),\n",
    "    ]\n",
    ")\n",
    "\n",
    "dataset = ISAdetectDataset(\n",
    "    \"../../dataset/ISAdetect/ISAdetect_full_dataset\",\n",
    "    transform=transform,\n",
    "    file_byte_read_limit=255 * 255,\n",
    ")\n",
    "train_set, test_set = random_train_test_split(\n",
    "    dataset=dataset, test_split=0.2, seed=SEED\n",
    ")\n",
    "\n",
    "train_dataloader = DataLoader(dataset=train_set, batch_size=batch_size, shuffle=True)\n",
    "test_dataloader = DataLoader(dataset=test_set, batch_size=batch_size, shuffle=False)"
   ]
  },
  {
   "cell_type": "markdown",
   "metadata": {},
   "source": [
    "#### Set up model"
   ]
  },
  {
   "cell_type": "code",
   "execution_count": 2,
   "metadata": {},
   "outputs": [],
   "source": [
    "model = models.efficientnet_v2_s(weights=models.EfficientNet_V2_S_Weights.IMAGENET1K_V1)\n",
    "\n",
    "# Freeze all layers in the model\n",
    "for param in model.parameters():\n",
    "    param.requires_grad = True\n",
    "\n",
    "num_inputs = model.classifier[1].in_features\n",
    "\n",
    "model.classifier[1] = nn.Linear(num_inputs, 1)\n",
    "\n",
    "for param in model.classifier[1].parameters():\n",
    "    param.requires_grad = True"
   ]
  },
  {
   "cell_type": "markdown",
   "metadata": {},
   "source": [
    "#### Criterions and optim"
   ]
  },
  {
   "cell_type": "code",
   "execution_count": 3,
   "metadata": {},
   "outputs": [
    {
     "name": "stdout",
     "output_type": "stream",
     "text": [
      "torch.Size([16, 3, 255, 255])\n",
      "tensor([[ 0.0014],\n",
      "        [ 0.1326],\n",
      "        [ 0.5038],\n",
      "        [-0.0303],\n",
      "        [-0.1013],\n",
      "        [ 0.2860],\n",
      "        [ 0.2360],\n",
      "        [ 0.1214],\n",
      "        [ 0.0934],\n",
      "        [ 0.5258],\n",
      "        [-0.3594],\n",
      "        [-0.0244],\n",
      "        [ 0.0216],\n",
      "        [ 0.0906],\n",
      "        [-0.1930],\n",
      "        [-0.1185]])\n"
     ]
    }
   ],
   "source": [
    "criterion = nn.BCEWithLogitsLoss()\n",
    "optimizer = torch.optim.Adam(params=model.classifier[1].parameters(), lr=learning_rate)\n",
    "\n",
    "with torch.no_grad():\n",
    "    it = iter(train_dataloader)\n",
    "    first_x, first_y = next(it)\n",
    "    print(first_x[0])\n",
    "    print(first_x.shape)\n",
    "    out = model(first_x)\n",
    "    print(out)"
   ]
  },
  {
   "cell_type": "markdown",
   "metadata": {},
   "source": [
    "#### Training loop"
   ]
  },
  {
   "cell_type": "code",
   "execution_count": 4,
   "metadata": {},
   "outputs": [
    {
     "name": "stderr",
     "output_type": "stream",
     "text": [
      "  8%|▊         | 403/4820 [00:32<05:41, 12.93it/s]"
     ]
    },
    {
     "name": "stdout",
     "output_type": "stream",
     "text": [
      "Loss 0.3886141777038574\n"
     ]
    },
    {
     "name": "stderr",
     "output_type": "stream",
     "text": [
      " 17%|█▋        | 801/4820 [01:06<05:52, 11.41it/s]"
     ]
    },
    {
     "name": "stdout",
     "output_type": "stream",
     "text": [
      "Loss 0.5172271132469177\n"
     ]
    },
    {
     "name": "stderr",
     "output_type": "stream",
     "text": [
      " 25%|██▍       | 1201/4820 [01:40<05:18, 11.38it/s]"
     ]
    },
    {
     "name": "stdout",
     "output_type": "stream",
     "text": [
      "Loss 0.4752216339111328\n"
     ]
    },
    {
     "name": "stderr",
     "output_type": "stream",
     "text": [
      " 33%|███▎      | 1603/4820 [02:12<04:21, 12.30it/s]"
     ]
    },
    {
     "name": "stdout",
     "output_type": "stream",
     "text": [
      "Loss 0.44637545943260193\n"
     ]
    },
    {
     "name": "stderr",
     "output_type": "stream",
     "text": [
      " 42%|████▏     | 2003/4820 [02:46<03:36, 12.98it/s]"
     ]
    },
    {
     "name": "stdout",
     "output_type": "stream",
     "text": [
      "Loss 0.48386505246162415\n"
     ]
    },
    {
     "name": "stderr",
     "output_type": "stream",
     "text": [
      " 50%|████▉     | 2403/4820 [03:18<03:09, 12.77it/s]"
     ]
    },
    {
     "name": "stdout",
     "output_type": "stream",
     "text": [
      "Loss 0.8157467842102051\n"
     ]
    },
    {
     "name": "stderr",
     "output_type": "stream",
     "text": [
      " 58%|█████▊    | 2801/4820 [03:53<02:44, 12.31it/s]"
     ]
    },
    {
     "name": "stdout",
     "output_type": "stream",
     "text": [
      "Loss 0.6231052875518799\n"
     ]
    },
    {
     "name": "stderr",
     "output_type": "stream",
     "text": [
      " 66%|██████▋   | 3201/4820 [04:27<02:21, 11.40it/s]"
     ]
    },
    {
     "name": "stdout",
     "output_type": "stream",
     "text": [
      "Loss 0.4467373788356781\n"
     ]
    },
    {
     "name": "stderr",
     "output_type": "stream",
     "text": [
      " 75%|███████▍  | 3603/4820 [04:59<01:33, 13.06it/s]"
     ]
    },
    {
     "name": "stdout",
     "output_type": "stream",
     "text": [
      "Loss 0.29321324825286865\n"
     ]
    },
    {
     "name": "stderr",
     "output_type": "stream",
     "text": [
      " 83%|████████▎ | 4001/4820 [05:31<01:11, 11.43it/s]"
     ]
    },
    {
     "name": "stdout",
     "output_type": "stream",
     "text": [
      "Loss 0.3485111594200134\n"
     ]
    },
    {
     "name": "stderr",
     "output_type": "stream",
     "text": [
      " 91%|█████████▏| 4401/4820 [06:04<00:37, 11.03it/s]"
     ]
    },
    {
     "name": "stdout",
     "output_type": "stream",
     "text": [
      "Loss 0.5008001327514648\n"
     ]
    },
    {
     "name": "stderr",
     "output_type": "stream",
     "text": [
      "100%|█████████▉| 4801/4820 [06:36<00:01, 11.37it/s]"
     ]
    },
    {
     "name": "stdout",
     "output_type": "stream",
     "text": [
      "Loss 0.7154148817062378\n"
     ]
    },
    {
     "name": "stderr",
     "output_type": "stream",
     "text": [
      "100%|██████████| 4820/4820 [06:38<00:00, 12.10it/s]\n"
     ]
    }
   ],
   "source": [
    "model.to(device)\n",
    "dataset.use_code_only = True\n",
    "endianness_map = {\"little\": 0, \"big\": 1}\n",
    "for epoch in range(num_epochs):\n",
    "    for i, (batch_x, batch_y) in enumerate(tqdm(train_dataloader)):\n",
    "        batch_x = batch_x.to(device)\n",
    "        optimizer.zero_grad()\n",
    "        output = model(batch_x)\n",
    "        targets = torch.tensor(\n",
    "            [endianness_map[e] for e in batch_y[\"endianness\"]],\n",
    "            dtype=torch.float32,\n",
    "        ).to(device)\n",
    "        loss = criterion(output, targets.unsqueeze(1))\n",
    "        loss.backward()\n",
    "        optimizer.step()\n",
    "        if (i + 1) % 400 == 0:\n",
    "            print(f\"Loss {loss.item()}\")"
   ]
  },
  {
   "cell_type": "code",
   "execution_count": 5,
   "metadata": {},
   "outputs": [
    {
     "name": "stdout",
     "output_type": "stream",
     "text": [
      "dataset.use_code_only=True\n"
     ]
    },
    {
     "name": "stderr",
     "output_type": "stream",
     "text": [
      "100%|██████████| 1205/1205 [00:33<00:00, 35.47it/s]"
     ]
    },
    {
     "name": "stdout",
     "output_type": "stream",
     "text": [
      "\n",
      "Per-Architecture Accuracies:\n",
      "alpha     : 1.0000 (832/832)\n",
      "amd64     : 1.0000 (869/869)\n",
      "arm64     : 1.0000 (752/752)\n",
      "armel     : 1.0000 (824/824)\n",
      "armhf     : 1.0000 (789/789)\n",
      "hppa      : 0.0000 (0/982)\n",
      "i386      : 1.0000 (1009/1009)\n",
      "ia64      : 1.0000 (967/967)\n",
      "m68k      : 0.0000 (0/879)\n",
      "mips      : 0.0000 (0/678)\n",
      "mips64el  : 1.0000 (894/894)\n",
      "mipsel    : 1.0000 (770/770)\n",
      "powerpc   : 0.0000 (0/694)\n",
      "powerpcspe: 0.0000 (0/812)\n",
      "ppc64     : 0.0000 (0/554)\n",
      "ppc64el   : 1.0000 (690/690)\n",
      "riscv64   : 1.0000 (851/851)\n",
      "s390      : 0.0000 (0/1028)\n",
      "s390x     : 0.0000 (0/695)\n",
      "sh4       : 1.0000 (1213/1213)\n",
      "sparc     : 0.0000 (0/964)\n",
      "sparc64   : 0.0000 (0/691)\n",
      "x32       : 1.0000 (842/842)\n"
     ]
    },
    {
     "name": "stderr",
     "output_type": "stream",
     "text": [
      "\n"
     ]
    }
   ],
   "source": [
    "dataset.use_code_only = True\n",
    "print(f\"{dataset.use_code_only=}\")\n",
    "model.eval()\n",
    "with torch.no_grad():\n",
    "    correct = 0\n",
    "    total = 0\n",
    "    arch_stats = {}\n",
    "    for batch_x, batch_y in tqdm(test_dataloader):\n",
    "        batch_x = batch_x.to(device)\n",
    "        output = model(batch_x / 255.0)\n",
    "        batch_y_endian = [endianness_map[e] for e in batch_y[\"endianness\"]]\n",
    "        batch_y_arch = batch_y[\"architecture\"]\n",
    "        for i in range(len(output)):\n",
    "            if output[i] >= 0.5:\n",
    "                pred = 1\n",
    "            else:\n",
    "                pred = 0\n",
    "\n",
    "            current_arch = batch_y_arch[i]\n",
    "            if current_arch not in arch_stats:\n",
    "                arch_stats[current_arch] = {\"correct\": 0, \"total\": 0}\n",
    "\n",
    "            if pred == batch_y_endian[i]:\n",
    "                correct += 1\n",
    "                arch_stats[current_arch][\"correct\"] += 1\n",
    "\n",
    "            arch_stats[current_arch][\"total\"] += 1\n",
    "            total += 1\n",
    "\n",
    "    overall_accuracy = correct / total\n",
    "    print(\"\\nPer-Architecture Accuracies:\")\n",
    "    for arch in sorted(arch_stats.keys()):\n",
    "        arch_correct = arch_stats[arch][\"correct\"]\n",
    "        arch_total = arch_stats[arch][\"total\"]\n",
    "        arch_accuracy = arch_correct / arch_total\n",
    "        arch_stats[arch][\"accuracy\"] = arch_accuracy\n",
    "        print(f\"{arch:10s}: {arch_accuracy:.4f} ({arch_correct}/{arch_total})\")"
   ]
  }
 ],
 "metadata": {
  "kernelspec": {
   "display_name": ".venv",
   "language": "python",
   "name": "python3"
  },
  "language_info": {
   "codemirror_mode": {
    "name": "ipython",
    "version": 3
   },
   "file_extension": ".py",
   "mimetype": "text/x-python",
   "name": "python",
   "nbconvert_exporter": "python",
   "pygments_lexer": "ipython3",
   "version": "3.12.8"
  }
 },
 "nbformat": 4,
 "nbformat_minor": 2
}
