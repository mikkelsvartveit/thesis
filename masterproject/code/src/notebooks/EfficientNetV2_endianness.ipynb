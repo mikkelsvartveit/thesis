{
 "cells": [
  {
   "cell_type": "markdown",
   "metadata": {},
   "source": [
    "#### Set up hyperparams\n"
   ]
  },
  {
   "cell_type": "code",
   "execution_count": 1,
   "metadata": {},
   "outputs": [
    {
     "name": "stdout",
     "output_type": "stream",
     "text": [
      "Using device: mps\n"
     ]
    }
   ],
   "source": [
    "import random\n",
    "from torchvision import models\n",
    "import torch\n",
    "import torch.nn as nn\n",
    "from torch.utils.data import DataLoader\n",
    "from torchvision.transforms import Compose, Lambda, ToTensor\n",
    "from tqdm import tqdm\n",
    "from src.dataset_loaders import (\n",
    "    ISAdetectDataset,\n",
    "    random_train_test_split,\n",
    ")\n",
    "from src.transforms import GrayScaleImage\n",
    "\n",
    "device = torch.device(\n",
    "    \"cuda\"\n",
    "    if torch.cuda.is_available()\n",
    "    else \"mps\" if torch.backends.mps.is_available() else \"cpu\"\n",
    ")\n",
    "print(f\"Using device: {device}\")\n",
    "\n",
    "\n",
    "num_epochs = 1\n",
    "learning_rate = 0.001\n",
    "batch_size = 16\n",
    "SEED = random.randint(0, 1000)\n",
    "\n",
    "transform = Compose(\n",
    "    [\n",
    "        GrayScaleImage(255, 255),\n",
    "        Lambda(lambda x: x.float() / 255.0),\n",
    "        # 2. Add a dimension to make it a single-channel image (1, 255, 255)\n",
    "        # Lambda(lambda x: x.unsqueeze(0)),\n",
    "        # 3. Duplicate the grayscale channel to create 3 channels (3, 255, 255)\n",
    "        Lambda(lambda x: x.repeat(3, 1, 1)),\n",
    "    ]\n",
    ")\n",
    "\n",
    "dataset = ISAdetectDataset(\n",
    "    \"../../dataset/ISAdetect/ISAdetect_full_dataset\",\n",
    "    transform=transform,\n",
    "    file_byte_read_limit=255 * 255,\n",
    ")\n",
    "train_set, test_set = random_train_test_split(\n",
    "    dataset=dataset, test_split=0.2, seed=SEED\n",
    ")\n",
    "\n",
    "train_dataloader = DataLoader(dataset=train_set, batch_size=batch_size, shuffle=True)\n",
    "test_dataloader = DataLoader(dataset=test_set, batch_size=batch_size, shuffle=False)"
   ]
  },
  {
   "cell_type": "markdown",
   "metadata": {},
   "source": [
    "#### Set up model\n"
   ]
  },
  {
   "cell_type": "code",
   "execution_count": 2,
   "metadata": {},
   "outputs": [
    {
     "name": "stderr",
     "output_type": "stream",
     "text": [
      "Downloading: \"https://download.pytorch.org/models/efficientnet_v2_s-dd5fe13b.pth\" to /Users/stiansulebak/.cache/torch/hub/checkpoints/efficientnet_v2_s-dd5fe13b.pth\n",
      "100%|██████████| 82.7M/82.7M [00:09<00:00, 9.28MB/s]\n"
     ]
    }
   ],
   "source": [
    "model = models.efficientnet_v2_s(weights=models.EfficientNet_V2_S_Weights.DEFAULT)\n",
    "\n",
    "# Freeze all layers in the model\n",
    "for param in model.parameters():\n",
    "    param.requires_grad = False\n",
    "\n",
    "num_inputs = model.classifier[1].in_features\n",
    "\n",
    "model.classifier[1] = nn.Linear(num_inputs, 1)\n",
    "\n",
    "for param in model.classifier[1].parameters():\n",
    "    param.requires_grad = True"
   ]
  },
  {
   "cell_type": "markdown",
   "metadata": {},
   "source": [
    "#### Criterions and optim\n"
   ]
  },
  {
   "cell_type": "code",
   "execution_count": 3,
   "metadata": {},
   "outputs": [
    {
     "name": "stdout",
     "output_type": "stream",
     "text": [
      "tensor([[[0.9922, 0.4824, 0.7490,  ..., 0.0667, 0.6039, 0.2745],\n",
      "         [0.9765, 0.0627, 0.7608,  ..., 0.8157, 0.0667, 0.8549],\n",
      "         [0.2745, 0.9765, 0.0627,  ..., 0.0000, 0.8157, 0.0667],\n",
      "         ...,\n",
      "         [0.0000, 0.0000, 0.0000,  ..., 0.0000, 0.0000, 0.0000],\n",
      "         [0.0000, 0.0000, 0.0000,  ..., 0.0000, 0.0000, 0.0000],\n",
      "         [0.0000, 0.0000, 0.0000,  ..., 0.0000, 0.0000, 0.0000]],\n",
      "\n",
      "        [[0.9922, 0.4824, 0.7490,  ..., 0.0667, 0.6039, 0.2745],\n",
      "         [0.9765, 0.0627, 0.7608,  ..., 0.8157, 0.0667, 0.8549],\n",
      "         [0.2745, 0.9765, 0.0627,  ..., 0.0000, 0.8157, 0.0667],\n",
      "         ...,\n",
      "         [0.0000, 0.0000, 0.0000,  ..., 0.0000, 0.0000, 0.0000],\n",
      "         [0.0000, 0.0000, 0.0000,  ..., 0.0000, 0.0000, 0.0000],\n",
      "         [0.0000, 0.0000, 0.0000,  ..., 0.0000, 0.0000, 0.0000]],\n",
      "\n",
      "        [[0.9922, 0.4824, 0.7490,  ..., 0.0667, 0.6039, 0.2745],\n",
      "         [0.9765, 0.0627, 0.7608,  ..., 0.8157, 0.0667, 0.8549],\n",
      "         [0.2745, 0.9765, 0.0627,  ..., 0.0000, 0.8157, 0.0667],\n",
      "         ...,\n",
      "         [0.0000, 0.0000, 0.0000,  ..., 0.0000, 0.0000, 0.0000],\n",
      "         [0.0000, 0.0000, 0.0000,  ..., 0.0000, 0.0000, 0.0000],\n",
      "         [0.0000, 0.0000, 0.0000,  ..., 0.0000, 0.0000, 0.0000]]])\n",
      "torch.Size([16, 3, 255, 255])\n",
      "tensor([[ 0.0710],\n",
      "        [ 0.1963],\n",
      "        [-0.1921],\n",
      "        [-0.1026],\n",
      "        [ 0.0964],\n",
      "        [ 0.1237],\n",
      "        [ 0.0002],\n",
      "        [ 0.0856],\n",
      "        [ 0.0314],\n",
      "        [-0.1571],\n",
      "        [-0.1715],\n",
      "        [-0.1019],\n",
      "        [ 0.1964],\n",
      "        [-0.0389],\n",
      "        [-0.0379],\n",
      "        [-0.1018]])\n"
     ]
    }
   ],
   "source": [
    "criterion = nn.BCEWithLogitsLoss()\n",
    "optimizer = torch.optim.Adam(params=model.classifier[1].parameters(), lr=learning_rate)\n",
    "\n",
    "with torch.no_grad():\n",
    "    it = iter(train_dataloader)\n",
    "    first_x, first_y = next(it)\n",
    "    print(first_x[0])\n",
    "    print(first_x.shape)\n",
    "    out = model(first_x)\n",
    "    print(out)"
   ]
  },
  {
   "cell_type": "markdown",
   "metadata": {},
   "source": [
    "#### Training loop\n"
   ]
  },
  {
   "cell_type": "code",
   "execution_count": 4,
   "metadata": {},
   "outputs": [
    {
     "name": "stderr",
     "output_type": "stream",
     "text": [
      "  8%|▊         | 400/4820 [01:42<18:39,  3.95it/s] "
     ]
    },
    {
     "name": "stdout",
     "output_type": "stream",
     "text": [
      "Loss 0.5565081834793091\n"
     ]
    },
    {
     "name": "stderr",
     "output_type": "stream",
     "text": [
      " 17%|█▋        | 800/4820 [03:22<16:33,  4.05it/s]"
     ]
    },
    {
     "name": "stdout",
     "output_type": "stream",
     "text": [
      "Loss 0.3812137246131897\n"
     ]
    },
    {
     "name": "stderr",
     "output_type": "stream",
     "text": [
      " 25%|██▍       | 1200/4820 [05:07<14:54,  4.05it/s]"
     ]
    },
    {
     "name": "stdout",
     "output_type": "stream",
     "text": [
      "Loss 0.5449435710906982\n"
     ]
    },
    {
     "name": "stderr",
     "output_type": "stream",
     "text": [
      " 33%|███▎      | 1600/4820 [06:52<15:06,  3.55it/s]"
     ]
    },
    {
     "name": "stdout",
     "output_type": "stream",
     "text": [
      "Loss 0.6166874766349792\n"
     ]
    },
    {
     "name": "stderr",
     "output_type": "stream",
     "text": [
      " 41%|████▏     | 2000/4820 [08:46<14:18,  3.29it/s]"
     ]
    },
    {
     "name": "stdout",
     "output_type": "stream",
     "text": [
      "Loss 0.4251658320426941\n"
     ]
    },
    {
     "name": "stderr",
     "output_type": "stream",
     "text": [
      " 50%|████▉     | 2400/4820 [10:41<12:11,  3.31it/s]"
     ]
    },
    {
     "name": "stdout",
     "output_type": "stream",
     "text": [
      "Loss 0.5342374444007874\n"
     ]
    },
    {
     "name": "stderr",
     "output_type": "stream",
     "text": [
      " 58%|█████▊    | 2800/4820 [12:40<09:40,  3.48it/s]"
     ]
    },
    {
     "name": "stdout",
     "output_type": "stream",
     "text": [
      "Loss 0.4453434944152832\n"
     ]
    },
    {
     "name": "stderr",
     "output_type": "stream",
     "text": [
      " 66%|██████▋   | 3200/4820 [14:36<07:43,  3.50it/s]"
     ]
    },
    {
     "name": "stdout",
     "output_type": "stream",
     "text": [
      "Loss 0.427639365196228\n"
     ]
    },
    {
     "name": "stderr",
     "output_type": "stream",
     "text": [
      " 75%|███████▍  | 3600/4820 [16:34<06:47,  2.99it/s]"
     ]
    },
    {
     "name": "stdout",
     "output_type": "stream",
     "text": [
      "Loss 0.3840476870536804\n"
     ]
    },
    {
     "name": "stderr",
     "output_type": "stream",
     "text": [
      " 83%|████████▎ | 4000/4820 [18:39<04:01,  3.39it/s]"
     ]
    },
    {
     "name": "stdout",
     "output_type": "stream",
     "text": [
      "Loss 0.45626047253608704\n"
     ]
    },
    {
     "name": "stderr",
     "output_type": "stream",
     "text": [
      " 91%|█████████▏| 4400/4820 [20:42<02:08,  3.27it/s]"
     ]
    },
    {
     "name": "stdout",
     "output_type": "stream",
     "text": [
      "Loss 0.456272155046463\n"
     ]
    },
    {
     "name": "stderr",
     "output_type": "stream",
     "text": [
      "100%|█████████▉| 4800/4820 [22:53<00:06,  3.04it/s]"
     ]
    },
    {
     "name": "stdout",
     "output_type": "stream",
     "text": [
      "Loss 0.6341553926467896\n"
     ]
    },
    {
     "name": "stderr",
     "output_type": "stream",
     "text": [
      "100%|██████████| 4820/4820 [23:06<00:00,  3.48it/s]\n"
     ]
    }
   ],
   "source": [
    "model.to(device)\n",
    "dataset.use_code_only = True\n",
    "endianness_map = {\"little\": 0, \"big\": 1}\n",
    "for epoch in range(num_epochs):\n",
    "    for i, (batch_x, batch_y) in enumerate(tqdm(train_dataloader)):\n",
    "        batch_x = batch_x.to(device)\n",
    "        optimizer.zero_grad()\n",
    "        output = model(batch_x)\n",
    "        targets = torch.tensor(\n",
    "            [endianness_map[e] for e in batch_y[\"endianness\"]],\n",
    "            dtype=torch.float32,\n",
    "        ).to(device)\n",
    "        loss = criterion(output, targets.unsqueeze(1))\n",
    "        loss.backward()\n",
    "        optimizer.step()\n",
    "        if (i + 1) % 400 == 0:\n",
    "            print(f\"Loss {loss.item()}\")"
   ]
  },
  {
   "cell_type": "code",
   "execution_count": 5,
   "metadata": {},
   "outputs": [
    {
     "name": "stdout",
     "output_type": "stream",
     "text": [
      "dataset.use_code_only=True\n"
     ]
    },
    {
     "name": "stderr",
     "output_type": "stream",
     "text": [
      "100%|██████████| 1205/1205 [05:06<00:00,  3.93it/s]"
     ]
    },
    {
     "name": "stdout",
     "output_type": "stream",
     "text": [
      "\n",
      "Per-Architecture Accuracies:\n",
      "alpha     : 0.8627 (691/801)\n",
      "amd64     : 0.9524 (840/882)\n",
      "arm64     : 0.8319 (594/714)\n",
      "armel     : 0.9963 (815/818)\n",
      "armhf     : 0.9209 (733/796)\n",
      "hppa      : 0.7149 (697/975)\n",
      "i386      : 0.9430 (960/1018)\n",
      "ia64      : 0.9640 (991/1028)\n",
      "m68k      : 0.3360 (294/875)\n",
      "mips      : 0.6114 (409/669)\n",
      "mips64el  : 0.6803 (630/926)\n",
      "mipsel    : 0.5560 (417/750)\n",
      "powerpc   : 0.8463 (644/761)\n",
      "powerpcspe: 0.6922 (515/744)\n",
      "ppc64     : 0.6330 (357/564)\n",
      "ppc64el   : 0.8069 (539/668)\n",
      "riscv64   : 0.8771 (778/887)\n",
      "s390      : 0.6482 (645/995)\n",
      "s390x     : 0.8117 (569/701)\n",
      "sh4       : 0.9284 (1089/1173)\n",
      "sparc     : 0.8982 (918/1022)\n",
      "sparc64   : 0.8544 (528/618)\n",
      "x32       : 0.9463 (846/894)\n"
     ]
    },
    {
     "name": "stderr",
     "output_type": "stream",
     "text": [
      "\n"
     ]
    }
   ],
   "source": [
    "dataset.use_code_only = True\n",
    "print(f\"{dataset.use_code_only=}\")\n",
    "model.eval()\n",
    "with torch.no_grad():\n",
    "    correct = 0\n",
    "    total = 0\n",
    "    arch_stats = {}\n",
    "    for batch_x, batch_y in tqdm(test_dataloader):\n",
    "        batch_x = batch_x.to(device)\n",
    "        output = model(batch_x)\n",
    "        batch_y_endian = [endianness_map[e] for e in batch_y[\"endianness\"]]\n",
    "        batch_y_arch = batch_y[\"architecture\"]\n",
    "        for i in range(len(output)):\n",
    "            if output[i] >= 0.5:\n",
    "                pred = 1\n",
    "            else:\n",
    "                pred = 0\n",
    "\n",
    "            current_arch = batch_y_arch[i]\n",
    "            if current_arch not in arch_stats:\n",
    "                arch_stats[current_arch] = {\"correct\": 0, \"total\": 0}\n",
    "\n",
    "            if pred == batch_y_endian[i]:\n",
    "                correct += 1\n",
    "                arch_stats[current_arch][\"correct\"] += 1\n",
    "\n",
    "            arch_stats[current_arch][\"total\"] += 1\n",
    "            total += 1\n",
    "\n",
    "    overall_accuracy = correct / total\n",
    "    print(\"\\nPer-Architecture Accuracies:\")\n",
    "    for arch in sorted(arch_stats.keys()):\n",
    "        arch_correct = arch_stats[arch][\"correct\"]\n",
    "        arch_total = arch_stats[arch][\"total\"]\n",
    "        arch_accuracy = arch_correct / arch_total\n",
    "        arch_stats[arch][\"accuracy\"] = arch_accuracy\n",
    "        print(f\"{arch:10s}: {arch_accuracy:.4f} ({arch_correct}/{arch_total})\")"
   ]
  },
  {
   "cell_type": "code",
   "execution_count": 6,
   "metadata": {},
   "outputs": [
    {
     "name": "stdout",
     "output_type": "stream",
     "text": [
      "Overall Accuracy: 0.8039 (15499/19279)\n"
     ]
    }
   ],
   "source": [
    "print(f\"Overall Accuracy: {overall_accuracy:.4f} ({correct}/{total})\")"
   ]
  }
 ],
 "metadata": {
  "kernelspec": {
   "display_name": ".venv",
   "language": "python",
   "name": "python3"
  },
  "language_info": {
   "codemirror_mode": {
    "name": "ipython",
    "version": 3
   },
   "file_extension": ".py",
   "mimetype": "text/x-python",
   "name": "python",
   "nbconvert_exporter": "python",
   "pygments_lexer": "ipython3",
   "version": "3.12.8"
  }
 },
 "nbformat": 4,
 "nbformat_minor": 2
}
