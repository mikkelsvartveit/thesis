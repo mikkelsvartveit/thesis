{
 "cells": [
  {
   "cell_type": "markdown",
   "metadata": {},
   "source": [
    "### Imports\n"
   ]
  },
  {
   "cell_type": "code",
   "execution_count": 1,
   "metadata": {},
   "outputs": [],
   "source": [
    "import numpy as np\n",
    "import torch\n",
    "import torch.nn as nn\n",
    "import torch.optim as optim\n",
    "from torch.utils.data import Subset, DataLoader\n",
    "from sklearn.model_selection import LeaveOneGroupOut\n",
    "from sklearn.preprocessing import LabelEncoder\n",
    "from torchvision.models import mobilenet_v3_small\n",
    "from tqdm import tqdm\n",
    "\n",
    "from src.dataset_loaders import ISAdetectDataset\n",
    "from src.transforms import GrayScaleImage"
   ]
  },
  {
   "cell_type": "markdown",
   "metadata": {},
   "source": [
    "### Setup\n"
   ]
  },
  {
   "cell_type": "code",
   "execution_count": 2,
   "metadata": {},
   "outputs": [],
   "source": [
    "# Specify the model\n",
    "MODEL = mobilenet_v3_small\n",
    "TARGET_FEATURE = \"endianness\"\n",
    "\n",
    "# Model hyperparameters\n",
    "BATCH_SIZE = 64\n",
    "NUM_EPOCHS = 1\n",
    "LEARNING_RATE = 1e-4\n",
    "\n",
    "# Specify which groups to use as validation set. Set to None to validate all groups.\n",
    "VALIDATION_GROUPS = None\n",
    "# VALIDATION_GROUPS = [\"mips\", \"mipsel\"]\n",
    "\n",
    "# Set to an integer to limit the dataset size. Set to None to disable limit.\n",
    "MAX_FILES_PER_ISA = None"
   ]
  },
  {
   "cell_type": "markdown",
   "metadata": {},
   "source": [
    "### Helper functions\n"
   ]
  },
  {
   "cell_type": "code",
   "execution_count": 3,
   "metadata": {},
   "outputs": [],
   "source": [
    "def get_device():\n",
    "    \"\"\"\n",
    "    Returns 'cuda' if CUDA is available, else 'mps' if Apple Silicon GPU is available,\n",
    "    otherwise 'cpu'.\n",
    "    \"\"\"\n",
    "    device = None\n",
    "    if torch.cuda.is_available():\n",
    "        device = torch.device(\"cuda\")\n",
    "    elif torch.backends.mps.is_available():\n",
    "        device = torch.device(\"mps\")\n",
    "    else:\n",
    "        device = torch.device(\"cpu\")\n",
    "\n",
    "    print(f\"Using device: {device}\")\n",
    "    return device"
   ]
  },
  {
   "cell_type": "markdown",
   "metadata": {},
   "source": [
    "### Prepare\n"
   ]
  },
  {
   "cell_type": "code",
   "execution_count": 4,
   "metadata": {},
   "outputs": [
    {
     "name": "stdout",
     "output_type": "stream",
     "text": [
      "Using device: cuda\n"
     ]
    }
   ],
   "source": [
    "device = get_device()\n",
    "\n",
    "dataset = ISAdetectDataset(\n",
    "    dataset_path=\"../../dataset/ISAdetect/ISAdetect_full_dataset\",\n",
    "    transform=GrayScaleImage(224, 224),\n",
    "    file_byte_read_limit=224 * 224,\n",
    "    per_architecture_limit=MAX_FILES_PER_ISA,\n",
    ")\n",
    "\n",
    "groups = list(map(lambda x: x[\"architecture\"], dataset.metadata))\n",
    "target_feature = list(map(lambda x: x[\"wordsize\"], dataset.metadata))"
   ]
  },
  {
   "cell_type": "markdown",
   "metadata": {},
   "source": [
    "### Train and evaluate\n"
   ]
  },
  {
   "cell_type": "code",
   "execution_count": 12,
   "metadata": {},
   "outputs": [
    {
     "name": "stderr",
     "output_type": "stream",
     "text": [
      "/cluster/home/mikkesva/thesis/masterproject/code/.venv/lib/python3.12/site-packages/torch/utils/data/dataloader.py:558: UserWarning: This DataLoader will create 2 worker processes in total. Our suggested max number of worker in current system is 1, which is smaller than what this DataLoader is going to create. Please be aware that excessive worker creation might get DataLoader running slow or even freeze, lower the worker number to avoid potential slowness/freeze if necessary.\n",
      "  warnings.warn(_create_warning_msg(\n"
     ]
    },
    {
     "name": "stdout",
     "output_type": "stream",
     "text": [
      "\n",
      "=== Fold 1 – leaving out group 'alpha' ===\n",
      "Epoch 1:\n"
     ]
    },
    {
     "name": "stderr",
     "output_type": "stream",
     "text": [
      "  0%|                                                             | 0/1445 [00:00<?, ?it/s]"
     ]
    },
    {
     "name": "stdout",
     "output_type": "stream",
     "text": [
      "['little', 'little', 'little', 'little', 'big', 'big', 'little', 'little', 'little', 'little', 'big', 'little', 'little', 'little', 'big', 'little', 'little', 'little', 'little', 'big', 'little', 'little', 'big', 'big', 'little', 'little', 'big', 'little', 'little', 'big', 'big', 'big', 'little', 'big', 'big', 'big', 'little', 'little', 'little', 'big', 'little', 'big', 'big', 'little', 'little', 'big', 'little', 'big', 'big', 'little', 'little', 'big', 'little', 'little', 'big', 'little', 'big', 'little', 'little', 'little', 'little', 'little', 'little', 'little']\n",
      "[1 0]\n"
     ]
    },
    {
     "name": "stderr",
     "output_type": "stream",
     "text": [
      "  0%|                                                             | 0/1445 [00:02<?, ?it/s]\n"
     ]
    },
    {
     "ename": "ValueError",
     "evalue": "y contains previously unseen labels: 'littl'",
     "output_type": "error",
     "traceback": [
      "\u001b[0;31m---------------------------------------------------------------------------\u001b[0m",
      "\u001b[0;31mKeyError\u001b[0m                                  Traceback (most recent call last)",
      "File \u001b[0;32m~/thesis/masterproject/code/.venv/lib/python3.12/site-packages/sklearn/utils/_encode.py:235\u001b[0m, in \u001b[0;36m_encode\u001b[0;34m(values, uniques, check_unknown)\u001b[0m\n\u001b[1;32m    234\u001b[0m \u001b[38;5;28;01mtry\u001b[39;00m:\n\u001b[0;32m--> 235\u001b[0m     \u001b[38;5;28;01mreturn\u001b[39;00m \u001b[43m_map_to_integer\u001b[49m\u001b[43m(\u001b[49m\u001b[43mvalues\u001b[49m\u001b[43m,\u001b[49m\u001b[43m \u001b[49m\u001b[43muniques\u001b[49m\u001b[43m)\u001b[49m\n\u001b[1;32m    236\u001b[0m \u001b[38;5;28;01mexcept\u001b[39;00m \u001b[38;5;167;01mKeyError\u001b[39;00m \u001b[38;5;28;01mas\u001b[39;00m e:\n",
      "File \u001b[0;32m~/thesis/masterproject/code/.venv/lib/python3.12/site-packages/sklearn/utils/_encode.py:174\u001b[0m, in \u001b[0;36m_map_to_integer\u001b[0;34m(values, uniques)\u001b[0m\n\u001b[1;32m    173\u001b[0m table \u001b[38;5;241m=\u001b[39m _nandict({val: i \u001b[38;5;28;01mfor\u001b[39;00m i, val \u001b[38;5;129;01min\u001b[39;00m \u001b[38;5;28menumerate\u001b[39m(uniques)})\n\u001b[0;32m--> 174\u001b[0m \u001b[38;5;28;01mreturn\u001b[39;00m xp\u001b[38;5;241m.\u001b[39masarray([\u001b[43mtable\u001b[49m\u001b[43m[\u001b[49m\u001b[43mv\u001b[49m\u001b[43m]\u001b[49m \u001b[38;5;28;01mfor\u001b[39;00m v \u001b[38;5;129;01min\u001b[39;00m values], device\u001b[38;5;241m=\u001b[39mdevice(values))\n",
      "File \u001b[0;32m~/thesis/masterproject/code/.venv/lib/python3.12/site-packages/sklearn/utils/_encode.py:167\u001b[0m, in \u001b[0;36m_nandict.__missing__\u001b[0;34m(self, key)\u001b[0m\n\u001b[1;32m    166\u001b[0m     \u001b[38;5;28;01mreturn\u001b[39;00m \u001b[38;5;28mself\u001b[39m\u001b[38;5;241m.\u001b[39mnan_value\n\u001b[0;32m--> 167\u001b[0m \u001b[38;5;28;01mraise\u001b[39;00m \u001b[38;5;167;01mKeyError\u001b[39;00m(key)\n",
      "\u001b[0;31mKeyError\u001b[0m: 'littl'",
      "\nDuring handling of the above exception, another exception occurred:\n",
      "\u001b[0;31mValueError\u001b[0m                                Traceback (most recent call last)",
      "Cell \u001b[0;32mIn[12], line 52\u001b[0m\n\u001b[1;32m     48\u001b[0m encoded_labels_ \u001b[38;5;241m=\u001b[39m label_encoder\u001b[38;5;241m.\u001b[39mtransform([\u001b[38;5;124m'\u001b[39m\u001b[38;5;124mhi\u001b[39m\u001b[38;5;124m'\u001b[39m, \u001b[38;5;124m'\u001b[39m\u001b[38;5;124mhello\u001b[39m\u001b[38;5;124m'\u001b[39m])\n\u001b[1;32m     49\u001b[0m \u001b[38;5;28mprint\u001b[39m(encoded_labels_)\n\u001b[1;32m     51\u001b[0m encoded_labels \u001b[38;5;241m=\u001b[39m torch\u001b[38;5;241m.\u001b[39mfrom_numpy(\n\u001b[0;32m---> 52\u001b[0m     \u001b[43mlabel_encoder\u001b[49m\u001b[38;5;241;43m.\u001b[39;49m\u001b[43mtransform\u001b[49m\u001b[43m(\u001b[49m\u001b[43mlabels\u001b[49m\u001b[43m[\u001b[49m\u001b[43mTARGET_FEATURE\u001b[49m\u001b[43m]\u001b[49m\u001b[43m)\u001b[49m\n\u001b[1;32m     53\u001b[0m )\u001b[38;5;241m.\u001b[39mto(device)\n\u001b[1;32m     55\u001b[0m optimizer\u001b[38;5;241m.\u001b[39mzero_grad()\n\u001b[1;32m     56\u001b[0m predictions \u001b[38;5;241m=\u001b[39m model(images)\n",
      "File \u001b[0;32m~/thesis/masterproject/code/.venv/lib/python3.12/site-packages/sklearn/preprocessing/_label.py:134\u001b[0m, in \u001b[0;36mLabelEncoder.transform\u001b[0;34m(self, y)\u001b[0m\n\u001b[1;32m    131\u001b[0m \u001b[38;5;28;01mif\u001b[39;00m _num_samples(y) \u001b[38;5;241m==\u001b[39m \u001b[38;5;241m0\u001b[39m:\n\u001b[1;32m    132\u001b[0m     \u001b[38;5;28;01mreturn\u001b[39;00m xp\u001b[38;5;241m.\u001b[39masarray([])\n\u001b[0;32m--> 134\u001b[0m \u001b[38;5;28;01mreturn\u001b[39;00m \u001b[43m_encode\u001b[49m\u001b[43m(\u001b[49m\u001b[43my\u001b[49m\u001b[43m,\u001b[49m\u001b[43m \u001b[49m\u001b[43muniques\u001b[49m\u001b[38;5;241;43m=\u001b[39;49m\u001b[38;5;28;43mself\u001b[39;49m\u001b[38;5;241;43m.\u001b[39;49m\u001b[43mclasses_\u001b[49m\u001b[43m)\u001b[49m\n",
      "File \u001b[0;32m~/thesis/masterproject/code/.venv/lib/python3.12/site-packages/sklearn/utils/_encode.py:237\u001b[0m, in \u001b[0;36m_encode\u001b[0;34m(values, uniques, check_unknown)\u001b[0m\n\u001b[1;32m    235\u001b[0m         \u001b[38;5;28;01mreturn\u001b[39;00m _map_to_integer(values, uniques)\n\u001b[1;32m    236\u001b[0m     \u001b[38;5;28;01mexcept\u001b[39;00m \u001b[38;5;167;01mKeyError\u001b[39;00m \u001b[38;5;28;01mas\u001b[39;00m e:\n\u001b[0;32m--> 237\u001b[0m         \u001b[38;5;28;01mraise\u001b[39;00m \u001b[38;5;167;01mValueError\u001b[39;00m(\u001b[38;5;124mf\u001b[39m\u001b[38;5;124m\"\u001b[39m\u001b[38;5;124my contains previously unseen labels: \u001b[39m\u001b[38;5;132;01m{\u001b[39;00m\u001b[38;5;28mstr\u001b[39m(e)\u001b[38;5;132;01m}\u001b[39;00m\u001b[38;5;124m\"\u001b[39m)\n\u001b[1;32m    238\u001b[0m \u001b[38;5;28;01melse\u001b[39;00m:\n\u001b[1;32m    239\u001b[0m     \u001b[38;5;28;01mif\u001b[39;00m check_unknown:\n",
      "\u001b[0;31mValueError\u001b[0m: y contains previously unseen labels: 'littl'"
     ]
    }
   ],
   "source": [
    "logo = LeaveOneGroupOut()\n",
    "label_encoder = LabelEncoder()\n",
    "\n",
    "fold = 1\n",
    "accuracies = {}\n",
    "for train_idx, test_idx in logo.split(\n",
    "    X=range(len(dataset)), y=target_feature, groups=groups\n",
    "):\n",
    "    group_left_out = groups[test_idx[0]]\n",
    "\n",
    "    if VALIDATION_GROUPS != None and group_left_out not in VALIDATION_GROUPS:\n",
    "        continue\n",
    "\n",
    "    print(f\"\\n=== Fold {fold} – leaving out group '{group_left_out}' ===\")\n",
    "    fold += 1\n",
    "\n",
    "    all_train_labels = [dataset.metadata[i][TARGET_FEATURE] for i in train_idx]\n",
    "    label_encoder.fit(all_train_labels)\n",
    "\n",
    "    train_dataset = Subset(dataset, train_idx)\n",
    "    test_dataset = Subset(dataset, test_idx)\n",
    "\n",
    "    train_loader = DataLoader(\n",
    "        train_dataset, batch_size=BATCH_SIZE, shuffle=True, num_workers=2\n",
    "    )\n",
    "    test_loader = DataLoader(\n",
    "        test_dataset, batch_size=BATCH_SIZE, shuffle=False, num_workers=2\n",
    "    )\n",
    "\n",
    "    model = MODEL(num_classes=2, weights=None)\n",
    "    model.features[0][0] = nn.Conv2d(\n",
    "        1, 16, kernel_size=3, stride=2, padding=1, bias=False\n",
    "    )\n",
    "    model = model.to(device)\n",
    "    criterion = nn.CrossEntropyLoss()\n",
    "    optimizer = optim.Adam(model.parameters(), lr=LEARNING_RATE)\n",
    "\n",
    "    # Train model\n",
    "    for epoch in range(NUM_EPOCHS):\n",
    "        model.train()\n",
    "        print(f\"Epoch {epoch+1}:\")\n",
    "\n",
    "        for images, labels in tqdm(train_loader):\n",
    "            images = images.to(device)\n",
    "\n",
    "            encoded_labels = torch.from_numpy(\n",
    "                label_encoder.transform(labels[TARGET_FEATURE])\n",
    "            ).to(device)\n",
    "\n",
    "            optimizer.zero_grad()\n",
    "            predictions = model(images)\n",
    "            loss = criterion(predictions, encoded_labels)\n",
    "            loss.backward()\n",
    "            optimizer.step()\n",
    "\n",
    "        # Evaluate model\n",
    "        model.eval()\n",
    "        correct = 0\n",
    "        total = 0\n",
    "        with torch.no_grad():\n",
    "            for images, labels in test_loader:\n",
    "                images = images.to(device)\n",
    "                encoded_labels = torch.from_numpy(\n",
    "                    label_encoder.transform(labels[TARGET_FEATURE])\n",
    "                ).to(device)\n",
    "\n",
    "                outputs = model(images)\n",
    "\n",
    "                _, predicted = torch.max(outputs, 1)\n",
    "                correct += (predicted == encoded_labels).sum().item()\n",
    "                total += encoded_labels.size(0)\n",
    "\n",
    "\n",
    "        accuracy = correct / total\n",
    "        print(f\"Test Accuracy: {100*accuracy:.2f}%\")\n",
    "\n",
    "    accuracies[group_left_out] = accuracy"
   ]
  },
  {
   "cell_type": "markdown",
   "metadata": {},
   "source": [
    "### Evaluate\n"
   ]
  },
  {
   "cell_type": "code",
   "execution_count": 64,
   "metadata": {},
   "outputs": [
    {
     "name": "stdout",
     "output_type": "stream",
     "text": [
      "Test accuracies for each fold/group:\n",
      "alpha: 99.70%\n",
      "amd64: 94.07%\n",
      "arm64: 68.43%\n",
      "armel: 99.88%\n",
      "armhf: 96.15%\n",
      "hppa: 45.73%\n",
      "i386: 90.64%\n",
      "ia64: 69.62%\n",
      "m68k: 0.82%\n",
      "mips: 84.71%\n",
      "mips64el: 99.79%\n",
      "mipsel: 61.62%\n",
      "powerpc: 99.92%\n",
      "powerpcspe: 99.50%\n",
      "ppc64: 79.14%\n",
      "ppc64el: 100.00%\n",
      "riscv64: 65.32%\n",
      "s390: 2.25%\n",
      "s390x: 47.60%\n",
      "sh4: 60.99%\n",
      "sparc: 78.71%\n",
      "sparc64: 95.79%\n",
      "x32: 97.70%\n",
      "\n",
      "Average LOGO cross-validated test accuracy: 0.7557 ± 0.2856\n"
     ]
    }
   ],
   "source": [
    "print(\"Test accuracies for each fold/group:\")\n",
    "for group, acc in accuracies.items():\n",
    "    print(f\"{group}: {100*acc:.2f}%\")\n",
    "\n",
    "\n",
    "# Print overall performance across folds\n",
    "mean_acc = np.mean(list(accuracies.values()))\n",
    "std_acc = np.std(list(accuracies.values()))\n",
    "print(f\"\\nAverage LOGO cross-validated test accuracy: {mean_acc:.4f} ± {std_acc:.4f}\")"
   ]
  },
  {
   "cell_type": "code",
   "execution_count": null,
   "metadata": {},
   "outputs": [],
   "source": []
  }
 ],
 "metadata": {
  "kernelspec": {
   "display_name": "Python 3 (ipykernel)",
   "language": "python",
   "name": "python3"
  },
  "language_info": {
   "codemirror_mode": {
    "name": "ipython",
    "version": 3
   },
   "file_extension": ".py",
   "mimetype": "text/x-python",
   "name": "python",
   "nbconvert_exporter": "python",
   "pygments_lexer": "ipython3",
   "version": "3.12.3"
  }
 },
 "nbformat": 4,
 "nbformat_minor": 2
}
