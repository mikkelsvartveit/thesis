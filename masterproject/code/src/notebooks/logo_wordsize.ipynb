{
 "cells": [
  {
   "cell_type": "markdown",
   "metadata": {},
   "source": [
    "### Imports\n"
   ]
  },
  {
   "cell_type": "code",
   "execution_count": 1,
   "metadata": {},
   "outputs": [],
   "source": [
    "import numpy as np\n",
    "import torch\n",
    "import torch.nn as nn\n",
    "import torch.optim as optim\n",
    "from torch.utils.data import Subset, DataLoader\n",
    "from sklearn.model_selection import LeaveOneGroupOut\n",
    "from sklearn.preprocessing import LabelEncoder\n",
    "from torchvision.models import mobilenet_v3_small\n",
    "from tqdm import tqdm\n",
    "\n",
    "from src.dataset_loaders import ISAdetectDataset\n",
    "from src.transforms import GrayScaleImage, RGBImage"
   ]
  },
  {
   "cell_type": "markdown",
   "metadata": {},
   "source": [
    "### Setup\n"
   ]
  },
  {
   "cell_type": "code",
   "execution_count": 2,
   "metadata": {},
   "outputs": [],
   "source": [
    "# Specify the model\n",
    "MODEL = mobilenet_v3_small\n",
    "TARGET_FEATURE = \"wordsize\"\n",
    "\n",
    "# Model hyperparameters\n",
    "BATCH_SIZE = 64\n",
    "NUM_EPOCHS = 1\n",
    "LEARNING_RATE = 1e-4\n",
    "\n",
    "# Specify which groups to use as validation set. Set to None to validate all groups.\n",
    "VALIDATION_GROUPS = None\n",
    "# VALIDATION_GROUPS = [\"mips\", \"mipsel\"]\n",
    "\n",
    "# Set to an integer to limit the dataset size. Set to None to disable limit.\n",
    "MAX_FILES_PER_ISA = None"
   ]
  },
  {
   "cell_type": "markdown",
   "metadata": {},
   "source": [
    "### Helper functions\n"
   ]
  },
  {
   "cell_type": "code",
   "execution_count": 3,
   "metadata": {},
   "outputs": [],
   "source": [
    "def get_device():\n",
    "    \"\"\"\n",
    "    Returns 'cuda' if CUDA is available, else 'mps' if Apple Silicon GPU is available,\n",
    "    otherwise 'cpu'.\n",
    "    \"\"\"\n",
    "    device = None\n",
    "    if torch.cuda.is_available():\n",
    "        device = torch.device(\"cuda\")\n",
    "    elif torch.backends.mps.is_available():\n",
    "        device = torch.device(\"mps\")\n",
    "    else:\n",
    "        device = torch.device(\"cpu\")\n",
    "\n",
    "    print(f\"Using device: {device}\")\n",
    "    return device"
   ]
  },
  {
   "cell_type": "markdown",
   "metadata": {},
   "source": [
    "### Prepare\n"
   ]
  },
  {
   "cell_type": "code",
   "execution_count": 4,
   "metadata": {},
   "outputs": [
    {
     "name": "stdout",
     "output_type": "stream",
     "text": [
      "Using device: cuda\n",
      "groups: {'alpha', 'powerpc', 'riscv64', 'ppc64', 'ppc64el', 's390x', 'armel', 'ia64', 'mipsel', 'sparc64', 'mips', 'i386', 's390', 'amd64', 'arm64', 'm68k', 'armhf', 'sh4', 'mips64el', 'powerpcspe', 'sparc', 'x32', 'hppa'}\n",
      "features: {64, 32}\n"
     ]
    }
   ],
   "source": [
    "device = get_device()\n",
    "\n",
    "dataset = ISAdetectDataset(\n",
    "    dataset_path=\"../../dataset/ISAdetect/ISAdetect_full_dataset\",\n",
    "    transform=RGBImage(224, 224, num_channels=4),\n",
    "    file_byte_read_limit=224 * 224 * 4,\n",
    "    per_architecture_limit=MAX_FILES_PER_ISA,\n",
    ")\n",
    "\n",
    "groups = list(map(lambda x: x[\"architecture\"], dataset.metadata))\n",
    "target_feature = list(map(lambda x: x[TARGET_FEATURE], dataset.metadata))\n",
    "print(f\"groups: {set(groups)}\")\n",
    "print(f\"features: {set(target_feature)}\")"
   ]
  },
  {
   "cell_type": "markdown",
   "metadata": {},
   "source": [
    "### Train and evaluate\n"
   ]
  },
  {
   "cell_type": "code",
   "execution_count": 5,
   "metadata": {},
   "outputs": [
    {
     "name": "stdout",
     "output_type": "stream",
     "text": [
      "\n",
      "=== Fold 1 – leaving out group 'alpha' ===\n",
      "Epoch 1:\n"
     ]
    },
    {
     "name": "stderr",
     "output_type": "stream",
     "text": [
      "100%|██████████| 1445/1445 [01:08<00:00, 21.04it/s]\n"
     ]
    },
    {
     "name": "stdout",
     "output_type": "stream",
     "text": [
      "Test Accuracy: 6.25%\n",
      "\n",
      "=== Fold 2 – leaving out group 'amd64' ===\n",
      "Epoch 1:\n"
     ]
    },
    {
     "name": "stderr",
     "output_type": "stream",
     "text": [
      "100%|██████████| 1438/1438 [01:08<00:00, 21.01it/s]\n"
     ]
    },
    {
     "name": "stdout",
     "output_type": "stream",
     "text": [
      "Test Accuracy: 17.73%\n",
      "\n",
      "=== Fold 3 – leaving out group 'arm64' ===\n",
      "Epoch 1:\n"
     ]
    },
    {
     "name": "stderr",
     "output_type": "stream",
     "text": [
      "100%|██████████| 1450/1450 [01:09<00:00, 20.82it/s]\n"
     ]
    },
    {
     "name": "stdout",
     "output_type": "stream",
     "text": [
      "Test Accuracy: 80.42%\n",
      "\n",
      "=== Fold 4 – leaving out group 'armel' ===\n",
      "Epoch 1:\n"
     ]
    },
    {
     "name": "stderr",
     "output_type": "stream",
     "text": [
      "100%|██████████| 1444/1444 [01:10<00:00, 20.51it/s]\n"
     ]
    },
    {
     "name": "stdout",
     "output_type": "stream",
     "text": [
      "Test Accuracy: 15.72%\n",
      "\n",
      "=== Fold 5 – leaving out group 'armhf' ===\n",
      "Epoch 1:\n"
     ]
    },
    {
     "name": "stderr",
     "output_type": "stream",
     "text": [
      "100%|██████████| 1444/1444 [01:10<00:00, 20.44it/s]\n"
     ]
    },
    {
     "name": "stdout",
     "output_type": "stream",
     "text": [
      "Test Accuracy: 97.65%\n",
      "\n",
      "=== Fold 6 – leaving out group 'hppa' ===\n",
      "Epoch 1:\n"
     ]
    },
    {
     "name": "stderr",
     "output_type": "stream",
     "text": [
      " 35%|███▌      | 501/1431 [00:25<00:46, 19.83it/s]\n"
     ]
    },
    {
     "ename": "KeyboardInterrupt",
     "evalue": "",
     "output_type": "error",
     "traceback": [
      "\u001b[0;31m---------------------------------------------------------------------------\u001b[0m",
      "\u001b[0;31mKeyboardInterrupt\u001b[0m                         Traceback (most recent call last)",
      "Cell \u001b[0;32mIn[5], line 46\u001b[0m\n\u001b[1;32m     43\u001b[0m \u001b[38;5;28mprint\u001b[39m(\u001b[38;5;124mf\u001b[39m\u001b[38;5;124m\"\u001b[39m\u001b[38;5;124mEpoch \u001b[39m\u001b[38;5;132;01m{\u001b[39;00mepoch\u001b[38;5;241m+\u001b[39m\u001b[38;5;241m1\u001b[39m\u001b[38;5;132;01m}\u001b[39;00m\u001b[38;5;124m:\u001b[39m\u001b[38;5;124m\"\u001b[39m)\n\u001b[1;32m     45\u001b[0m \u001b[38;5;28;01mfor\u001b[39;00m images, labels \u001b[38;5;129;01min\u001b[39;00m tqdm(train_loader):\n\u001b[0;32m---> 46\u001b[0m     images \u001b[38;5;241m=\u001b[39m \u001b[43mimages\u001b[49m\u001b[38;5;241;43m.\u001b[39;49m\u001b[43mto\u001b[49m\u001b[43m(\u001b[49m\u001b[43mdevice\u001b[49m\u001b[43m)\u001b[49m\n\u001b[1;32m     48\u001b[0m     encoded_labels \u001b[38;5;241m=\u001b[39m torch\u001b[38;5;241m.\u001b[39mfrom_numpy(\n\u001b[1;32m     49\u001b[0m         label_encoder\u001b[38;5;241m.\u001b[39mtransform(labels[TARGET_FEATURE])\n\u001b[1;32m     50\u001b[0m     )\u001b[38;5;241m.\u001b[39mto(device)\n\u001b[1;32m     52\u001b[0m     optimizer\u001b[38;5;241m.\u001b[39mzero_grad()\n",
      "\u001b[0;31mKeyboardInterrupt\u001b[0m: "
     ]
    }
   ],
   "source": [
    "logo = LeaveOneGroupOut()\n",
    "label_encoder = LabelEncoder()\n",
    "\n",
    "fold = 1\n",
    "accuracies = {}\n",
    "for train_idx, test_idx in logo.split(\n",
    "    X=range(len(dataset)), y=target_feature, groups=groups\n",
    "):\n",
    "    group_left_out = groups[test_idx[0]]\n",
    "\n",
    "    if VALIDATION_GROUPS != None and group_left_out not in VALIDATION_GROUPS:\n",
    "        continue\n",
    "\n",
    "    print(f\"\\n=== Fold {fold} – leaving out group '{group_left_out}' ===\")\n",
    "    fold += 1\n",
    "\n",
    "    all_train_labels = [dataset.metadata[i][TARGET_FEATURE] for i in train_idx]\n",
    "    label_encoder.fit(all_train_labels)\n",
    "\n",
    "    train_dataset = Subset(dataset, train_idx)\n",
    "    test_dataset = Subset(dataset, test_idx)\n",
    "\n",
    "    train_loader = DataLoader(\n",
    "        train_dataset, batch_size=BATCH_SIZE, shuffle=True, num_workers=8\n",
    "    )\n",
    "    test_loader = DataLoader(\n",
    "        test_dataset, batch_size=BATCH_SIZE, shuffle=False, num_workers=8\n",
    "    )\n",
    "\n",
    "    model = MODEL(num_classes=2, weights=None)\n",
    "    out_channels = model.features[0][0].out_channels\n",
    "    model.features[0][0] = nn.Conv2d(\n",
    "        4, out_channels, kernel_size=3, stride=2, padding=1, bias=False\n",
    "    )\n",
    "\n",
    "    model = model.to(device)\n",
    "    criterion = nn.CrossEntropyLoss()\n",
    "    optimizer = optim.Adam(model.parameters(), lr=LEARNING_RATE)\n",
    "\n",
    "    # Train model\n",
    "    for epoch in range(NUM_EPOCHS):\n",
    "        model.train()\n",
    "        print(f\"Epoch {epoch+1}:\")\n",
    "\n",
    "        for images, labels in tqdm(train_loader):\n",
    "            images = images.to(device)\n",
    "\n",
    "            encoded_labels = torch.from_numpy(\n",
    "                label_encoder.transform(labels[TARGET_FEATURE])\n",
    "            ).to(device)\n",
    "\n",
    "            optimizer.zero_grad()\n",
    "            predictions = model(images)\n",
    "            loss = criterion(predictions, encoded_labels)\n",
    "            loss.backward()\n",
    "            optimizer.step()\n",
    "\n",
    "        # Evaluate model\n",
    "        model.eval()\n",
    "        correct = 0\n",
    "        total = 0\n",
    "        with torch.no_grad():\n",
    "            for images, labels in test_loader:\n",
    "                images = images.to(device)\n",
    "                encoded_labels = torch.from_numpy(\n",
    "                    label_encoder.transform(labels[TARGET_FEATURE])\n",
    "                ).to(device)\n",
    "\n",
    "                outputs = model(images)\n",
    "\n",
    "                _, predicted = torch.max(outputs, 1)\n",
    "                correct += (predicted == encoded_labels).sum().item()\n",
    "                total += encoded_labels.size(0)\n",
    "\n",
    "        accuracy = correct / total\n",
    "        print(f\"Test Accuracy: {100*accuracy:.2f}%\")\n",
    "\n",
    "    accuracies[group_left_out] = accuracy"
   ]
  },
  {
   "cell_type": "markdown",
   "metadata": {},
   "source": [
    "### Evaluate\n"
   ]
  },
  {
   "cell_type": "code",
   "execution_count": null,
   "metadata": {},
   "outputs": [],
   "source": [
    "print(\"Test accuracies for each fold/group:\")\n",
    "for group, acc in accuracies.items():\n",
    "    print(f\"{group}: {100*acc:.2f}%\")\n",
    "\n",
    "\n",
    "# Print overall performance across folds\n",
    "mean_acc = np.mean(list(accuracies.values()))\n",
    "std_acc = np.std(list(accuracies.values()))\n",
    "print(f\"\\nAverage LOGO cross-validated test accuracy: {mean_acc:.4f} ± {std_acc:.4f}\")"
   ]
  },
  {
   "cell_type": "code",
   "execution_count": null,
   "metadata": {},
   "outputs": [],
   "source": []
  }
 ],
 "metadata": {
  "kernelspec": {
   "display_name": ".venv",
   "language": "python",
   "name": "python3"
  },
  "language_info": {
   "codemirror_mode": {
    "name": "ipython",
    "version": 3
   },
   "file_extension": ".py",
   "mimetype": "text/x-python",
   "name": "python",
   "nbconvert_exporter": "python",
   "pygments_lexer": "ipython3",
   "version": "3.12.3"
  }
 },
 "nbformat": 4,
 "nbformat_minor": 2
}
