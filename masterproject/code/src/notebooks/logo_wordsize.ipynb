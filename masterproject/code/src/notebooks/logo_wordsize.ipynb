{
 "cells": [
  {
   "cell_type": "markdown",
   "metadata": {},
   "source": [
    "### Imports\n"
   ]
  },
  {
   "cell_type": "code",
   "execution_count": 1,
   "metadata": {},
   "outputs": [],
   "source": [
    "import numpy as np\n",
    "import torch\n",
    "import torch.nn as nn\n",
    "import torch.optim as optim\n",
    "from torch.utils.data import Subset, DataLoader\n",
    "from sklearn.model_selection import LeaveOneGroupOut\n",
    "from sklearn.preprocessing import LabelEncoder\n",
    "from torchvision.models import mobilenet_v3_small\n",
    "from tqdm import tqdm\n",
    "import wandb\n",
    "import matplotlib.pyplot as plt\n",
    "\n",
    "from src.dataset_loaders import ISAdetectDataset\n",
    "from src.transforms import GrayScaleImage, RGBImage"
   ]
  },
  {
   "cell_type": "markdown",
   "metadata": {},
   "source": [
    "### Setup\n"
   ]
  },
  {
   "cell_type": "code",
   "execution_count": 2,
   "metadata": {},
   "outputs": [],
   "source": [
    "# Specify the model\n",
    "MODEL = mobilenet_v3_small\n",
    "TARGET_FEATURE = \"wordsize\"\n",
    "\n",
    "# Model hyperparameters\n",
    "BATCH_SIZE = 64\n",
    "NUM_EPOCHS = 1\n",
    "LEARNING_RATE = 1e-4\n",
    "\n",
    "# Specify which groups to use as validation set. Set to None to validate all groups.\n",
    "VALIDATION_GROUPS = None\n",
    "# VALIDATION_GROUPS = [\"mips\", \"mipsel\"]\n",
    "\n",
    "# Set to an integer to limit the dataset size. Set to None to disable limit.\n",
    "MAX_FILES_PER_ISA = None"
   ]
  },
  {
   "cell_type": "markdown",
   "metadata": {},
   "source": [
    "### Helper functions\n"
   ]
  },
  {
   "cell_type": "code",
   "execution_count": 3,
   "metadata": {},
   "outputs": [],
   "source": [
    "def get_device():\n",
    "    \"\"\"\n",
    "    Returns 'cuda' if CUDA is available, else 'mps' if Apple Silicon GPU is available,\n",
    "    otherwise 'cpu'.\n",
    "    \"\"\"\n",
    "    device = None\n",
    "    if torch.cuda.is_available():\n",
    "        device = torch.device(\"cuda\")\n",
    "    elif torch.backends.mps.is_available():\n",
    "        device = torch.device(\"mps\")\n",
    "    else:\n",
    "        device = torch.device(\"cpu\")\n",
    "\n",
    "    print(f\"Using device: {device}\")\n",
    "    return device"
   ]
  },
  {
   "cell_type": "markdown",
   "metadata": {},
   "source": [
    "### Prepare\n"
   ]
  },
  {
   "cell_type": "code",
   "execution_count": 4,
   "metadata": {},
   "outputs": [
    {
     "name": "stdout",
     "output_type": "stream",
     "text": [
      "Using device: cuda\n",
      "groups: {'s390', 'riscv64', 'm68k', 'armhf', 'i386', 'powerpcspe', 'mips', 'amd64', 'sparc', 'sh4', 'arm64', 's390x', 'hppa', 'mipsel', 'armel', 'ia64', 'sparc64', 'ppc64el', 'mips64el', 'powerpc', 'alpha', 'x32', 'ppc64'}\n",
      "features: {32, 64}\n"
     ]
    }
   ],
   "source": [
    "device = get_device()\n",
    "\n",
    "dataset = ISAdetectDataset(\n",
    "    dataset_path=\"../../dataset/ISAdetect/ISAdetect_full_dataset\",\n",
    "    transform=RGBImage(224, 224, num_channels=4),\n",
    "    file_byte_read_limit=224 * 224 * 4,\n",
    "    per_architecture_limit=MAX_FILES_PER_ISA,\n",
    ")\n",
    "\n",
    "groups = list(map(lambda x: x[\"architecture\"], dataset.metadata))\n",
    "target_feature = list(map(lambda x: x[TARGET_FEATURE], dataset.metadata))\n",
    "print(f\"groups: {set(groups)}\")\n",
    "print(f\"features: {set(target_feature)}\")"
   ]
  },
  {
   "cell_type": "markdown",
   "metadata": {},
   "source": [
    "### Train and evaluate\n"
   ]
  },
  {
   "cell_type": "code",
   "execution_count": 5,
   "metadata": {},
   "outputs": [
    {
     "name": "stdout",
     "output_type": "stream",
     "text": [
      "\n",
      "=== Fold 1 – leaving out group 'alpha' ===\n",
      "Epoch 1:\n"
     ]
    },
    {
     "name": "stderr",
     "output_type": "stream",
     "text": [
      "100%|██████████| 1445/1445 [00:53<00:00, 26.95it/s]"
     ]
    },
    {
     "name": "stdout",
     "output_type": "stream",
     "text": [
      "Epoch 1 Average Loss: 0.3534\n",
      "Epoch 1 Final Loss: 0.1971\n"
     ]
    },
    {
     "name": "stderr",
     "output_type": "stream",
     "text": [
      "\n"
     ]
    },
    {
     "name": "stdout",
     "output_type": "stream",
     "text": [
      "Test Accuracy: 12.49%\n",
      "\n",
      "=== Fold 2 – leaving out group 'amd64' ===\n",
      "Epoch 1:\n"
     ]
    },
    {
     "name": "stderr",
     "output_type": "stream",
     "text": [
      "100%|██████████| 1438/1438 [00:52<00:00, 27.46it/s]"
     ]
    },
    {
     "name": "stdout",
     "output_type": "stream",
     "text": [
      "Epoch 1 Average Loss: 0.3223\n",
      "Epoch 1 Final Loss: 0.1745\n"
     ]
    },
    {
     "name": "stderr",
     "output_type": "stream",
     "text": [
      "\n"
     ]
    },
    {
     "name": "stdout",
     "output_type": "stream",
     "text": [
      "Test Accuracy: 9.62%\n",
      "\n",
      "=== Fold 3 – leaving out group 'arm64' ===\n",
      "Epoch 1:\n"
     ]
    },
    {
     "name": "stderr",
     "output_type": "stream",
     "text": [
      "100%|██████████| 1450/1450 [00:54<00:00, 26.43it/s]"
     ]
    },
    {
     "name": "stdout",
     "output_type": "stream",
     "text": [
      "Epoch 1 Average Loss: 0.3633\n",
      "Epoch 1 Final Loss: 0.2412\n"
     ]
    },
    {
     "name": "stderr",
     "output_type": "stream",
     "text": [
      "\n"
     ]
    },
    {
     "name": "stdout",
     "output_type": "stream",
     "text": [
      "Test Accuracy: 7.23%\n",
      "\n",
      "=== Fold 4 – leaving out group 'armel' ===\n",
      "Epoch 1:\n"
     ]
    },
    {
     "name": "stderr",
     "output_type": "stream",
     "text": [
      "100%|██████████| 1444/1444 [00:54<00:00, 26.37it/s]"
     ]
    },
    {
     "name": "stdout",
     "output_type": "stream",
     "text": [
      "Epoch 1 Average Loss: 0.3720\n",
      "Epoch 1 Final Loss: 0.5303\n"
     ]
    },
    {
     "name": "stderr",
     "output_type": "stream",
     "text": [
      "\n"
     ]
    },
    {
     "name": "stdout",
     "output_type": "stream",
     "text": [
      "Test Accuracy: 6.20%\n",
      "\n",
      "=== Fold 5 – leaving out group 'armhf' ===\n",
      "Epoch 1:\n"
     ]
    },
    {
     "name": "stderr",
     "output_type": "stream",
     "text": [
      "100%|██████████| 1444/1444 [00:54<00:00, 26.69it/s]"
     ]
    },
    {
     "name": "stdout",
     "output_type": "stream",
     "text": [
      "Epoch 1 Average Loss: 0.3619\n",
      "Epoch 1 Final Loss: 0.2591\n"
     ]
    },
    {
     "name": "stderr",
     "output_type": "stream",
     "text": [
      "\n"
     ]
    },
    {
     "name": "stdout",
     "output_type": "stream",
     "text": [
      "Test Accuracy: 97.60%\n",
      "\n",
      "=== Fold 6 – leaving out group 'hppa' ===\n",
      "Epoch 1:\n"
     ]
    },
    {
     "name": "stderr",
     "output_type": "stream",
     "text": [
      "100%|██████████| 1431/1431 [00:53<00:00, 26.53it/s]"
     ]
    },
    {
     "name": "stdout",
     "output_type": "stream",
     "text": [
      "Epoch 1 Average Loss: 0.3844\n",
      "Epoch 1 Final Loss: 0.1928\n"
     ]
    },
    {
     "name": "stderr",
     "output_type": "stream",
     "text": [
      "\n"
     ]
    },
    {
     "name": "stdout",
     "output_type": "stream",
     "text": [
      "Test Accuracy: 95.01%\n",
      "\n",
      "=== Fold 7 – leaving out group 'i386' ===\n",
      "Epoch 1:\n"
     ]
    },
    {
     "name": "stderr",
     "output_type": "stream",
     "text": [
      "100%|██████████| 1427/1427 [00:54<00:00, 26.08it/s]"
     ]
    },
    {
     "name": "stdout",
     "output_type": "stream",
     "text": [
      "Epoch 1 Average Loss: 0.3666\n",
      "Epoch 1 Final Loss: 0.3720\n"
     ]
    },
    {
     "name": "stderr",
     "output_type": "stream",
     "text": [
      "\n"
     ]
    },
    {
     "name": "stdout",
     "output_type": "stream",
     "text": [
      "Test Accuracy: 49.68%\n",
      "\n",
      "=== Fold 8 – leaving out group 'ia64' ===\n",
      "Epoch 1:\n"
     ]
    },
    {
     "name": "stderr",
     "output_type": "stream",
     "text": [
      "100%|██████████| 1429/1429 [00:56<00:00, 25.10it/s]"
     ]
    },
    {
     "name": "stdout",
     "output_type": "stream",
     "text": [
      "Epoch 1 Average Loss: 0.3709\n",
      "Epoch 1 Final Loss: 0.2912\n"
     ]
    },
    {
     "name": "stderr",
     "output_type": "stream",
     "text": [
      "\n"
     ]
    },
    {
     "name": "stdout",
     "output_type": "stream",
     "text": [
      "Test Accuracy: 17.32%\n",
      "\n",
      "=== Fold 9 – leaving out group 'm68k' ===\n",
      "Epoch 1:\n"
     ]
    },
    {
     "name": "stderr",
     "output_type": "stream",
     "text": [
      "100%|██████████| 1438/1438 [00:55<00:00, 25.72it/s]"
     ]
    },
    {
     "name": "stdout",
     "output_type": "stream",
     "text": [
      "Epoch 1 Average Loss: 0.3954\n",
      "Epoch 1 Final Loss: 0.2809\n"
     ]
    },
    {
     "name": "stderr",
     "output_type": "stream",
     "text": [
      "\n"
     ]
    },
    {
     "name": "stdout",
     "output_type": "stream",
     "text": [
      "Test Accuracy: 98.23%\n",
      "\n",
      "=== Fold 10 – leaving out group 'mips' ===\n",
      "Epoch 1:\n"
     ]
    },
    {
     "name": "stderr",
     "output_type": "stream",
     "text": [
      "100%|██████████| 1451/1451 [00:56<00:00, 25.68it/s]"
     ]
    },
    {
     "name": "stdout",
     "output_type": "stream",
     "text": [
      "Epoch 1 Average Loss: 0.3820\n",
      "Epoch 1 Final Loss: 0.1527\n"
     ]
    },
    {
     "name": "stderr",
     "output_type": "stream",
     "text": [
      "\n"
     ]
    },
    {
     "name": "stdout",
     "output_type": "stream",
     "text": [
      "Test Accuracy: 95.62%\n",
      "\n",
      "=== Fold 11 – leaving out group 'mips64el' ===\n",
      "Epoch 1:\n"
     ]
    },
    {
     "name": "stderr",
     "output_type": "stream",
     "text": [
      "100%|██████████| 1439/1439 [00:56<00:00, 25.43it/s]"
     ]
    },
    {
     "name": "stdout",
     "output_type": "stream",
     "text": [
      "Epoch 1 Average Loss: 0.3231\n",
      "Epoch 1 Final Loss: 0.2645\n"
     ]
    },
    {
     "name": "stderr",
     "output_type": "stream",
     "text": [
      "\n"
     ]
    },
    {
     "name": "stdout",
     "output_type": "stream",
     "text": [
      "Test Accuracy: 1.81%\n",
      "\n",
      "=== Fold 12 – leaving out group 'mipsel' ===\n",
      "Epoch 1:\n"
     ]
    },
    {
     "name": "stderr",
     "output_type": "stream",
     "text": [
      "100%|██████████| 1448/1448 [00:56<00:00, 25.61it/s]"
     ]
    },
    {
     "name": "stdout",
     "output_type": "stream",
     "text": [
      "Epoch 1 Average Loss: 0.3253\n",
      "Epoch 1 Final Loss: 0.4136\n"
     ]
    },
    {
     "name": "stderr",
     "output_type": "stream",
     "text": [
      "\n"
     ]
    },
    {
     "name": "stdout",
     "output_type": "stream",
     "text": [
      "Test Accuracy: 9.54%\n",
      "\n",
      "=== Fold 13 – leaving out group 'powerpc' ===\n",
      "Epoch 1:\n"
     ]
    },
    {
     "name": "stderr",
     "output_type": "stream",
     "text": [
      "100%|██████████| 1450/1450 [00:56<00:00, 25.52it/s]"
     ]
    },
    {
     "name": "stdout",
     "output_type": "stream",
     "text": [
      "Epoch 1 Average Loss: 0.3623\n",
      "Epoch 1 Final Loss: 0.2364\n"
     ]
    },
    {
     "name": "stderr",
     "output_type": "stream",
     "text": [
      "\n"
     ]
    },
    {
     "name": "stdout",
     "output_type": "stream",
     "text": [
      "Test Accuracy: 98.40%\n",
      "\n",
      "=== Fold 14 – leaving out group 'powerpcspe' ===\n",
      "Epoch 1:\n"
     ]
    },
    {
     "name": "stderr",
     "output_type": "stream",
     "text": [
      "100%|██████████| 1445/1445 [00:56<00:00, 25.54it/s]"
     ]
    },
    {
     "name": "stdout",
     "output_type": "stream",
     "text": [
      "Epoch 1 Average Loss: 0.4074\n",
      "Epoch 1 Final Loss: 0.4609\n"
     ]
    },
    {
     "name": "stderr",
     "output_type": "stream",
     "text": [
      "\n"
     ]
    },
    {
     "name": "stdout",
     "output_type": "stream",
     "text": [
      "Test Accuracy: 86.37%\n",
      "\n",
      "=== Fold 15 – leaving out group 'ppc64' ===\n",
      "Epoch 1:\n"
     ]
    },
    {
     "name": "stderr",
     "output_type": "stream",
     "text": [
      "100%|██████████| 1462/1462 [00:57<00:00, 25.48it/s]"
     ]
    },
    {
     "name": "stdout",
     "output_type": "stream",
     "text": [
      "Epoch 1 Average Loss: 0.3252\n",
      "Epoch 1 Final Loss: 0.1710\n"
     ]
    },
    {
     "name": "stderr",
     "output_type": "stream",
     "text": [
      "\n"
     ]
    },
    {
     "name": "stdout",
     "output_type": "stream",
     "text": [
      "Test Accuracy: 4.20%\n",
      "\n",
      "=== Fold 16 – leaving out group 'ppc64el' ===\n",
      "Epoch 1:\n"
     ]
    },
    {
     "name": "stderr",
     "output_type": "stream",
     "text": [
      "100%|██████████| 1452/1452 [00:56<00:00, 25.58it/s]"
     ]
    },
    {
     "name": "stdout",
     "output_type": "stream",
     "text": [
      "Epoch 1 Average Loss: 0.3673\n",
      "Epoch 1 Final Loss: 1.2134\n"
     ]
    },
    {
     "name": "stderr",
     "output_type": "stream",
     "text": [
      "\n"
     ]
    },
    {
     "name": "stdout",
     "output_type": "stream",
     "text": [
      "Test Accuracy: 89.47%\n",
      "\n",
      "=== Fold 17 – leaving out group 'riscv64' ===\n",
      "Epoch 1:\n"
     ]
    },
    {
     "name": "stderr",
     "output_type": "stream",
     "text": [
      "100%|██████████| 1437/1437 [00:56<00:00, 25.63it/s]"
     ]
    },
    {
     "name": "stdout",
     "output_type": "stream",
     "text": [
      "Epoch 1 Average Loss: 0.3491\n",
      "Epoch 1 Final Loss: 0.4674\n"
     ]
    },
    {
     "name": "stderr",
     "output_type": "stream",
     "text": [
      "\n"
     ]
    },
    {
     "name": "stdout",
     "output_type": "stream",
     "text": [
      "Test Accuracy: 20.16%\n",
      "\n",
      "=== Fold 18 – leaving out group 's390' ===\n",
      "Epoch 1:\n"
     ]
    },
    {
     "name": "stderr",
     "output_type": "stream",
     "text": [
      "100%|██████████| 1426/1426 [00:56<00:00, 25.38it/s]"
     ]
    },
    {
     "name": "stdout",
     "output_type": "stream",
     "text": [
      "Epoch 1 Average Loss: 0.3796\n",
      "Epoch 1 Final Loss: 0.1087\n"
     ]
    },
    {
     "name": "stderr",
     "output_type": "stream",
     "text": [
      "\n"
     ]
    },
    {
     "name": "stdout",
     "output_type": "stream",
     "text": [
      "Test Accuracy: 3.41%\n",
      "\n",
      "=== Fold 19 – leaving out group 's390x' ===\n",
      "Epoch 1:\n"
     ]
    },
    {
     "name": "stderr",
     "output_type": "stream",
     "text": [
      "100%|██████████| 1451/1451 [00:56<00:00, 25.59it/s]"
     ]
    },
    {
     "name": "stdout",
     "output_type": "stream",
     "text": [
      "Epoch 1 Average Loss: 0.3781\n",
      "Epoch 1 Final Loss: 0.2361\n"
     ]
    },
    {
     "name": "stderr",
     "output_type": "stream",
     "text": [
      "\n"
     ]
    },
    {
     "name": "stdout",
     "output_type": "stream",
     "text": [
      "Test Accuracy: 49.29%\n",
      "\n",
      "=== Fold 20 – leaving out group 'sh4' ===\n",
      "Epoch 1:\n"
     ]
    },
    {
     "name": "stderr",
     "output_type": "stream",
     "text": [
      "100%|██████████| 1414/1414 [00:56<00:00, 25.18it/s]"
     ]
    },
    {
     "name": "stdout",
     "output_type": "stream",
     "text": [
      "Epoch 1 Average Loss: 0.3750\n",
      "Epoch 1 Final Loss: 0.3980\n"
     ]
    },
    {
     "name": "stderr",
     "output_type": "stream",
     "text": [
      "\n"
     ]
    },
    {
     "name": "stdout",
     "output_type": "stream",
     "text": [
      "Test Accuracy: 91.08%\n",
      "\n",
      "=== Fold 21 – leaving out group 'sparc' ===\n",
      "Epoch 1:\n"
     ]
    },
    {
     "name": "stderr",
     "output_type": "stream",
     "text": [
      "100%|██████████| 1429/1429 [00:56<00:00, 25.18it/s]"
     ]
    },
    {
     "name": "stdout",
     "output_type": "stream",
     "text": [
      "Epoch 1 Average Loss: 0.3382\n",
      "Epoch 1 Final Loss: 0.1028\n"
     ]
    },
    {
     "name": "stderr",
     "output_type": "stream",
     "text": [
      "\n"
     ]
    },
    {
     "name": "stdout",
     "output_type": "stream",
     "text": [
      "Test Accuracy: 4.00%\n",
      "\n",
      "=== Fold 22 – leaving out group 'sparc64' ===\n",
      "Epoch 1:\n"
     ]
    },
    {
     "name": "stderr",
     "output_type": "stream",
     "text": [
      "100%|██████████| 1455/1455 [00:57<00:00, 25.43it/s]"
     ]
    },
    {
     "name": "stdout",
     "output_type": "stream",
     "text": [
      "Epoch 1 Average Loss: 0.3143\n",
      "Epoch 1 Final Loss: 0.1498\n"
     ]
    },
    {
     "name": "stderr",
     "output_type": "stream",
     "text": [
      "\n"
     ]
    },
    {
     "name": "stdout",
     "output_type": "stream",
     "text": [
      "Test Accuracy: 0.52%\n",
      "\n",
      "=== Fold 23 – leaving out group 'x32' ===\n",
      "Epoch 1:\n"
     ]
    },
    {
     "name": "stderr",
     "output_type": "stream",
     "text": [
      "100%|██████████| 1441/1441 [00:56<00:00, 25.35it/s]"
     ]
    },
    {
     "name": "stdout",
     "output_type": "stream",
     "text": [
      "Epoch 1 Average Loss: 0.3826\n",
      "Epoch 1 Final Loss: 0.3143\n"
     ]
    },
    {
     "name": "stderr",
     "output_type": "stream",
     "text": [
      "\n"
     ]
    },
    {
     "name": "stdout",
     "output_type": "stream",
     "text": [
      "Test Accuracy: 37.86%\n"
     ]
    }
   ],
   "source": [
    "logo = LeaveOneGroupOut()\n",
    "label_encoder = LabelEncoder()\n",
    "\n",
    "fold = 1\n",
    "accuracies = {}\n",
    "losses_per_fold = []  # Will store losses for each fold\n",
    "log_every_n_steps = 10\n",
    "\n",
    "for train_idx, test_idx in logo.split(\n",
    "    X=range(len(dataset)), y=target_feature, groups=groups\n",
    "):\n",
    "    group_left_out = groups[test_idx[0]]\n",
    "\n",
    "    if VALIDATION_GROUPS != None and group_left_out not in VALIDATION_GROUPS:\n",
    "        continue\n",
    "\n",
    "    print(f\"\\n=== Fold {fold} – leaving out group '{group_left_out}' ===\")\n",
    "    fold += 1\n",
    "\n",
    "    all_train_labels = [dataset.metadata[i][TARGET_FEATURE] for i in train_idx]\n",
    "    label_encoder.fit(all_train_labels)\n",
    "\n",
    "    train_dataset = Subset(dataset, train_idx)\n",
    "    test_dataset = Subset(dataset, test_idx)\n",
    "\n",
    "    train_loader = DataLoader(\n",
    "        train_dataset, batch_size=BATCH_SIZE, shuffle=True, num_workers=8\n",
    "    )\n",
    "    test_loader = DataLoader(\n",
    "        test_dataset, batch_size=BATCH_SIZE, shuffle=False, num_workers=8\n",
    "    )\n",
    "\n",
    "    model = MODEL(num_classes=2, weights=None)\n",
    "    out_channels = model.features[0][0].out_channels\n",
    "    model.features[0][0] = nn.Conv2d(\n",
    "        4, out_channels, kernel_size=3, stride=2, padding=1, bias=False\n",
    "    )\n",
    "\n",
    "    model = model.to(device)\n",
    "    criterion = nn.CrossEntropyLoss()\n",
    "    optimizer = optim.Adam(model.parameters(), lr=LEARNING_RATE)\n",
    "\n",
    "    current_fold_losses = []\n",
    "    step_counter = 0\n",
    "    # Train model\n",
    "    for epoch in range(NUM_EPOCHS):\n",
    "        model.train()\n",
    "        print(f\"Epoch {epoch+1}:\")\n",
    "        epoch_losses = []\n",
    "\n",
    "        for images, labels in tqdm(train_loader):\n",
    "            images = images.to(device)\n",
    "\n",
    "            encoded_labels = torch.from_numpy(\n",
    "                label_encoder.transform(labels[TARGET_FEATURE])\n",
    "            ).to(device)\n",
    "\n",
    "            optimizer.zero_grad()\n",
    "            predictions = model(images)\n",
    "            loss = criterion(predictions, encoded_labels)\n",
    "            loss.backward()\n",
    "            optimizer.step()\n",
    "\n",
    "            epoch_losses.append(loss.item())\n",
    "            if step_counter % log_every_n_steps == 0:\n",
    "                current_fold_losses.append({\"step\": step_counter, \"loss\": loss.item()})\n",
    "            step_counter += 1\n",
    "\n",
    "        avg_epoch_loss = sum(epoch_losses) / len(epoch_losses)\n",
    "        print(f\"Epoch {epoch+1} Average Loss: {avg_epoch_loss:.4f}\")\n",
    "        print(f\"Epoch {epoch+1} Final Loss: {epoch_losses[-1]:.4f}\")\n",
    "\n",
    "        # Evaluate model\n",
    "        model.eval()\n",
    "        correct = 0\n",
    "        total = 0\n",
    "        with torch.no_grad():\n",
    "            for images, labels in test_loader:\n",
    "                images = images.to(device)\n",
    "                encoded_labels = torch.from_numpy(\n",
    "                    label_encoder.transform(labels[TARGET_FEATURE])\n",
    "                ).to(device)\n",
    "\n",
    "                outputs = model(images)\n",
    "\n",
    "                _, predicted = torch.max(outputs, 1)\n",
    "                correct += (predicted == encoded_labels).sum().item()\n",
    "                total += encoded_labels.size(0)\n",
    "\n",
    "        accuracy = correct / total\n",
    "        print(f\"Test Accuracy: {100*accuracy:.2f}%\")\n",
    "\n",
    "    accuracies[group_left_out] = accuracy\n",
    "    losses_per_fold.append(\n",
    "        {\"fold\": fold - 1, \"group\": group_left_out, \"losses\": current_fold_losses}\n",
    "    )"
   ]
  },
  {
   "cell_type": "markdown",
   "metadata": {},
   "source": [
    "### Evaluate\n"
   ]
  },
  {
   "cell_type": "code",
   "execution_count": 6,
   "metadata": {},
   "outputs": [
    {
     "name": "stdout",
     "output_type": "stream",
     "text": [
      "Test accuracies for each fold/group:\n",
      "alpha: 12.49%\n",
      "amd64: 9.62%\n",
      "arm64: 7.23%\n",
      "armel: 6.20%\n",
      "armhf: 97.60%\n",
      "hppa: 95.01%\n",
      "i386: 49.68%\n",
      "ia64: 17.32%\n",
      "m68k: 98.23%\n",
      "mips: 95.62%\n",
      "mips64el: 1.81%\n",
      "mipsel: 9.54%\n",
      "powerpc: 98.40%\n",
      "powerpcspe: 86.37%\n",
      "ppc64: 4.20%\n",
      "ppc64el: 89.47%\n",
      "riscv64: 20.16%\n",
      "s390: 3.41%\n",
      "s390x: 49.29%\n",
      "sh4: 91.08%\n",
      "sparc: 4.00%\n",
      "sparc64: 0.52%\n",
      "x32: 37.86%\n",
      "\n",
      "Average LOGO cross-validated test accuracy: 0.4283 ± 0.3962\n"
     ]
    }
   ],
   "source": [
    "print(\"Test accuracies for each fold/group:\")\n",
    "for group, acc in accuracies.items():\n",
    "    print(f\"{group}: {100*acc:.2f}%\")\n",
    "\n",
    "\n",
    "# Print overall performance across folds\n",
    "mean_acc = np.mean(list(accuracies.values()))\n",
    "std_acc = np.std(list(accuracies.values()))\n",
    "print(f\"\\nAverage LOGO cross-validated test accuracy: {mean_acc:.4f} ± {std_acc:.4f}\")"
   ]
  },
  {
   "cell_type": "code",
   "execution_count": null,
   "metadata": {},
   "outputs": [
    {
     "data": {
      "image/png": "[encoded data removed]",
      "text/plain": [
       "<Figure size 640x480 with 1 Axes>"
      ]
     },
     "metadata": {},
     "output_type": "display_data"
    }
   ],
   "source": [
    "# plot losses\n",
    "for i, loss_data in enumerate(losses_per_fold):\n",
    "    plt.plot(\n",
    "        [x[\"step\"] for x in loss_data[\"losses\"]],\n",
    "        [x[\"loss\"] for x in loss_data[\"losses\"]],\n",
    "        label=f\"Fold {loss_data['fold']} - {loss_data['group']}\",\n",
    "    )\n",
    "    plt.show()"
   ]
  }
 ],
 "metadata": {
  "kernelspec": {
   "display_name": ".venv",
   "language": "python",
   "name": "python3"
  },
  "language_info": {
   "codemirror_mode": {
    "name": "ipython",
    "version": 3
   },
   "file_extension": ".py",
   "mimetype": "text/x-python",
   "name": "python",
   "nbconvert_exporter": "python",
   "pygments_lexer": "ipython3",
   "version": "3.12.8"
  }
 },
 "nbformat": 4,
 "nbformat_minor": 2
}
