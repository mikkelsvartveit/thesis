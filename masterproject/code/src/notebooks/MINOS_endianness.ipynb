{
 "cells": [
  {
   "cell_type": "code",
   "execution_count": 1,
   "metadata": {},
   "outputs": [
    {
     "name": "stdout",
     "output_type": "stream",
     "text": [
      "Using device: mps\n"
     ]
    }
   ],
   "source": [
    "import random\n",
    "from src.transforms import GrayScaleImage\n",
    "import torch\n",
    "import torch.nn as nn\n",
    "from torch.utils.data import DataLoader\n",
    "from src.models import MINOS\n",
    "from src.dataset_loaders import (\n",
    "    ISAdetectDataset,\n",
    "    random_train_test_split,\n",
    ")\n",
    "\n",
    "device = torch.device(\n",
    "    \"cuda\"\n",
    "    if torch.cuda.is_available()\n",
    "    else \"mps\" if torch.backends.mps.is_available() else \"cpu\"\n",
    ")\n",
    "print(f\"Using device: {device}\")\n",
    "\n",
    "num_epochs = 1\n",
    "learning_rate = 0.001\n",
    "batch_size = 16\n",
    "SEED = random.randint(0, 1000)\n",
    "\n",
    "dataset = ISAdetectDataset(\n",
    "    dataset_path=\"../../dataset/ISAdetect/ISAdetect_full_dataset\",\n",
    "    transform=GrayScaleImage(100, 100),\n",
    "    file_byte_read_limit=100 * 100,\n",
    ")\n",
    "train_set, test_set = random_train_test_split(dataset, test_split=0.2, seed=SEED)\n",
    "\n",
    "\n",
    "train_loader = DataLoader(train_set, batch_size=batch_size, shuffle=True, num_workers=1)\n",
    "test_loader = DataLoader(test_set, batch_size=batch_size, shuffle=False, num_workers=1)"
   ]
  },
  {
   "cell_type": "markdown",
   "metadata": {},
   "source": [
    "### Set up weights and biases\n"
   ]
  },
  {
   "cell_type": "code",
   "execution_count": 2,
   "metadata": {},
   "outputs": [
    {
     "name": "stderr",
     "output_type": "stream",
     "text": [
      "\u001b[34m\u001b[1mwandb\u001b[0m: Currently logged in as: \u001b[33mstianjsu\u001b[0m (\u001b[33mmikkel-stian-master-team\u001b[0m). Use \u001b[1m`wandb login --relogin`\u001b[0m to force relogin\n",
      "\u001b[34m\u001b[1mwandb\u001b[0m: Using wandb-core as the SDK backend.  Please refer to https://wandb.me/wandb-core for more information.\n"
     ]
    },
    {
     "data": {
      "text/html": [
       "Tracking run with wandb version 0.19.4"
      ],
      "text/plain": [
       "<IPython.core.display.HTML object>"
      ]
     },
     "metadata": {},
     "output_type": "display_data"
    },
    {
     "data": {
      "text/html": [
       "Run data is saved locally in <code>/Users/stiansulebak/Documents/git/NTNU/prosjektoppgave/thesis/masterproject/code/src/notebooks/wandb/run-20250128_130130-4r3t9hll</code>"
      ],
      "text/plain": [
       "<IPython.core.display.HTML object>"
      ]
     },
     "metadata": {},
     "output_type": "display_data"
    },
    {
     "data": {
      "text/html": [
       "Syncing run <strong><a href='https://wandb.ai/mikkel-stian-master-team/master-thesis/runs/4r3t9hll' target=\"_blank\">pleasant-snow-1</a></strong> to <a href='https://wandb.ai/mikkel-stian-master-team/master-thesis' target=\"_blank\">Weights & Biases</a> (<a href='https://wandb.me/developer-guide' target=\"_blank\">docs</a>)<br>"
      ],
      "text/plain": [
       "<IPython.core.display.HTML object>"
      ]
     },
     "metadata": {},
     "output_type": "display_data"
    },
    {
     "data": {
      "text/html": [
       " View project at <a href='https://wandb.ai/mikkel-stian-master-team/master-thesis' target=\"_blank\">https://wandb.ai/mikkel-stian-master-team/master-thesis</a>"
      ],
      "text/plain": [
       "<IPython.core.display.HTML object>"
      ]
     },
     "metadata": {},
     "output_type": "display_data"
    },
    {
     "data": {
      "text/html": [
       " View run at <a href='https://wandb.ai/mikkel-stian-master-team/master-thesis/runs/4r3t9hll' target=\"_blank\">https://wandb.ai/mikkel-stian-master-team/master-thesis/runs/4r3t9hll</a>"
      ],
      "text/plain": [
       "<IPython.core.display.HTML object>"
      ]
     },
     "metadata": {},
     "output_type": "display_data"
    },
    {
     "data": {
      "text/html": [
       "<button onClick=\"this.nextSibling.style.display='block';this.style.display='none';\">Display W&B run</button><iframe src='https://wandb.ai/mikkel-stian-master-team/master-thesis/runs/4r3t9hll?jupyter=true' style='border:none;width:100%;height:420px;display:none;'></iframe>"
      ],
      "text/plain": [
       "<wandb.sdk.wandb_run.Run at 0x152722cc0>"
      ]
     },
     "execution_count": 2,
     "metadata": {},
     "output_type": "execute_result"
    }
   ],
   "source": [
    "import wandb\n",
    "\n",
    "wandb.login()\n",
    "\n",
    "wandb.init(\n",
    "    project=\"master-thesis\",\n",
    "    config={\n",
    "        \"architecture\": \"MINOS\",\n",
    "        \"target_feature\": \"endianness\",\n",
    "        \"optimizer\": \"Adam\",\n",
    "        \"loss_function\": \"BCELoss\",\n",
    "        \"learning_rate\": learning_rate,\n",
    "        \"batch_size\": batch_size,\n",
    "        \"num_epochs\": num_epochs,\n",
    "        \"seed\": SEED,\n",
    "    },\n",
    ")"
   ]
  },
  {
   "cell_type": "markdown",
   "metadata": {},
   "source": [
    "### Define model and optimizer\n"
   ]
  },
  {
   "cell_type": "code",
   "execution_count": 3,
   "metadata": {},
   "outputs": [],
   "source": [
    "criterion = nn.BCELoss()\n",
    "model = MINOS(num_classes=1).to(device)\n",
    "optimizer = torch.optim.Adam(model.parameters(), lr=learning_rate)\n",
    "\n",
    "wandb.watch(\n",
    "    model, criterion=nn.BCELoss, log_graph=True, log=[\"gradients\", \"parameters\", \"all\"]\n",
    ")"
   ]
  },
  {
   "cell_type": "code",
   "execution_count": 4,
   "metadata": {},
   "outputs": [
    {
     "name": "stdout",
     "output_type": "stream",
     "text": [
      "Training model...\n"
     ]
    },
    {
     "name": "stderr",
     "output_type": "stream",
     "text": [
      "Epoch 1/1: 100%|██████████| 4820/4820 [03:20<00:00, 24.05it/s]"
     ]
    },
    {
     "name": "stdout",
     "output_type": "stream",
     "text": [
      "Epoch 1/1, Loss: 0.0010255926754325628\n"
     ]
    },
    {
     "name": "stderr",
     "output_type": "stream",
     "text": [
      "\n"
     ]
    }
   ],
   "source": [
    "from tqdm import tqdm\n",
    "\n",
    "endianness_map = {\"little\": 0, \"big\": 1}\n",
    "print(\"Training model...\")\n",
    "# Training loop\n",
    "for epoch in range(num_epochs):\n",
    "    model.train()\n",
    "    for i, (batch_x, batch_y) in enumerate(\n",
    "        tqdm(train_loader, desc=f\"Epoch {epoch+1}/{num_epochs}\")\n",
    "    ):\n",
    "\n",
    "        mask = [\n",
    "            i\n",
    "            for i, arch in enumerate(batch_y[\"architecture\"])\n",
    "            if arch not in [\"mips\", \"mipsel\"]\n",
    "        ]\n",
    "        if not mask:\n",
    "            continue  # Skip batch if all samples are MIPS\n",
    "\n",
    "        # Apply mask to batch\n",
    "        filtered_batch_x = batch_x[mask].to(device)\n",
    "        filtered_batch_y = {k: [v[i] for i in mask] for k, v in batch_y.items()}\n",
    "\n",
    "        optimizer.zero_grad()\n",
    "        output = model(filtered_batch_x / 255.0)\n",
    "        targets = torch.tensor(\n",
    "            [endianness_map[e] for e in filtered_batch_y[\"endianness\"]],\n",
    "            dtype=torch.float32,\n",
    "        ).to(device)\n",
    "        loss = criterion(output, targets.unsqueeze(1))\n",
    "        loss.backward()\n",
    "        optimizer.step()\n",
    "\n",
    "        # if (i + 1) % (len(train_loader) // 20) == 0:\n",
    "        #     print(f\"Step {i+1}, Loss: {loss.item()}\")\n",
    "        if i % 400 == 0:\n",
    "            wandb.log({\"loss\": loss.item()}, step=i)\n",
    "    print(f\"Epoch {epoch+1}/{num_epochs}, Loss: {loss.item()}\")"
   ]
  },
  {
   "cell_type": "markdown",
   "metadata": {},
   "source": [
    "### Test model on .code only\n"
   ]
  },
  {
   "cell_type": "code",
   "execution_count": 5,
   "metadata": {},
   "outputs": [
    {
     "name": "stdout",
     "output_type": "stream",
     "text": [
      "dataset.use_code_only=True\n",
      "\n",
      "Overall Accuracy: 0.9717 (18733/19279)\n",
      "\n",
      "Per-Architecture Accuracies:\n",
      "alpha     : 0.9976 (826/828)\n",
      "amd64     : 1.0000 (875/875)\n",
      "arm64     : 0.9961 (759/762)\n",
      "armel     : 1.0000 (761/761)\n",
      "armhf     : 1.0000 (797/797)\n",
      "hppa      : 0.9936 (927/933)\n",
      "i386      : 1.0000 (997/997)\n",
      "ia64      : 1.0000 (1029/1029)\n",
      "m68k      : 0.9641 (806/836)\n",
      "mips      : 0.4228 (304/719)\n",
      "mips64el  : 1.0000 (880/880)\n",
      "mipsel    : 0.9539 (704/738)\n",
      "powerpc   : 1.0000 (711/711)\n",
      "powerpcspe: 0.9987 (765/766)\n",
      "ppc64     : 0.9914 (575/580)\n",
      "ppc64el   : 1.0000 (713/713)\n",
      "riscv64   : 1.0000 (869/869)\n",
      "s390      : 0.9813 (998/1017)\n",
      "s390x     : 0.9934 (749/754)\n",
      "sh4       : 1.0000 (1187/1187)\n",
      "sparc     : 0.9858 (1045/1060)\n",
      "sparc64   : 0.9839 (611/621)\n",
      "x32       : 0.9988 (845/846)\n"
     ]
    }
   ],
   "source": [
    "# Test model on code only\n",
    "dataset.use_code_only = True\n",
    "print(f\"{dataset.use_code_only=}\")\n",
    "model.eval()\n",
    "with torch.no_grad():\n",
    "    correct = 0\n",
    "    total = 0\n",
    "    arch_stats = {}\n",
    "    for batch_x, batch_y in test_loader:\n",
    "        batch_x = batch_x.to(device)\n",
    "        output = model(batch_x / 255.0)\n",
    "        batch_y_endian = [endianness_map[e] for e in batch_y[\"endianness\"]]\n",
    "        batch_y_arch = batch_y[\"architecture\"]\n",
    "        for i in range(len(output)):\n",
    "            if output[i] >= 0.5:\n",
    "                pred = 1\n",
    "            else:\n",
    "                pred = 0\n",
    "\n",
    "            current_arch = batch_y_arch[i]\n",
    "            if current_arch not in arch_stats:\n",
    "                arch_stats[current_arch] = {\"correct\": 0, \"total\": 0}\n",
    "\n",
    "            if pred == batch_y_endian[i]:\n",
    "                correct += 1\n",
    "                arch_stats[current_arch][\"correct\"] += 1\n",
    "\n",
    "            arch_stats[current_arch][\"total\"] += 1\n",
    "            total += 1\n",
    "\n",
    "    overall_accuracy = correct / total\n",
    "    print(f\"\\nOverall Accuracy: {overall_accuracy:.4f} ({correct}/{total})\")\n",
    "    wandb.log({\".code_accuracy\": overall_accuracy})\n",
    "\n",
    "    # Print per-architecture accuracies\n",
    "    print(\"\\nPer-Architecture Accuracies:\")\n",
    "    for arch in sorted(arch_stats.keys()):\n",
    "        arch_correct = arch_stats[arch][\"correct\"]\n",
    "        arch_total = arch_stats[arch][\"total\"]\n",
    "        arch_accuracy = arch_correct / arch_total\n",
    "        arch_stats[arch][\"accuracy\"] = arch_accuracy\n",
    "        print(f\"{arch:10s}: {arch_accuracy:.4f} ({arch_correct}/{arch_total})\")\n",
    "    wandb.log(arch_stats)\n",
    "    acc_table = wandb.Table(\n",
    "        columns=[\"Architecture\", \"Accuracy\"],\n",
    "        data=[[arch, arch_stats[arch][\"accuracy\"]] for arch in arch_stats],\n",
    "    )\n",
    "    acc_bar_chart = wandb.plot.bar(\n",
    "        table=acc_table,\n",
    "        label=\"Architecture\",\n",
    "        value=\"Accuracy\",\n",
    "        title=\"Accuracy per Architecture\",\n",
    "    )\n",
    "    wandb.log({\"accuracy_bar\": acc_bar_chart})\n",
    "    wandb.run"
   ]
  },
  {
   "cell_type": "code",
   "execution_count": 6,
   "metadata": {},
   "outputs": [
    {
     "name": "stdout",
     "output_type": "stream",
     "text": [
      "Accuracy: 0.3013623978201635\n",
      "Class 1: 3565, Total: 7340, Percentage: 0.48569482288828336, Correct: 2049\n"
     ]
    },
    {
     "data": {
      "text/html": [],
      "text/plain": [
       "<IPython.core.display.HTML object>"
      ]
     },
     "metadata": {},
     "output_type": "display_data"
    },
    {
     "data": {
      "text/html": [
       "<br>    <style><br>        .wandb-row {<br>            display: flex;<br>            flex-direction: row;<br>            flex-wrap: wrap;<br>            justify-content: flex-start;<br>            width: 100%;<br>        }<br>        .wandb-col {<br>            display: flex;<br>            flex-direction: column;<br>            flex-basis: 100%;<br>            flex: 1;<br>            padding: 10px;<br>        }<br>    </style><br><div class=\"wandb-row\"><div class=\"wandb-col\"><h3>Run history:</h3><br/><table class=\"wandb\"><tr><td>.code_accuracy</td><td>▁</td></tr><tr><td>loss</td><td>█▃▂▁▁▁▁▁▁▁▁▁▁</td></tr></table><br/></div><div class=\"wandb-col\"><h3>Run summary:</h3><br/><table class=\"wandb\"><tr><td>.code_accuracy</td><td>0.97168</td></tr><tr><td>loss</td><td>0.00107</td></tr></table><br/></div></div>"
      ],
      "text/plain": [
       "<IPython.core.display.HTML object>"
      ]
     },
     "metadata": {},
     "output_type": "display_data"
    },
    {
     "data": {
      "text/html": [
       " View run <strong style=\"color:#cdcd00\">pleasant-snow-1</strong> at: <a href='https://wandb.ai/mikkel-stian-master-team/master-thesis/runs/4r3t9hll' target=\"_blank\">https://wandb.ai/mikkel-stian-master-team/master-thesis/runs/4r3t9hll</a><br> View project at: <a href='https://wandb.ai/mikkel-stian-master-team/master-thesis' target=\"_blank\">https://wandb.ai/mikkel-stian-master-team/master-thesis</a><br>Synced 5 W&B file(s), 1 media file(s), 2 artifact file(s) and 0 other file(s)"
      ],
      "text/plain": [
       "<IPython.core.display.HTML object>"
      ]
     },
     "metadata": {},
     "output_type": "display_data"
    },
    {
     "data": {
      "text/html": [
       "Find logs at: <code>./wandb/run-20250128_130130-4r3t9hll/logs</code>"
      ],
      "text/plain": [
       "<IPython.core.display.HTML object>"
      ]
     },
     "metadata": {},
     "output_type": "display_data"
    }
   ],
   "source": [
    "from src.dataset_loaders import MipsMipselDataset as MD\n",
    "\n",
    "\n",
    "dataset_mips = MD(\n",
    "    mips_dir=\"../../dataset/ISAdetect/ISAdetect_full_dataset/mips\",\n",
    "    mipsel_dir=\"../../dataset/ISAdetect/ISAdetect_full_dataset/mipsel\",\n",
    "    transform=GrayScaleImage(100, 100),\n",
    ")\n",
    "\n",
    "train_set, test_set = random_train_test_split(dataset, test_split=0.2, seed=SEED)\n",
    "\n",
    "mips_dataloader = DataLoader(dataset=dataset_mips, batch_size=4, shuffle=False)\n",
    "\n",
    "model.eval()\n",
    "with torch.no_grad():\n",
    "    correct = 0\n",
    "    correct_class_1 = 0\n",
    "    class_1 = 0\n",
    "    total = 0\n",
    "    arch_stats = {}\n",
    "    for batch_x, batch_y in mips_dataloader:\n",
    "        batch_x = batch_x.to(device)\n",
    "        output = model(batch_x / 255.0)\n",
    "        for i in range(len(output)):\n",
    "            if output[i] >= 0.5:\n",
    "                pred = 1\n",
    "            else:\n",
    "                pred = 0\n",
    "            if pred == batch_y[i]:\n",
    "                correct += 1\n",
    "            if batch_y[i] == 0:\n",
    "                class_1 += 1\n",
    "                if pred == 0:\n",
    "                    correct_class_1 += 1\n",
    "            total += 1\n",
    "\n",
    "    print(f\"Accuracy: {correct/total}\")\n",
    "    print(\n",
    "        f\"Class 1: {class_1}, Total: {total}, Percentage: {class_1/total}, Correct: {correct_class_1}\"\n",
    "    )\n",
    "    wandb.finish()"
   ]
  }
 ],
 "metadata": {
  "kernelspec": {
   "display_name": ".venv",
   "language": "python",
   "name": "python3"
  },
  "language_info": {
   "codemirror_mode": {
    "name": "ipython",
    "version": 3
   },
   "file_extension": ".py",
   "mimetype": "text/x-python",
   "name": "python",
   "nbconvert_exporter": "python",
   "pygments_lexer": "ipython3",
   "version": "3.12.8"
  }
 },
 "nbformat": 4,
 "nbformat_minor": 2
}
