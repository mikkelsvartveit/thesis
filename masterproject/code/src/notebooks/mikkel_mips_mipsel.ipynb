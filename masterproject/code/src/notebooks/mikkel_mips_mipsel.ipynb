{
 "cells": [
  {
   "cell_type": "markdown",
   "metadata": {},
   "source": [
    "### Load the dataset\n"
   ]
  },
  {
   "cell_type": "code",
   "execution_count": 65,
   "metadata": {},
   "outputs": [
    {
     "data": {
      "text/html": [
       "<div>\n",
       "<style scoped>\n",
       "    .dataframe tbody tr th:only-of-type {\n",
       "        vertical-align: middle;\n",
       "    }\n",
       "\n",
       "    .dataframe tbody tr th {\n",
       "        vertical-align: top;\n",
       "    }\n",
       "\n",
       "    .dataframe thead th {\n",
       "        text-align: right;\n",
       "    }\n",
       "</style>\n",
       "<table border=\"1\" class=\"dataframe\">\n",
       "  <thead>\n",
       "    <tr style=\"text-align: right;\">\n",
       "      <th></th>\n",
       "      <th>filename</th>\n",
       "      <th>byte_array</th>\n",
       "      <th>instruction_set</th>\n",
       "    </tr>\n",
       "  </thead>\n",
       "  <tbody>\n",
       "    <tr>\n",
       "      <th>0</th>\n",
       "      <td>bb985a7161e0d0017cfc29a4026733eb.code</td>\n",
       "      <td>[60, 28, 0, 4, 39, 156, 227, 240, 3, 153, 224,...</td>\n",
       "      <td>mips</td>\n",
       "    </tr>\n",
       "    <tr>\n",
       "      <th>1</th>\n",
       "      <td>8a74d331e33f5e88434b39f143a0b955.code</td>\n",
       "      <td>[60, 28, 0, 2, 39, 156, 144, 12, 3, 153, 224, ...</td>\n",
       "      <td>mips</td>\n",
       "    </tr>\n",
       "    <tr>\n",
       "      <th>2</th>\n",
       "      <td>82afd73ec69466140b30c0376797285d.code</td>\n",
       "      <td>[60, 28, 0, 2, 39, 156, 86, 72, 3, 153, 224, 3...</td>\n",
       "      <td>mips</td>\n",
       "    </tr>\n",
       "    <tr>\n",
       "      <th>3</th>\n",
       "      <td>f3161e2ab0199b09ce4f1aeae5ce3571.code</td>\n",
       "      <td>[60, 28, 0, 2, 39, 156, 85, 52, 3, 153, 224, 3...</td>\n",
       "      <td>mips</td>\n",
       "    </tr>\n",
       "    <tr>\n",
       "      <th>4</th>\n",
       "      <td>91b889d38cb43b9430457599c0cca0f3.code</td>\n",
       "      <td>[60, 28, 0, 3, 39, 156, 41, 252, 3, 153, 224, ...</td>\n",
       "      <td>mips</td>\n",
       "    </tr>\n",
       "  </tbody>\n",
       "</table>\n",
       "</div>"
      ],
      "text/plain": [
       "                                filename  \\\n",
       "0  bb985a7161e0d0017cfc29a4026733eb.code   \n",
       "1  8a74d331e33f5e88434b39f143a0b955.code   \n",
       "2  82afd73ec69466140b30c0376797285d.code   \n",
       "3  f3161e2ab0199b09ce4f1aeae5ce3571.code   \n",
       "4  91b889d38cb43b9430457599c0cca0f3.code   \n",
       "\n",
       "                                          byte_array instruction_set  \n",
       "0  [60, 28, 0, 4, 39, 156, 227, 240, 3, 153, 224,...            mips  \n",
       "1  [60, 28, 0, 2, 39, 156, 144, 12, 3, 153, 224, ...            mips  \n",
       "2  [60, 28, 0, 2, 39, 156, 86, 72, 3, 153, 224, 3...            mips  \n",
       "3  [60, 28, 0, 2, 39, 156, 85, 52, 3, 153, 224, 3...            mips  \n",
       "4  [60, 28, 0, 3, 39, 156, 41, 252, 3, 153, 224, ...            mips  "
      ]
     },
     "execution_count": 65,
     "metadata": {},
     "output_type": "execute_result"
    }
   ],
   "source": [
    "import os\n",
    "import numpy as np\n",
    "import pandas as pd\n",
    "\n",
    "\n",
    "def read_binary_files(directory, label):\n",
    "    data = []\n",
    "    for filename in os.listdir(directory):\n",
    "        file_path = os.path.join(directory, filename)\n",
    "        if file_path.endswith(\".code\") and os.path.isfile(file_path):\n",
    "            with open(file_path, \"rb\") as file:\n",
    "                byte_array = np.frombuffer(file.read(), dtype=np.uint8)\n",
    "                data.append(\n",
    "                    {\n",
    "                        \"filename\": filename,\n",
    "                        \"byte_array\": byte_array,\n",
    "                        \"instruction_set\": label,\n",
    "                    }\n",
    "                )\n",
    "    return pd.DataFrame(data)\n",
    "\n",
    "\n",
    "mips_df = read_binary_files(\n",
    "    \"../../dataset/ISAdetect/ISAdetect_full_dataset/mips\", label=\"mips\"\n",
    ")\n",
    "mipsel_df = read_binary_files(\n",
    "    \"../../dataset/ISAdetect/ISAdetect_full_dataset/mipsel\", label=\"mipsel\"\n",
    ")\n",
    "\n",
    "data_df = pd.concat([mips_df, mipsel_df])\n",
    "\n",
    "data_df.head()"
   ]
  },
  {
   "cell_type": "markdown",
   "metadata": {},
   "source": [
    "### Add byte value frequency features\n"
   ]
  },
  {
   "cell_type": "code",
   "execution_count": 2,
   "metadata": {},
   "outputs": [],
   "source": [
    "# def count_normalized_bytes(byte_array):\n",
    "#     counts = np.bincount(byte_array, minlength=256)\n",
    "#     return counts / counts.sum()\n",
    "\n",
    "\n",
    "# byte_features = data_df[\"byte_array\"].apply(count_normalized_bytes)\n",
    "# byte_columns = [f\"byte_{i}\" for i in range(256)]\n",
    "# byte_df = pd.DataFrame(byte_features.tolist(), columns=byte_columns)\n",
    "# byte_df.index = data_df.index\n",
    "# df_with_byte_features = pd.concat([data_df, byte_df], axis=1)\n",
    "\n",
    "# df_with_byte_features.head()"
   ]
  },
  {
   "cell_type": "markdown",
   "metadata": {},
   "source": [
    "### Add heuristic features for endianness detection\n"
   ]
  },
  {
   "cell_type": "code",
   "execution_count": 66,
   "metadata": {},
   "outputs": [
    {
     "data": {
      "text/html": [
       "<div>\n",
       "<style scoped>\n",
       "    .dataframe tbody tr th:only-of-type {\n",
       "        vertical-align: middle;\n",
       "    }\n",
       "\n",
       "    .dataframe tbody tr th {\n",
       "        vertical-align: top;\n",
       "    }\n",
       "\n",
       "    .dataframe thead th {\n",
       "        text-align: right;\n",
       "    }\n",
       "</style>\n",
       "<table border=\"1\" class=\"dataframe\">\n",
       "  <thead>\n",
       "    <tr style=\"text-align: right;\">\n",
       "      <th></th>\n",
       "      <th>filename</th>\n",
       "      <th>byte_array</th>\n",
       "      <th>instruction_set</th>\n",
       "      <th>count_0001</th>\n",
       "      <th>count_0100</th>\n",
       "      <th>count_fffe</th>\n",
       "      <th>count_feff</th>\n",
       "    </tr>\n",
       "  </thead>\n",
       "  <tbody>\n",
       "    <tr>\n",
       "      <th>0</th>\n",
       "      <td>bb985a7161e0d0017cfc29a4026733eb.code</td>\n",
       "      <td>[60, 28, 0, 4, 39, 156, 227, 240, 3, 153, 224,...</td>\n",
       "      <td>mips</td>\n",
       "      <td>313</td>\n",
       "      <td>47</td>\n",
       "      <td>22</td>\n",
       "      <td>0</td>\n",
       "    </tr>\n",
       "    <tr>\n",
       "      <th>1</th>\n",
       "      <td>8a74d331e33f5e88434b39f143a0b955.code</td>\n",
       "      <td>[60, 28, 0, 2, 39, 156, 144, 12, 3, 153, 224, ...</td>\n",
       "      <td>mips</td>\n",
       "      <td>24</td>\n",
       "      <td>4</td>\n",
       "      <td>1</td>\n",
       "      <td>0</td>\n",
       "    </tr>\n",
       "    <tr>\n",
       "      <th>2</th>\n",
       "      <td>82afd73ec69466140b30c0376797285d.code</td>\n",
       "      <td>[60, 28, 0, 2, 39, 156, 86, 72, 3, 153, 224, 3...</td>\n",
       "      <td>mips</td>\n",
       "      <td>466</td>\n",
       "      <td>113</td>\n",
       "      <td>12</td>\n",
       "      <td>0</td>\n",
       "    </tr>\n",
       "    <tr>\n",
       "      <th>3</th>\n",
       "      <td>f3161e2ab0199b09ce4f1aeae5ce3571.code</td>\n",
       "      <td>[60, 28, 0, 2, 39, 156, 85, 52, 3, 153, 224, 3...</td>\n",
       "      <td>mips</td>\n",
       "      <td>478</td>\n",
       "      <td>119</td>\n",
       "      <td>12</td>\n",
       "      <td>0</td>\n",
       "    </tr>\n",
       "    <tr>\n",
       "      <th>4</th>\n",
       "      <td>91b889d38cb43b9430457599c0cca0f3.code</td>\n",
       "      <td>[60, 28, 0, 3, 39, 156, 41, 252, 3, 153, 224, ...</td>\n",
       "      <td>mips</td>\n",
       "      <td>253</td>\n",
       "      <td>15</td>\n",
       "      <td>0</td>\n",
       "      <td>0</td>\n",
       "    </tr>\n",
       "  </tbody>\n",
       "</table>\n",
       "</div>"
      ],
      "text/plain": [
       "                                filename  \\\n",
       "0  bb985a7161e0d0017cfc29a4026733eb.code   \n",
       "1  8a74d331e33f5e88434b39f143a0b955.code   \n",
       "2  82afd73ec69466140b30c0376797285d.code   \n",
       "3  f3161e2ab0199b09ce4f1aeae5ce3571.code   \n",
       "4  91b889d38cb43b9430457599c0cca0f3.code   \n",
       "\n",
       "                                          byte_array instruction_set  \\\n",
       "0  [60, 28, 0, 4, 39, 156, 227, 240, 3, 153, 224,...            mips   \n",
       "1  [60, 28, 0, 2, 39, 156, 144, 12, 3, 153, 224, ...            mips   \n",
       "2  [60, 28, 0, 2, 39, 156, 86, 72, 3, 153, 224, 3...            mips   \n",
       "3  [60, 28, 0, 2, 39, 156, 85, 52, 3, 153, 224, 3...            mips   \n",
       "4  [60, 28, 0, 3, 39, 156, 41, 252, 3, 153, 224, ...            mips   \n",
       "\n",
       "   count_0001  count_0100  count_fffe  count_feff  \n",
       "0         313          47          22           0  \n",
       "1          24           4           1           0  \n",
       "2         466         113          12           0  \n",
       "3         478         119          12           0  \n",
       "4         253          15           0           0  "
      ]
     },
     "execution_count": 66,
     "metadata": {},
     "output_type": "execute_result"
    }
   ],
   "source": [
    "def add_endian_features(df):\n",
    "    def count_patterns(byte_array):\n",
    "        arr = np.array(byte_array)\n",
    "        pairs = np.column_stack((arr[:-1], arr[1:]))\n",
    "\n",
    "        count_0001 = np.sum((pairs == [0x00, 0x01]).all(axis=1))\n",
    "        count_0100 = np.sum((pairs == [0x01, 0x00]).all(axis=1))\n",
    "        count_fffe = np.sum((pairs == [0xFF, 0xFE]).all(axis=1))\n",
    "        count_feff = np.sum((pairs == [0xFE, 0xFF]).all(axis=1))\n",
    "\n",
    "        return count_0001, count_0100, count_fffe, count_feff\n",
    "\n",
    "    counts = df[\"byte_array\"].apply(count_patterns)\n",
    "\n",
    "    df[\"count_0001\"], df[\"count_0100\"], df[\"count_fffe\"], df[\"count_feff\"] = zip(\n",
    "        *counts\n",
    "    )\n",
    "\n",
    "    return df\n",
    "\n",
    "\n",
    "df_with_features = add_endian_features(data_df)\n",
    "df_with_features.head()"
   ]
  },
  {
   "cell_type": "markdown",
   "metadata": {},
   "source": [
    "### Prepare Torch tensors\n"
   ]
  },
  {
   "cell_type": "code",
   "execution_count": 186,
   "metadata": {},
   "outputs": [
    {
     "data": {
      "text/plain": [
       "torch.Size([7340, 4])"
      ]
     },
     "execution_count": 186,
     "metadata": {},
     "output_type": "execute_result"
    }
   ],
   "source": [
    "import torch\n",
    "\n",
    "X = torch.tensor(\n",
    "    df_with_features[[\"count_0001\", \"count_0100\", \"count_fffe\", \"count_feff\"]].values,\n",
    "    dtype=torch.float,\n",
    ")\n",
    "\n",
    "# 0 for mips, 1 for mipsel\n",
    "y = torch.tensor(\n",
    "    df_with_features[[\"instruction_set\"]].map(lambda x: 0 if x == \"mips\" else 1).values,\n",
    "    dtype=torch.float,\n",
    ")\n",
    "\n",
    "X.size()"
   ]
  },
  {
   "cell_type": "markdown",
   "metadata": {},
   "source": [
    "### Split into train and test\n"
   ]
  },
  {
   "cell_type": "code",
   "execution_count": 188,
   "metadata": {},
   "outputs": [],
   "source": [
    "from sklearn.preprocessing import StandardScaler\n",
    "\n",
    "train_size = int(len(X) * 0.8)\n",
    "indices = torch.randperm(len(X))\n",
    "\n",
    "X_train = X[indices[:train_size]]\n",
    "y_train = y[indices[:train_size]]\n",
    "\n",
    "X_test = X[indices[train_size:]]\n",
    "y_test = y[indices[train_size:]]\n",
    "\n",
    "# Normalize X\n",
    "scaler = StandardScaler()\n",
    "X_train = torch.tensor(scaler.fit_transform(X_train), dtype=torch.float)\n",
    "X_test = torch.tensor(scaler.transform(X_test), dtype=torch.float)"
   ]
  },
  {
   "cell_type": "markdown",
   "metadata": {},
   "source": [
    "### Create Pytorch model\n"
   ]
  },
  {
   "cell_type": "code",
   "execution_count": 190,
   "metadata": {},
   "outputs": [
    {
     "name": "stdout",
     "output_type": "stream",
     "text": [
      "Epoch 1000: loss 0.20394288003444672\n",
      "Epoch 2000: loss 0.14490991830825806\n",
      "Epoch 3000: loss 0.11138653755187988\n",
      "Epoch 4000: loss 0.08832225948572159\n",
      "Epoch 5000: loss 0.07115404307842255\n",
      "Epoch 6000: loss 0.05791636183857918\n",
      "Epoch 7000: loss 0.04757949709892273\n",
      "Epoch 8000: loss 0.03950663283467293\n",
      "Epoch 9000: loss 0.03323638066649437\n",
      "Epoch 10000: loss 0.02840394154191017\n",
      "Accuracy: 0.9966\n"
     ]
    }
   ],
   "source": [
    "class LogisticRegression(torch.nn.Module):\n",
    "    def __init__(self, input_size, output_size):\n",
    "        super(LogisticRegression, self).__init__()\n",
    "        self.linear = torch.nn.Linear(input_size, output_size)\n",
    "        self.sigmoid = torch.nn.Sigmoid()\n",
    "\n",
    "    def forward(self, x):\n",
    "        out = self.linear(x)\n",
    "        out = self.sigmoid(out)\n",
    "        return out\n",
    "\n",
    "\n",
    "model = LogisticRegression(4, 1)\n",
    "loss = torch.nn.BCELoss()\n",
    "optimizer = torch.optim.Adam(model.parameters(), lr=0.1)\n",
    "epochs = 10000\n",
    "\n",
    "# Training loop\n",
    "for epoch in range(epochs):\n",
    "    # Forward pass\n",
    "    y_pred = model(X_train)\n",
    "\n",
    "    # Compute loss\n",
    "    l = loss(y_pred, y_train)\n",
    "\n",
    "    # Backward pass\n",
    "    l.backward()\n",
    "\n",
    "    # Update weights\n",
    "    optimizer.step()\n",
    "    optimizer.zero_grad()\n",
    "\n",
    "    # Print loss\n",
    "    if (epoch + 1) % 1000 == 0:\n",
    "        print(f\"Epoch {epoch + 1}: loss {l.item()}\")\n",
    "\n",
    "y_test_pred = model(X_test)\n",
    "\n",
    "model.eval()\n",
    "with torch.no_grad():\n",
    "    y_test_pred = model(X_test)\n",
    "    y_test_pred_binary = (y_test_pred > 0.5).float()\n",
    "\n",
    "    # Calculate accuracy\n",
    "    accuracy = (y_test_pred_binary == y_test).float().mean()\n",
    "    print(f\"Accuracy: {accuracy.item():.4f}\")"
   ]
  },
  {
   "cell_type": "code",
   "execution_count": null,
   "metadata": {},
   "outputs": [],
   "source": []
  }
 ],
 "metadata": {
  "kernelspec": {
   "display_name": ".venv",
   "language": "python",
   "name": "python3"
  },
  "language_info": {
   "codemirror_mode": {
    "name": "ipython",
    "version": 3
   },
   "file_extension": ".py",
   "mimetype": "text/x-python",
   "name": "python",
   "nbconvert_exporter": "python",
   "pygments_lexer": "ipython3",
   "version": "3.12.8"
  }
 },
 "nbformat": 4,
 "nbformat_minor": 2
}
