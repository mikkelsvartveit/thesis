{
 "cells": [
  {
   "cell_type": "code",
   "execution_count": 1,
   "id": "e349a4b2",
   "metadata": {},
   "outputs": [],
   "source": [
    "import os\n",
    "from pathlib import Path\n",
    "import pandas as pd\n",
    "from IPython.display import display, Markdown\n",
    "import statistics\n",
    "\n",
    "\n",
    "# ISAdetect\n",
    "def get_folder_size_ISAdetect(folder_path, min_file_size=0):\n",
    "    \"\"\"Calculate the total size of all files in a folder and its subfolders.\"\"\"\n",
    "    total_size = 0\n",
    "    num_files = 0\n",
    "    for path, dirs, files in os.walk(folder_path):\n",
    "        for file in files:\n",
    "            # skip if file is not *.code\n",
    "            if not file.endswith(\".code\"):\n",
    "                continue\n",
    "            file_path = os.path.join(path, file)\n",
    "            size = os.path.getsize(file_path)\n",
    "            if size < min_file_size:\n",
    "                continue\n",
    "            num_files += 1\n",
    "            total_size += size\n",
    "    return total_size, num_files, total_size / num_files if num_files else 0\n",
    "\n",
    "\n",
    "# BuildCross\n",
    "def get_folder_size_BuildCross(folder_path, min_file_size=0):\n",
    "    \"\"\"Calculate the total size of all files in a folder and its subfolders.\"\"\"\n",
    "    total_size = 0\n",
    "    num_files = 0\n",
    "    num_512_files = 0\n",
    "    num_1024_files = 0\n",
    "    for path, dirs, files in os.walk(folder_path):\n",
    "        for file in files:\n",
    "            file_path = os.path.join(path, file)\n",
    "            size = os.path.getsize(file_path)\n",
    "            if size < min_file_size:\n",
    "                continue\n",
    "            num_files += 1\n",
    "            num_512_files += size // 512\n",
    "            num_1024_files += size // 1024\n",
    "            total_size += size\n",
    "    return (\n",
    "        total_size,\n",
    "        num_files,\n",
    "        num_512_files,\n",
    "        num_1024_files,\n",
    "        total_size / num_files if num_files else 0,\n",
    "    )\n",
    "\n",
    "\n",
    "# CpuRec\n",
    "def get_file_sizes_CpuRec(folder_path):\n",
    "    \"\"\"Get a list of file sizes in a folder and its subfolders.\"\"\"\n",
    "    arch_details = {}\n",
    "    for path, dirs, files in os.walk(folder_path):\n",
    "        for file in files:\n",
    "            name = file.split(\".\")[0]\n",
    "            file_path = os.path.join(path, file)\n",
    "            arch_details[name] = {\"file_size\": os.path.getsize(file_path)}\n",
    "    return arch_details\n",
    "\n",
    "\n",
    "features = [\"endianness\", \"instructionwidth_type\"]"
   ]
  },
  {
   "cell_type": "markdown",
   "id": "325b3b55",
   "metadata": {},
   "source": [
    "#### ISAdetect\n"
   ]
  },
  {
   "cell_type": "code",
   "execution_count": 2,
   "id": "f62f5b8a",
   "metadata": {},
   "outputs": [
    {
     "name": "stdout",
     "output_type": "stream",
     "text": [
      "ISAdetect Arch_details: (files smaller than 1024 bytes are ignored)\n",
      "Total Size: 15936.77 MB\n",
      "Average Size per ISA: 692.90 MB\n",
      "Median Size per ISA: 574.67 MB\n"
     ]
    },
    {
     "data": {
      "text/markdown": [
       "| Architecture | Endianness | Instruction Width Type | Total Size (MB) | Number of Files |\n",
       "|--------------|------------|-----------------------|-----------------|-----------------|\n",
       "| alpha | little | fixed | 925.77 | 3952 |\n",
       "| amd64 | little | variable | 564.43 | 4059 |\n",
       "| arm64 | little | fixed | 418.50 | 3518 |\n",
       "| armel | little | fixed | 466.91 | 3814 |\n",
       "| armhf | little | fixed | 331.34 | 3674 |\n",
       "| hppa | big | fixed | 940.76 | 4830 |\n",
       "| i386 | little | variable | 519.50 | 4484 |\n",
       "| ia64 | little | variable | 2044.75 | 4983 |\n",
       "| m68k | big | variable | 684.06 | 4313 |\n",
       "| mips | big | fixed | 545.13 | 3547 |\n",
       "| mips64el | little | fixed | 1117.75 | 4280 |\n",
       "| mipsel | little | fixed | 545.68 | 3693 |\n",
       "| powerpc | big | fixed | 547.82 | 3618 |\n",
       "| powerpcspe | big | fixed | 790.11 | 3922 |\n",
       "| ppc64 | big | fixed | 771.06 | 2822 |\n",
       "| ppc64el | little | fixed | 574.67 | 3521 |\n",
       "| riscv64 | little | fixed | 605.14 | 4285 |\n",
       "| s390 | big | variable | 360.46 | 5118 |\n",
       "| s390x | big | variable | 532.86 | 3511 |\n",
       "| sh4 | little | fixed | 723.25 | 5854 |\n",
       "| sparc | big | fixed | 362.99 | 4923 |\n",
       "| sparc64 | big | fixed | 844.07 | 3205 |\n",
       "| x32 | little | variable | 719.76 | 4059 |\n"
      ],
      "text/plain": [
       "<IPython.core.display.Markdown object>"
      ]
     },
     "metadata": {},
     "output_type": "display_data"
    },
    {
     "name": "stdout",
     "output_type": "stream",
     "text": [
      "Endianness Distribution:\n"
     ]
    },
    {
     "data": {
      "text/markdown": [
       "| Endianness | No. samples | Percentage |\n",
       "|------------|-------------|------------|\n",
       "| big | 39809 | 42.36% |\n",
       "| little | 54176 | 57.64% |\n"
      ],
      "text/plain": [
       "<IPython.core.display.Markdown object>"
      ]
     },
     "metadata": {},
     "output_type": "display_data"
    },
    {
     "name": "stdout",
     "output_type": "stream",
     "text": [
      "Instruction Width Type Distribution:\n"
     ]
    },
    {
     "data": {
      "text/markdown": [
       "| Instruction Width Type | No. samples | Percentage |\n",
       "|-----------------------|-------------|------------|\n",
       "| variable | 30527 | 32.48% |\n",
       "| fixed | 63458 | 67.52% |\n"
      ],
      "text/plain": [
       "<IPython.core.display.Markdown object>"
      ]
     },
     "metadata": {},
     "output_type": "display_data"
    },
    {
     "name": "stdout",
     "output_type": "stream",
     "text": [
      "==========================\n"
     ]
    }
   ],
   "source": [
    "# SAMPLE CSV\n",
    "\"\"\"\n",
    "architecture;endianness;wordsize;instructionwidth_type;instructionwidth;comment\n",
    "alpha;little;64;fixed;32;\"none\"\n",
    "amd64;little;64;variable;na;\"none\"\n",
    "\"\"\"\n",
    "csv = Path().resolve().parent.parent / \"dataset\" / \"ISAdetect-features.csv\"\n",
    "df = pd.read_csv(csv, delimiter=\";\")\n",
    "\n",
    "dataset_folder = (\n",
    "    Path().resolve().parent.parent / \"dataset\" / \"ISAdetect\" / \"ISAdetect_full_dataset\"\n",
    ")\n",
    "total_samples = 0\n",
    "total_size = 0\n",
    "arch_details = {}\n",
    "\n",
    "for folder in dataset_folder.iterdir():\n",
    "    if folder.is_dir():\n",
    "        # Get the architecture from the folder name\n",
    "        architecture = folder.name\n",
    "        # Get the corresponding row in the DataFrame\n",
    "        row = df[df[\"architecture\"] == architecture]\n",
    "        if not row.empty:\n",
    "            # Extract the features from the DataFrame\n",
    "            endianness = row.iloc[0][\"endianness\"]\n",
    "            instructionwidth_type = row.iloc[0][\"instructionwidth_type\"]\n",
    "            # Get the size of the folder\n",
    "            isa_size, num_files, avg_size = get_folder_size_ISAdetect(folder, 1024)\n",
    "\n",
    "            arch_details[architecture] = {\n",
    "                \"endianness\": endianness,\n",
    "                \"instructionwidth_type\": instructionwidth_type,\n",
    "                \"isa_size\": isa_size,\n",
    "                \"num_files\": num_files,\n",
    "                \"avg_size\": avg_size,\n",
    "            }\n",
    "            total_samples += num_files\n",
    "            total_size += isa_size\n",
    "\n",
    "print(\"ISAdetect Arch_details: (files smaller than 1024 bytes are ignored)\")\n",
    "print(f\"Total Size: {total_size / 1024**2:.2f} MB\")\n",
    "print(f\"Average Size per ISA: {total_size / len(arch_details.keys()) / 1024**2:.2f} MB\")\n",
    "# Calculate median size per ISA\n",
    "median_size = statistics.median(\n",
    "    [details[\"isa_size\"] for details in arch_details.values()]\n",
    ")\n",
    "print(f\"Median Size per ISA: {median_size / 1024**2:.2f} MB\")\n",
    "\n",
    "# Prepare markdown table header\n",
    "md_table = \"| Architecture | Endianness | Instruction Width Type | Total Size (MB) | Number of Files |\\n\"  # Average File Size (MB) |\\n\"\n",
    "md_table += \"|--------------|------------|-----------------------|-----------------|-----------------|\\n\"  # -----------------------|\\n\"\n",
    "\n",
    "# Fill table rows\n",
    "for arch in sorted(arch_details.keys()):\n",
    "    details = arch_details[arch]\n",
    "    md_table += (\n",
    "        f\"| {arch} | {details['endianness']} | {details['instructionwidth_type']} | \"\n",
    "        f\"{details['isa_size']/1024**2:.2f} | {details['num_files']} |\\n\"  # {details['avg_size']/1024**2:.2f} |\\n\"\n",
    "    )\n",
    "\n",
    "display(Markdown(md_table))\n",
    "\n",
    "print(\"Endianness Distribution:\")\n",
    "endianness_distribution = {}\n",
    "for details in arch_details.values():\n",
    "    endianness = details[\"endianness\"]\n",
    "    if endianness not in endianness_distribution:\n",
    "        endianness_distribution[endianness] = 0\n",
    "    endianness_distribution[endianness] += details[\"num_files\"]\n",
    "total = sum(endianness_distribution.values())\n",
    "md_endianness = \"| Endianness | No. samples | Percentage |\\n|------------|-------------|------------|\\n\"\n",
    "for endianness, count in endianness_distribution.items():\n",
    "    percent = (count / total) * 100\n",
    "    md_endianness += f\"| {endianness} | {count} | {percent:.2f}% |\\n\"\n",
    "display(Markdown(md_endianness))\n",
    "\n",
    "print(\"Instruction Width Type Distribution:\")\n",
    "instructionwidth_type_distribution = {}\n",
    "for details in arch_details.values():\n",
    "    instructionwidth_type = details[\"instructionwidth_type\"]\n",
    "    if instructionwidth_type not in instructionwidth_type_distribution:\n",
    "        instructionwidth_type_distribution[instructionwidth_type] = 0\n",
    "    instructionwidth_type_distribution[instructionwidth_type] += details[\"num_files\"]\n",
    "total = sum(instructionwidth_type_distribution.values())\n",
    "md_instructionwidth = \"| Instruction Width Type | No. samples | Percentage |\\n|-----------------------|-------------|------------|\\n\"\n",
    "for instructionwidth_type, count in instructionwidth_type_distribution.items():\n",
    "    percent = (count / total) * 100\n",
    "    md_instructionwidth += f\"| {instructionwidth_type} | {count} | {percent:.2f}% |\\n\"\n",
    "display(Markdown(md_instructionwidth))\n",
    "print(\"==========================\")"
   ]
  },
  {
   "cell_type": "markdown",
   "id": "48bbe410",
   "metadata": {},
   "source": [
    "#### CpuRec\n"
   ]
  },
  {
   "cell_type": "code",
   "execution_count": 3,
   "id": "b83820fd",
   "metadata": {},
   "outputs": [
    {
     "name": "stdout",
     "output_type": "stream",
     "text": [
      "CpuRec Arch_details: \n",
      "Total Size: 20.98 MB\n"
     ]
    },
    {
     "data": {
      "text/markdown": [
       "| Architecture | Endianness | Instruction Width Type | Total Size (kB) |\n",
       "|--------------|------------|-----------------------|-----------------|\n",
       "| 6502 | little | variable | 6.57 |\n",
       "| 68HC08 | big | variable | 18.39 |\n",
       "| 68HC11 | big | variable | 25.17 |\n",
       "| 8051 | unknown | variable | 15.76 |\n",
       "| ARC32eb | big | variable | 46.09 |\n",
       "| ARC32el | little | variable | 45.88 |\n",
       "| ARM64 | little | fixed | 345.32 |\n",
       "| ARMeb | big | fixed | 896.44 |\n",
       "| ARMel | little | fixed | 329.23 |\n",
       "| ARMhf | little | fixed | 230.78 |\n",
       "| ARcompact | little | variable | 118.12 |\n",
       "| AVR | unknown | variable | 193.40 |\n",
       "| Alpha | little | fixed | 1065.17 |\n",
       "| AxisCris | little | variable | 61.11 |\n",
       "| Blackfin | little | variable | 104.82 |\n",
       "| CLIPPER | little | variable | 1059.47 |\n",
       "| Cell-SPU | unknown | unknown | 290.22 |\n",
       "| CompactRISC | little | variable | 56.58 |\n",
       "| Cray | unknown | variable | 1120.00 |\n",
       "| Epiphany | little | variable | 69.03 |\n",
       "| FR-V | big | fixed | 175.25 |\n",
       "| FR30 | big | fixed | 141.42 |\n",
       "| FT32 | little | fixed | 179.18 |\n",
       "| H8-300 | big | variable | 163.47 |\n",
       "| H8S | unknown | variable | 81.52 |\n",
       "| HP-Focus | unknown | variable | 408.00 |\n",
       "| HP-PA | big | fixed | 1057.03 |\n",
       "| IA-64 | little | variable | 423.41 |\n",
       "| IQ2000 | big | fixed | 178.65 |\n",
       "| M32C | little | variable | 173.75 |\n",
       "| M32R | big | fixed | 121.89 |\n",
       "| M68k | big | variable | 728.19 |\n",
       "| M88k | big | fixed | 351.18 |\n",
       "| MCore | little | fixed | 101.30 |\n",
       "| MIPS16 | unknown | fixed | 95.62 |\n",
       "| MIPSeb | big | fixed | 747.85 |\n",
       "| MIPSel | little | fixed | 425.16 |\n",
       "| MMIX | big | fixed | 387.71 |\n",
       "| MN10300 | little | variable | 114.29 |\n",
       "| MSP430 | little | variable | 301.51 |\n",
       "| Mico32 | big | fixed | 163.39 |\n",
       "| MicroBlaze | big | fixed | 192.71 |\n",
       "| Moxie | big | variable | 140.64 |\n",
       "| NDS32 | little | variable | 94.04 |\n",
       "| NIOS-II | little | fixed | 139.11 |\n",
       "| PDP-11 | unknown | variable | 124.00 |\n",
       "| PIC10 | unknown | fixed | 8.89 |\n",
       "| PIC16 | unknown | fixed | 39.16 |\n",
       "| PIC18 | unknown | fixed | 45.89 |\n",
       "| PIC24 | little | fixed | 82.67 |\n",
       "| PPCeb | big | fixed | 403.82 |\n",
       "| PPCel | little | fixed | 462.20 |\n",
       "| RISC-V | little | fixed | 69.24 |\n",
       "| RL78 | little | variable | 337.46 |\n",
       "| ROMP | big | variable | 440.00 |\n",
       "| RX | little | variable | 87.12 |\n",
       "| S-390 | big | variable | 453.77 |\n",
       "| SPARC | big | fixed | 1376.51 |\n",
       "| STM8 | unknown | variable | 15.35 |\n",
       "| Stormy16 | little | variable | 138.34 |\n",
       "| SuperH | little | fixed | 876.43 |\n",
       "| TILEPro | unknown | variable | 112.16 |\n",
       "| TLCS-90 | unknown | variable | 23.18 |\n",
       "| TMS320C2x | unknown | variable | 44.94 |\n",
       "| TMS320C6x | unknown | fixed | 105.53 |\n",
       "| TriMedia | unknown | unknown | 462.70 |\n",
       "| V850 | little | variable | 132.65 |\n",
       "| VAX | little | variable | 318.00 |\n",
       "| Visium | big | fixed | 274.00 |\n",
       "| WE32000 | unknown | unknown | 326.32 |\n",
       "| X86 | little | variable | 396.49 |\n",
       "| X86-64 | little | variable | 375.41 |\n",
       "| Xtensa | unknown | variable | 87.56 |\n",
       "| XtensaEB | big | variable | 66.03 |\n",
       "| Z80 | little | variable | 20.86 |\n",
       "| i860 | unknown | fixed | 598.00 |\n"
      ],
      "text/plain": [
       "<IPython.core.display.Markdown object>"
      ]
     },
     "metadata": {},
     "output_type": "display_data"
    },
    {
     "name": "stdout",
     "output_type": "stream",
     "text": [
      "Endianness Distribution:\n"
     ]
    },
    {
     "data": {
      "text/markdown": [
       "| Endianness | No. samples | Percentage |\n",
       "|------------|-------------|------------|\n",
       "| big | 23 | 41.07% |\n",
       "| little | 33 | 58.93% |\n"
      ],
      "text/plain": [
       "<IPython.core.display.Markdown object>"
      ]
     },
     "metadata": {},
     "output_type": "display_data"
    },
    {
     "name": "stdout",
     "output_type": "stream",
     "text": [
      "Instruction Width Type Distribution:\n"
     ]
    },
    {
     "data": {
      "text/markdown": [
       "| Instruction Width Type | No. samples | Percentage |\n",
       "|-----------------------|-------------|------------|\n",
       "| variable | 41 | 56.16% |\n",
       "| fixed | 32 | 43.84% |\n"
      ],
      "text/plain": [
       "<IPython.core.display.Markdown object>"
      ]
     },
     "metadata": {},
     "output_type": "display_data"
    },
    {
     "name": "stdout",
     "output_type": "stream",
     "text": [
      "==========================\n"
     ]
    }
   ],
   "source": [
    "# SAMPLE CSV\n",
    "\"\"\"\n",
    "architecture;endianness;wordsize;instructionwidth_type;instructionwidth;comment\n",
    "alpha;little;64;fixed;32;\"none\"\n",
    "amd64;little;64;variable;na;\"none\"\n",
    "\"\"\"\n",
    "csv = Path().resolve().parent.parent / \"dataset\" / \"cpu_rec-features.csv\"\n",
    "df = pd.read_csv(csv, delimiter=\";\")\n",
    "\n",
    "dataset_folder = (\n",
    "    Path().resolve().parent.parent / \"dataset\" / \"cpu_rec\" / \"cpu_rec_corpus\"\n",
    ")\n",
    "no_samples_endianness = 0\n",
    "no_samples_instructionwidth_type = 0\n",
    "total_size = 0\n",
    "arch_sizes = get_file_sizes_CpuRec(dataset_folder)\n",
    "arch_details = {}\n",
    "\n",
    "for arch in arch_sizes.keys():\n",
    "    # Get the corresponding row in the DataFrame\n",
    "    row = df[df[\"architecture\"] == arch]\n",
    "    if not row.empty:\n",
    "        arch_details[arch] = {}\n",
    "        # Extract the features from the DataFrame\n",
    "        endianness = row.iloc[0][\"endianness\"]\n",
    "        instructionwidth_type = row.iloc[0][\"instructionwidth_type\"]\n",
    "        # Get the size of the folder\n",
    "        if endianness in [\"little\", \"big\"]:\n",
    "            no_samples_endianness += 1\n",
    "        else:\n",
    "            endianness = \"unknown\"\n",
    "        if instructionwidth_type in [\"fixed\", \"variable\"]:\n",
    "            no_samples_instructionwidth_type += 1\n",
    "        else:\n",
    "            instructionwidth_type = \"unknown\"\n",
    "        arch_details[arch][\"endianness\"] = endianness\n",
    "        arch_details[arch][\"instructionwidth_type\"] = instructionwidth_type\n",
    "        arch_details[arch][\"num_files\"] = 1\n",
    "        arch_details[arch][\"isa_size\"] = arch_sizes[arch][\"file_size\"]\n",
    "        total_size += arch_details[arch][\"isa_size\"]\n",
    "\n",
    "print(\"CpuRec Arch_details: \")\n",
    "print(f\"Total Size: {total_size / 1024**2:.2f} MB\")\n",
    "\n",
    "# Prepare markdown table header\n",
    "md_table = \"| Architecture | Endianness | Instruction Width Type | Total Size (kB) |\\n\"\n",
    "md_table += \"|--------------|------------|-----------------------|-----------------|\\n\"\n",
    "\n",
    "# Fill table rows\n",
    "for arch in sorted(arch_details.keys()):\n",
    "    details = arch_details[arch]\n",
    "    md_table += (\n",
    "        f\"| {arch} | {details['endianness']} | {details['instructionwidth_type']} | \"\n",
    "        f\"{details['isa_size']/1024:.2f} |\\n\"\n",
    "    )\n",
    "\n",
    "display(Markdown(md_table))\n",
    "\n",
    "print(\"Endianness Distribution:\")\n",
    "endianness_distribution = {}\n",
    "for details in arch_details.values():\n",
    "    endianness = details[\"endianness\"]\n",
    "    if endianness == \"unknown\":\n",
    "        continue\n",
    "    if endianness not in endianness_distribution:\n",
    "        endianness_distribution[endianness] = 0\n",
    "    endianness_distribution[endianness] += details[\"num_files\"]\n",
    "total = sum(endianness_distribution.values())\n",
    "md_endianness = \"| Endianness | No. samples | Percentage |\\n|------------|-------------|------------|\\n\"\n",
    "for endianness, count in endianness_distribution.items():\n",
    "    percent = (count / total) * 100\n",
    "    md_endianness += f\"| {endianness} | {count} | {percent:.2f}% |\\n\"\n",
    "display(Markdown(md_endianness))\n",
    "\n",
    "print(\"Instruction Width Type Distribution:\")\n",
    "instructionwidth_type_distribution = {}\n",
    "for details in arch_details.values():\n",
    "    instructionwidth_type = details[\"instructionwidth_type\"]\n",
    "    if instructionwidth_type == \"unknown\":\n",
    "        continue\n",
    "    if instructionwidth_type not in instructionwidth_type_distribution:\n",
    "        instructionwidth_type_distribution[instructionwidth_type] = 0\n",
    "    instructionwidth_type_distribution[instructionwidth_type] += details[\"num_files\"]\n",
    "total = sum(instructionwidth_type_distribution.values())\n",
    "md_instructionwidth = \"| Instruction Width Type | No. samples | Percentage |\\n|-----------------------|-------------|------------|\\n\"\n",
    "for instructionwidth_type, count in instructionwidth_type_distribution.items():\n",
    "    percent = (count / total) * 100\n",
    "    md_instructionwidth += f\"| {instructionwidth_type} | {count} | {percent:.2f}% |\\n\"\n",
    "display(Markdown(md_instructionwidth))\n",
    "print(\"==========================\")"
   ]
  },
  {
   "cell_type": "markdown",
   "id": "ac1617ea",
   "metadata": {},
   "source": [
    "##### BuildCross\n"
   ]
  },
  {
   "cell_type": "code",
   "execution_count": 4,
   "id": "b7f7b60b",
   "metadata": {},
   "outputs": [
    {
     "name": "stdout",
     "output_type": "stream",
     "text": [
      "BuildCross Arch_details:\n",
      "(Files smaller than 1024 bytes are ignored)\n",
      "(No Samples are counted in 1024 bytes, with filesplitting)\n",
      "Total Size: 119.88 MB\n",
      "Average Size per ISA: 3.00 MB\n",
      "Median Size per ISA: 2.51 MB\n"
     ]
    },
    {
     "data": {
      "text/markdown": [
       "| Architecture | Endianness | Instruction Width Type| Total Size (MB) | Number of Files | No. 1024 sized samples | Average File Size (MB) |\n",
       "|--------------|------------|-----------------------|-----------------|-----------------|------------------------|------------------------|\n",
       "| arc | little | variable | 3.23 | 14 | 3299 | 0.23 |\n",
       "| arceb | big | variable | 1.70 | 12 | 1731 | 0.14 |\n",
       "| bfin | little | variable | 2.88 | 14 | 2942 | 0.21 |\n",
       "| bpf | little | fixed | 0.02 | 1 | 19 | 0.02 |\n",
       "| c6x | big | fixed | 5.55 | 8 | 5679 | 0.69 |\n",
       "| cr16 | little | variable | 1.97 | 13 | 2012 | 0.15 |\n",
       "| cris | little | variable | 3.98 | 14 | 4074 | 0.28 |\n",
       "| csky | little | variable | 4.15 | 14 | 4247 | 0.30 |\n",
       "| epiphany | little | variable | 0.46 | 6 | 471 | 0.08 |\n",
       "| fr30 | big | variable | 2.17 | 7 | 2223 | 0.31 |\n",
       "| frv | big | fixed | 4.93 | 14 | 5037 | 0.35 |\n",
       "| ft32 | little | fixed | 0.44 | 9 | 440 | 0.05 |\n",
       "| h8300 | big | variable | 4.30 | 9 | 4402 | 0.48 |\n",
       "| iq2000 | big | fixed | 2.41 | 8 | 2466 | 0.30 |\n",
       "| kvx | little | variable | 4.90 | 14 | 5016 | 0.35 |\n",
       "| lm32 | big | fixed | 3.32 | 13 | 3396 | 0.26 |\n",
       "| loongarch64 | little | fixed | 4.71 | 14 | 4818 | 0.34 |\n",
       "| m32r | big | fixed | 1.96 | 12 | 1997 | 0.16 |\n",
       "| m68k-elf | big | variable | 1.83 | 12 | 1866 | 0.15 |\n",
       "| mcore | little | fixed | 1.24 | 7 | 1270 | 0.18 |\n",
       "| mcoreeb | big | fixed | 1.24 | 7 | 1270 | 0.18 |\n",
       "| microblaze | big | fixed | 5.74 | 14 | 5867 | 0.41 |\n",
       "| microblazeel | little | fixed | 5.71 | 14 | 5840 | 0.41 |\n",
       "| mmix | big | fixed | 4.22 | 13 | 4314 | 0.32 |\n",
       "| mn10300 | little | variable | 1.70 | 12 | 1732 | 0.14 |\n",
       "| moxie | big | variable | 2.19 | 12 | 2237 | 0.18 |\n",
       "| moxieel | little | variable | 2.19 | 12 | 2232 | 0.18 |\n",
       "| msp430 | little | variable | 0.42 | 5 | 432 | 0.08 |\n",
       "| nds32 | little | variable | 2.85 | 14 | 2908 | 0.20 |\n",
       "| nios2 | little | fixed | 4.21 | 14 | 4301 | 0.30 |\n",
       "| or1k | big | fixed | 5.42 | 14 | 5544 | 0.39 |\n",
       "| pru | little | fixed | 2.39 | 8 | 2443 | 0.30 |\n",
       "| rl78 | little | variable | 0.63 | 5 | 643 | 0.13 |\n",
       "| rx | little | variable | 1.46 | 12 | 1486 | 0.12 |\n",
       "| tilegx | little | fixed | 11.71 | 14 | 11986 | 0.84 |\n",
       "| tricore | little | variable | 1.61 | 8 | 1646 | 0.20 |\n",
       "| v850 | little | variable | 3.53 | 10 | 3609 | 0.35 |\n",
       "| visium | big | fixed | 3.41 | 12 | 3488 | 0.28 |\n",
       "| xstormy16 | little | variable | 0.48 | 5 | 490 | 0.10 |\n",
       "| xtensa | big | variable | 2.61 | 14 | 2669 | 0.19 |\n"
      ],
      "text/plain": [
       "<IPython.core.display.Markdown object>"
      ]
     },
     "metadata": {},
     "output_type": "display_data"
    },
    {
     "name": "stdout",
     "output_type": "stream",
     "text": [
      "Endianness Distribution:\n"
     ]
    },
    {
     "data": {
      "text/markdown": [
       "| Endianness | No. 1024 byte samples | Percentage of samples | Architecture count | Percentage of architectures |\n",
       "|------------|----------------------|----------------------|-------------------|----------------------------|\n",
       "| big | 54186 | 44.22% | 16 | 40.00% |\n",
       "| little | 68356 | 55.78% | 24 | 60.00% |\n"
      ],
      "text/plain": [
       "<IPython.core.display.Markdown object>"
      ]
     },
     "metadata": {},
     "output_type": "display_data"
    },
    {
     "name": "stdout",
     "output_type": "stream",
     "text": [
      "Instruction Width Type Distribution:\n"
     ]
    },
    {
     "data": {
      "text/markdown": [
       "| Instruction Width Type | No. 1024 byte samples | Percentage of samples | Architecture count | Percentage of architectures |\n",
       "|-----------------------|----------------------|----------------------|-------------------|----------------------------|\n",
       "| variable | 52367 | 42.73% | 22 | 55.00% |\n",
       "| fixed | 70175 | 57.27% | 18 | 45.00% |\n"
      ],
      "text/plain": [
       "<IPython.core.display.Markdown object>"
      ]
     },
     "metadata": {},
     "output_type": "display_data"
    },
    {
     "name": "stdout",
     "output_type": "stream",
     "text": [
      "==========================\n"
     ]
    }
   ],
   "source": [
    "import statistics\n",
    "\n",
    "# SAMPLE CSV\n",
    "\"\"\"\n",
    "architecture;endianness;wordsize;instructionwidth_type;instructionwidth;comment\n",
    "alpha;little;64;fixed;32;\"none\"\n",
    "amd64;little;64;variable;na;\"none\"\n",
    "\"\"\"\n",
    "csv = Path().resolve().parent.parent / \"dataset\" / \"buildcross\" / \"labels.csv\"\n",
    "df = pd.read_csv(csv, delimiter=\";\")\n",
    "\n",
    "dataset_folder = Path().resolve().parent.parent / \"dataset\" / \"buildcross\" / \"text_bin\"\n",
    "total_samples = 0\n",
    "total_size = 0\n",
    "arch_details = {}\n",
    "\n",
    "for folder in dataset_folder.iterdir():\n",
    "    if folder.is_dir():\n",
    "        # Get the architecture from the folder name\n",
    "        architecture = folder.name\n",
    "        # Get the corresponding row in the DataFrame\n",
    "        row = df[df[\"architecture\"] == architecture]\n",
    "        if not row.empty:\n",
    "            # Extract the features from the DataFrame\n",
    "            endianness = row.iloc[0][\"endianness\"]\n",
    "            instructionwidth_type = row.iloc[0][\"instructionwidth_type\"]\n",
    "            # Get the size of the folder\n",
    "            isa_size, num_files, num_512_files, num_1024_files, avg_size = (\n",
    "                get_folder_size_BuildCross(folder, 1024)\n",
    "            )\n",
    "\n",
    "            arch_details[architecture] = {\n",
    "                \"endianness\": endianness,\n",
    "                \"instructionwidth_type\": instructionwidth_type,\n",
    "                \"size\": isa_size,\n",
    "                \"num_files\": num_files,\n",
    "                \"num_1024_files\": num_1024_files,\n",
    "                \"num_512_files\": num_512_files,\n",
    "                \"avg_size\": avg_size,\n",
    "            }\n",
    "            total_samples += num_files\n",
    "            total_size += isa_size\n",
    "\n",
    "print(\"BuildCross Arch_details:\")\n",
    "print(\"(Files smaller than 1024 bytes are ignored)\")\n",
    "print(\"(No Samples are counted in 1024 bytes, with filesplitting)\")\n",
    "print(f\"Total Size: {total_size / 1024**2:.2f} MB\")\n",
    "print(f\"Average Size per ISA: {total_size / len(arch_details.keys()) / 1024**2:.2f} MB\")\n",
    "# Calculate median size per ISA\n",
    "median_size = statistics.median([details[\"size\"] for details in arch_details.values()])\n",
    "print(f\"Median Size per ISA: {median_size / 1024**2:.2f} MB\")\n",
    "\n",
    "# Prepare markdown table header\n",
    "md_table = \"| Architecture | Endianness | Instruction Width Type| Total Size (MB) | Number of Files | No. 1024 sized samples | Average File Size (MB) |\\n\"\n",
    "md_table += \"|--------------|------------|-----------------------|-----------------|-----------------|------------------------|------------------------|\\n\"\n",
    "\n",
    "# Fill table rows\n",
    "for arch in sorted(arch_details.keys()):\n",
    "    details = arch_details[arch]\n",
    "    md_table += (\n",
    "        f\"| {arch} | {details['endianness']} | {details['instructionwidth_type']} | \"\n",
    "        f\"{details['size']/1024**2:.2f} | {details['num_files']} | {details['num_1024_files']} | {details['avg_size']/1024**2:.2f} |\\n\"\n",
    "    )\n",
    "\n",
    "display(Markdown(md_table))\n",
    "\n",
    "print(\"Endianness Distribution:\")\n",
    "endianness_distribution = {}\n",
    "endianness_arch_count = {}  # Count of architectures per endianness\n",
    "for details in arch_details.values():\n",
    "    endianness = details[\"endianness\"]\n",
    "    if endianness not in [\"little\", \"big\"]:\n",
    "        continue\n",
    "    if endianness not in endianness_distribution:\n",
    "        endianness_distribution[endianness] = 0\n",
    "        endianness_arch_count[endianness] = 0\n",
    "    endianness_distribution[endianness] += details[\"num_1024_files\"]\n",
    "    endianness_arch_count[endianness] += 1\n",
    "\n",
    "total_samples = sum(endianness_distribution.values())\n",
    "total_archs = len(arch_details)\n",
    "\n",
    "md_endianness = \"| Endianness | No. 1024 byte samples | Percentage of samples | Architecture count | Percentage of architectures |\\n\"\n",
    "md_endianness += \"|------------|----------------------|----------------------|-------------------|----------------------------|\\n\"\n",
    "for endianness, count in endianness_distribution.items():\n",
    "    sample_percent = (count / total_samples) * 100\n",
    "    arch_count = endianness_arch_count[endianness]\n",
    "    arch_percent = (arch_count / total_archs) * 100\n",
    "    md_endianness += f\"| {endianness} | {count} | {sample_percent:.2f}% | {arch_count} | {arch_percent:.2f}% |\\n\"\n",
    "display(Markdown(md_endianness))\n",
    "\n",
    "print(\"Instruction Width Type Distribution:\")\n",
    "instructionwidth_type_distribution = {}\n",
    "instructionwidth_type_arch_count = (\n",
    "    {}\n",
    ")  # Count of architectures per instruction width type\n",
    "for details in arch_details.values():\n",
    "    instructionwidth_type = details[\"instructionwidth_type\"]\n",
    "    if instructionwidth_type not in [\"fixed\", \"variable\"]:\n",
    "        continue\n",
    "    if instructionwidth_type not in instructionwidth_type_distribution:\n",
    "        instructionwidth_type_distribution[instructionwidth_type] = 0\n",
    "        instructionwidth_type_arch_count[instructionwidth_type] = 0\n",
    "    instructionwidth_type_distribution[instructionwidth_type] += details[\n",
    "        \"num_1024_files\"\n",
    "    ]\n",
    "    instructionwidth_type_arch_count[instructionwidth_type] += 1\n",
    "\n",
    "total = sum(instructionwidth_type_distribution.values())\n",
    "md_instructionwidth = \"| Instruction Width Type | No. 1024 byte samples | Percentage of samples | Architecture count | Percentage of architectures |\\n\"\n",
    "md_instructionwidth += \"|-----------------------|----------------------|----------------------|-------------------|----------------------------|\\n\"\n",
    "for instructionwidth_type, count in instructionwidth_type_distribution.items():\n",
    "    percent = (count / total) * 100\n",
    "    arch_count = instructionwidth_type_arch_count[instructionwidth_type]\n",
    "    arch_percent = (arch_count / total_archs) * 100\n",
    "    md_instructionwidth += f\"| {instructionwidth_type} | {count} | {percent:.2f}% | {arch_count} | {arch_percent:.2f}% |\\n\"\n",
    "display(Markdown(md_instructionwidth))\n",
    "print(\"==========================\")"
   ]
  }
 ],
 "metadata": {
  "kernelspec": {
   "display_name": "3.12.8",
   "language": "python",
   "name": "python3"
  },
  "language_info": {
   "codemirror_mode": {
    "name": "ipython",
    "version": 3
   },
   "file_extension": ".py",
   "mimetype": "text/x-python",
   "name": "python",
   "nbconvert_exporter": "python",
   "pygments_lexer": "ipython3",
   "version": "3.12.8"
  }
 },
 "nbformat": 4,
 "nbformat_minor": 5
}
