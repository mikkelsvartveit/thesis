{
 "cells": [
  {
   "cell_type": "code",
   "execution_count": 2,
   "metadata": {},
   "outputs": [
    {
     "name": "stdout",
     "output_type": "stream",
     "text": [
      "Parameters per layer:\n",
      "----------------------------------------\n",
      "block0.0                         256\n",
      "block1.0                      12,320\n",
      "block1.1                       5,152\n",
      "block2.0                       6,208\n",
      "block2.1                      20,544\n",
      "block3.0                      24,704\n",
      "block3.1                      82,048\n",
      "dense1                         1,032\n",
      "dense2                            18\n",
      "----------------------------------------\n",
      "Total                        152,282\n"
     ]
    }
   ],
   "source": [
    "# Specify model here\n",
    "from src.models import Simple1d as model\n",
    "\n",
    "\n",
    "def get_parameter_count(model):\n",
    "    # Dictionary to store parameters for each layer\n",
    "    layer_params = {}\n",
    "\n",
    "    # Collect parameters for each layer\n",
    "    for name, param in model.named_parameters():\n",
    "        if param.requires_grad:\n",
    "            # Extract the layer name (everything before the last dot)\n",
    "            layer_name = name.rsplit(\".\", 1)[0]\n",
    "            num_params = param.numel()\n",
    "            layer_params[layer_name] = layer_params.get(layer_name, 0) + num_params\n",
    "\n",
    "    # Print total parameters for each layer\n",
    "    print(\"Parameters per layer:\")\n",
    "    print(\"-\" * 40)\n",
    "    for layer_name, total_params in layer_params.items():\n",
    "        print(f\"{layer_name:25} {total_params:>10,d}\")\n",
    "    print(\"-\" * 40)\n",
    "    print(f\"{'Total':25} {sum(layer_params.values()):>10,d}\")\n",
    "\n",
    "\n",
    "get_parameter_count(model())"
   ]
  },
  {
   "cell_type": "code",
   "execution_count": null,
   "metadata": {},
   "outputs": [],
   "source": []
  }
 ],
 "metadata": {
  "kernelspec": {
   "display_name": ".venv",
   "language": "python",
   "name": "python3"
  },
  "language_info": {
   "codemirror_mode": {
    "name": "ipython",
    "version": 3
   },
   "file_extension": ".py",
   "mimetype": "text/x-python",
   "name": "python",
   "nbconvert_exporter": "python",
   "pygments_lexer": "ipython3",
   "version": "3.12.9"
  }
 },
 "nbformat": 4,
 "nbformat_minor": 2
}
